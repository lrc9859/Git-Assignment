{
  "nbformat": 4,
  "nbformat_minor": 0,
  "metadata": {
    "colab": {
      "name": "DL Lab 1.5 .ipynb",
      "provenance": [],
      "collapsed_sections": [
        "FWYnKhbyx0KM",
        "v-o-LSWc29jo",
        "05HisOUCOCCj",
        "idqRlqBG9wFn",
        "XEyfkepV96Pm",
        "XggkFWsS-JV9",
        "qAVFgP7QPeve",
        "Qh3_vk4VQeXy",
        "k5IWLnfEST6F"
      ],
      "include_colab_link": true
    },
    "kernelspec": {
      "name": "python3",
      "display_name": "Python 3"
    },
    "language_info": {
      "name": "python"
    }
  },
  "cells": [
    {
      "cell_type": "markdown",
      "metadata": {
        "id": "view-in-github",
        "colab_type": "text"
      },
      "source": [
        "<a href=\"https://colab.research.google.com/github/lrc9859/Git-Assignment/blob/master/DL_Lab_1_5_.ipynb\" target=\"_parent\"><img src=\"https://colab.research.google.com/assets/colab-badge.svg\" alt=\"Open In Colab\"/></a>"
      ]
    },
    {
      "cell_type": "markdown",
      "metadata": {
        "id": "FWYnKhbyx0KM"
      },
      "source": [
        "# Activation Functions\n",
        "\n",
        "_Adapted from University of Amsterdam's Deep Learning Tutorials:_\n",
        "https://uvadlc-notebooks.readthedocs.io/en/latest/tutorial_notebooks/tutorial3/Activation_Functions.html "
      ]
    },
    {
      "cell_type": "code",
      "metadata": {
        "scrolled": true,
        "id": "xYvXrUDjxudo"
      },
      "source": [
        "## Standard libraries\n",
        "import os\n",
        "import json\n",
        "import math\n",
        "import numpy as np \n",
        "\n",
        "## Imports for plotting\n",
        "import matplotlib.pyplot as plt\n",
        "import seaborn as sns\n",
        "sns.set()\n",
        "\n",
        "\n",
        "## PyTorch\n",
        "import torch\n",
        "import torch.nn as nn\n",
        "import torch.nn.functional as F\n",
        "import torch.utils.data as data\n",
        "import torch.optim as optim"
      ],
      "execution_count": null,
      "outputs": []
    },
    {
      "cell_type": "code",
      "metadata": {
        "scrolled": true,
        "id": "2X1HY6kNxudq",
        "colab": {
          "base_uri": "https://localhost:8080/"
        },
        "outputId": "4cb08d68-9d6b-4eb4-8c43-07f92468ebef"
      },
      "source": [
        "# Fetching the device that will be used throughout this notebook\n",
        "device = torch.device(\"cpu\") if not torch.cuda.is_available() else torch.device(\"cuda:0\")\n",
        "print(\"Using device\", device)"
      ],
      "execution_count": null,
      "outputs": [
        {
          "output_type": "stream",
          "name": "stdout",
          "text": [
            "Using device cpu\n"
          ]
        }
      ]
    },
    {
      "cell_type": "markdown",
      "metadata": {
        "id": "lHO6FQ41xudt"
      },
      "source": [
        "## Common activation functions"
      ]
    },
    {
      "cell_type": "markdown",
      "metadata": {
        "id": "E1HF2QNixudt"
      },
      "source": [
        "As a first step, we will implement some common activation functions by ourselves. Of course, most of them can also be found in the `torch.nn` package (see the [documentation](https://pytorch.org/docs/stable/nn.html#non-linear-activations-weighted-sum-nonlinearity) for an overview).\n",
        "However, we'll write our own functions here for a better understanding and insights.\n",
        "\n",
        "For an easier time of comparing various activation functions, we start with defining a base class from which all our future modules will inherit:"
      ]
    },
    {
      "cell_type": "code",
      "metadata": {
        "scrolled": true,
        "id": "SSrGyQVdxudt"
      },
      "source": [
        "class ActivationFunction(nn.Module):\n",
        "    \n",
        "    def __init__(self):\n",
        "        super().__init__()\n",
        "        self.name = self.__class__.__name__\n",
        "        self.config = {\"name\": self.name}"
      ],
      "execution_count": null,
      "outputs": []
    },
    {
      "cell_type": "markdown",
      "metadata": {
        "id": "92vRIoPDxudu"
      },
      "source": [
        "Every activation function will be an `nn.Module` so that we can integrate them nicely in a network. We will use the `config` dictionary to store adjustable parameters for some activation functions.\n",
        "\n",
        "Next, we implement two of the \"oldest\" activation functions that are still commonly used for various tasks: sigmoid and tanh. \n",
        "Both the sigmoid and tanh activation can be also found as PyTorch functions (`torch.sigmoid`, `torch.tanh`) or as modules (`nn.Sigmoid`, `nn.Tanh`). \n",
        "Here, we implement them by hand:"
      ]
    },
    {
      "cell_type": "markdown",
      "metadata": {
        "id": "meod1uzl4F1K"
      },
      "source": [
        "###**TanH**\n",
        "\n",
        "tanh(x) = (e^x – e^-x) / (e^x + e^-x)"
      ]
    },
    {
      "cell_type": "code",
      "metadata": {
        "id": "eWvXjbqIyvfA"
      },
      "source": [
        "class Tanh(ActivationFunction):\n",
        "    \n",
        "    def forward(self, x):\n",
        "        return (torch.exp(x) - torch.exp(-x)) / (torch.exp(x) + torch.exp(-x))"
      ],
      "execution_count": null,
      "outputs": []
    },
    {
      "cell_type": "markdown",
      "metadata": {
        "id": "LBGCAVBr4Yls"
      },
      "source": [
        "###**Sigmoid**\n",
        "\n",
        "sigmoid(x) = 1/(1 + e^-x)\n"
      ]
    },
    {
      "cell_type": "code",
      "metadata": {
        "id": "g9fq8Tjpyt2Q"
      },
      "source": [
        "class Sigmoid(ActivationFunction):\n",
        "    \n",
        "    def forward(self, x):\n",
        "        return 1 / (1 + torch.exp(-x))"
      ],
      "execution_count": null,
      "outputs": []
    },
    {
      "cell_type": "markdown",
      "metadata": {
        "id": "U_zMud1b5fzj"
      },
      "source": [
        "###**ReLU**\n",
        "\n",
        "ReLU(x) = max(0,x)"
      ]
    },
    {
      "cell_type": "code",
      "metadata": {
        "scrolled": true,
        "id": "5EUhuy7xxudv"
      },
      "source": [
        "class ReLU(ActivationFunction):\n",
        "    \n",
        "    def forward(self, x):\n",
        "        return x * (x > 0).float()"
      ],
      "execution_count": null,
      "outputs": []
    },
    {
      "cell_type": "markdown",
      "metadata": {
        "id": "Cc47vlyN6P34"
      },
      "source": [
        "### **Leaky ReLU**\n",
        "\n",
        "LeakyReLU(x) = 0.01x if x < 0 else x"
      ]
    },
    {
      "cell_type": "code",
      "metadata": {
        "id": "VaLcS-VgyoBH"
      },
      "source": [
        "class LeakyReLU(ActivationFunction):\n",
        "    \n",
        "    def __init__(self, alpha=0.1):\n",
        "        super().__init__()\n",
        "        self.config[\"alpha\"] = alpha\n",
        "        \n",
        "    def forward(self, x):\n",
        "        return torch.where(x > 0, x, self.config[\"alpha\"] * x)"
      ],
      "execution_count": null,
      "outputs": []
    },
    {
      "cell_type": "markdown",
      "metadata": {
        "id": "CXB1x9nPxudv"
      },
      "source": [
        "For later usage, we summarize all our activation functions in a dictionary mapping the name to the class object. In case you implement a new activation function by yourself, add it here to include it in future comparisons as well:"
      ]
    },
    {
      "cell_type": "code",
      "metadata": {
        "scrolled": true,
        "id": "-ZRkJPx0xudv"
      },
      "source": [
        "act_fn_by_name = {\n",
        "    \"sigmoid\": Sigmoid,\n",
        "    \"tanh\": Tanh,\n",
        "    \"relu\": ReLU,\n",
        "    \"leakyrelu\": LeakyReLU,\n",
        "}"
      ],
      "execution_count": null,
      "outputs": []
    },
    {
      "cell_type": "markdown",
      "metadata": {
        "id": "-pw_g72Exudw"
      },
      "source": [
        "### Visualizing activation functions\n",
        "\n",
        "To get an idea of what each activation function actually does, we will visualize them in the following. \n",
        "Next to the actual activation value, the gradient of the function is an important aspect as it is crucial for optimizing the neural network. \n",
        "PyTorch allows us to compute the gradients simply by calling the `backward` function:"
      ]
    },
    {
      "cell_type": "code",
      "metadata": {
        "scrolled": true,
        "id": "hVVrxNlPxudw"
      },
      "source": [
        "def get_grads(act_fn, x):\n",
        "    \"\"\"\n",
        "    Computes the gradients of an activation function at specified positions.\n",
        "    \n",
        "    Inputs:\n",
        "        act_fn - An object of the class \"ActivationFunction\" with an implemented forward pass.\n",
        "        x - 1D input tensor. \n",
        "    Output:\n",
        "        A tensor with the same size of x containing the gradients of act_fn at x.\n",
        "    \"\"\"\n",
        "    x = x.clone().requires_grad_() # Mark the input as tensor for which we want to store gradients\n",
        "    out = act_fn(x)\n",
        "    out.sum().backward() # Summing results in an equal gradient flow to each element in x\n",
        "    return x.grad # Accessing the gradients of x by \"x.grad\""
      ],
      "execution_count": null,
      "outputs": []
    },
    {
      "cell_type": "markdown",
      "metadata": {
        "id": "jCseLiUSxudw"
      },
      "source": [
        "Now we can visualize all our activation functions including their gradients:"
      ]
    },
    {
      "cell_type": "code",
      "metadata": {
        "scrolled": false,
        "id": "duyWQ3Xnxudw",
        "colab": {
          "base_uri": "https://localhost:8080/",
          "height": 501
        },
        "outputId": "9dc141ab-0fa0-48f9-89a4-4b21c3c8f822"
      },
      "source": [
        "def vis_act_fn(act_fn, ax, x):\n",
        "    # Run activation function\n",
        "    y = act_fn(x)\n",
        "    y_grads = get_grads(act_fn, x)\n",
        "    # Push x, y and gradients back to cpu for plotting\n",
        "    x, y, y_grads = x.cpu().numpy(), y.cpu().numpy(), y_grads.cpu().numpy()\n",
        "    ## Plotting\n",
        "    ax.plot(x, y, linewidth=2, label=\"ActFn\")\n",
        "    ax.plot(x, y_grads, linewidth=2, label=\"Gradient\")\n",
        "    ax.set_title(act_fn.name)\n",
        "    ax.legend()\n",
        "    ax.set_ylim(-1.5, x.max())\n",
        "\n",
        "# Add activation functions if wanted\n",
        "act_fns = [act_fn() for act_fn in act_fn_by_name.values()]\n",
        "x = torch.linspace(-5, 5, 1000) # Range on which we want to visualize the activation functions\n",
        "## Plotting\n",
        "rows = math.ceil(len(act_fns)/2.0)\n",
        "fig, ax = plt.subplots(rows, 2, figsize=(8, rows*4))\n",
        "for i, act_fn in enumerate(act_fns):\n",
        "    vis_act_fn(act_fn, ax[divmod(i,2)], x)\n",
        "fig.subplots_adjust(hspace=0.3)\n",
        "plt.show()"
      ],
      "execution_count": null,
      "outputs": [
        {
          "output_type": "display_data",
          "data": {
            "image/png": "[encoded data removed]",
            "text/plain": [
              "<Figure size 576x576 with 4 Axes>"
            ]
          },
          "metadata": {
            "needs_background": "light"
          }
        }
      ]
    },
    {
      "cell_type": "markdown",
      "metadata": {
        "id": "zss01U9bOMzr"
      },
      "source": [
        "# Assignment | Softmax Function"
      ]
    },
    {
      "cell_type": "markdown",
      "metadata": {
        "id": "Qh3_vk4VQeXy"
      },
      "source": [
        "## Import"
      ]
    },
    {
      "cell_type": "code",
      "metadata": {
        "id": "HMOrMTRoOQWw"
      },
      "source": [
        "import numpy as np\n",
        "import pandas as pd\n",
        "import matplotlib.pyplot as plt\n",
        "from sklearn.datasets import load_iris\n",
        "from sklearn.model_selection import train_test_split\n",
        "from sklearn.preprocessing import StandardScaler\n",
        "from sklearn.metrics import accuracy_score\n",
        "\n",
        "import tqdm\n",
        "\n",
        "import torch\n",
        "import torch.nn.functional as F\n",
        "import torch.nn as nn\n",
        "from torch.autograd import Variable"
      ],
      "execution_count": null,
      "outputs": []
    },
    {
      "cell_type": "markdown",
      "metadata": {
        "id": "LP-zSSijQ4Mn"
      },
      "source": [
        "## Process Dataset"
      ]
    },
    {
      "cell_type": "code",
      "metadata": {
        "colab": {
          "base_uri": "https://localhost:8080/"
        },
        "id": "aQxaC5iCQ7gy",
        "outputId": "dd044833-0e32-4198-b055-772519cf6f71"
      },
      "source": [
        "iris = load_iris()\n",
        "print(iris)"
      ],
      "execution_count": null,
      "outputs": [
        {
          "output_type": "stream",
          "name": "stdout",
          "text": [
            "{'data': array([[5.1, 3.5, 1.4, 0.2],\n",
            "       [4.9, 3. , 1.4, 0.2],\n",
            "       [4.7, 3.2, 1.3, 0.2],\n",
            "       [4.6, 3.1, 1.5, 0.2],\n",
            "       [5. , 3.6, 1.4, 0.2],\n",
            "       [5.4, 3.9, 1.7, 0.4],\n",
            "       [4.6, 3.4, 1.4, 0.3],\n",
            "       [5. , 3.4, 1.5, 0.2],\n",
            "       [4.4, 2.9, 1.4, 0.2],\n",
            "       [4.9, 3.1, 1.5, 0.1],\n",
            "       [5.4, 3.7, 1.5, 0.2],\n",
            "       [4.8, 3.4, 1.6, 0.2],\n",
            "       [4.8, 3. , 1.4, 0.1],\n",
            "       [4.3, 3. , 1.1, 0.1],\n",
            "       [5.8, 4. , 1.2, 0.2],\n",
            "       [5.7, 4.4, 1.5, 0.4],\n",
            "       [5.4, 3.9, 1.3, 0.4],\n",
            "       [5.1, 3.5, 1.4, 0.3],\n",
            "       [5.7, 3.8, 1.7, 0.3],\n",
            "       [5.1, 3.8, 1.5, 0.3],\n",
            "       [5.4, 3.4, 1.7, 0.2],\n",
            "       [5.1, 3.7, 1.5, 0.4],\n",
            "       [4.6, 3.6, 1. , 0.2],\n",
            "       [5.1, 3.3, 1.7, 0.5],\n",
            "       [4.8, 3.4, 1.9, 0.2],\n",
            "       [5. , 3. , 1.6, 0.2],\n",
            "       [5. , 3.4, 1.6, 0.4],\n",
            "       [5.2, 3.5, 1.5, 0.2],\n",
            "       [5.2, 3.4, 1.4, 0.2],\n",
            "       [4.7, 3.2, 1.6, 0.2],\n",
            "       [4.8, 3.1, 1.6, 0.2],\n",
            "       [5.4, 3.4, 1.5, 0.4],\n",
            "       [5.2, 4.1, 1.5, 0.1],\n",
            "       [5.5, 4.2, 1.4, 0.2],\n",
            "       [4.9, 3.1, 1.5, 0.2],\n",
            "       [5. , 3.2, 1.2, 0.2],\n",
            "       [5.5, 3.5, 1.3, 0.2],\n",
            "       [4.9, 3.6, 1.4, 0.1],\n",
            "       [4.4, 3. , 1.3, 0.2],\n",
            "       [5.1, 3.4, 1.5, 0.2],\n",
            "       [5. , 3.5, 1.3, 0.3],\n",
            "       [4.5, 2.3, 1.3, 0.3],\n",
            "       [4.4, 3.2, 1.3, 0.2],\n",
            "       [5. , 3.5, 1.6, 0.6],\n",
            "       [5.1, 3.8, 1.9, 0.4],\n",
            "       [4.8, 3. , 1.4, 0.3],\n",
            "       [5.1, 3.8, 1.6, 0.2],\n",
            "       [4.6, 3.2, 1.4, 0.2],\n",
            "       [5.3, 3.7, 1.5, 0.2],\n",
            "       [5. , 3.3, 1.4, 0.2],\n",
            "       [7. , 3.2, 4.7, 1.4],\n",
            "       [6.4, 3.2, 4.5, 1.5],\n",
            "       [6.9, 3.1, 4.9, 1.5],\n",
            "       [5.5, 2.3, 4. , 1.3],\n",
            "       [6.5, 2.8, 4.6, 1.5],\n",
            "       [5.7, 2.8, 4.5, 1.3],\n",
            "       [6.3, 3.3, 4.7, 1.6],\n",
            "       [4.9, 2.4, 3.3, 1. ],\n",
            "       [6.6, 2.9, 4.6, 1.3],\n",
            "       [5.2, 2.7, 3.9, 1.4],\n",
            "       [5. , 2. , 3.5, 1. ],\n",
            "       [5.9, 3. , 4.2, 1.5],\n",
            "       [6. , 2.2, 4. , 1. ],\n",
            "       [6.1, 2.9, 4.7, 1.4],\n",
            "       [5.6, 2.9, 3.6, 1.3],\n",
            "       [6.7, 3.1, 4.4, 1.4],\n",
            "       [5.6, 3. , 4.5, 1.5],\n",
            "       [5.8, 2.7, 4.1, 1. ],\n",
            "       [6.2, 2.2, 4.5, 1.5],\n",
            "       [5.6, 2.5, 3.9, 1.1],\n",
            "       [5.9, 3.2, 4.8, 1.8],\n",
            "       [6.1, 2.8, 4. , 1.3],\n",
            "       [6.3, 2.5, 4.9, 1.5],\n",
            "       [6.1, 2.8, 4.7, 1.2],\n",
            "       [6.4, 2.9, 4.3, 1.3],\n",
            "       [6.6, 3. , 4.4, 1.4],\n",
            "       [6.8, 2.8, 4.8, 1.4],\n",
            "       [6.7, 3. , 5. , 1.7],\n",
            "       [6. , 2.9, 4.5, 1.5],\n",
            "       [5.7, 2.6, 3.5, 1. ],\n",
            "       [5.5, 2.4, 3.8, 1.1],\n",
            "       [5.5, 2.4, 3.7, 1. ],\n",
            "       [5.8, 2.7, 3.9, 1.2],\n",
            "       [6. , 2.7, 5.1, 1.6],\n",
            "       [5.4, 3. , 4.5, 1.5],\n",
            "       [6. , 3.4, 4.5, 1.6],\n",
            "       [6.7, 3.1, 4.7, 1.5],\n",
            "       [6.3, 2.3, 4.4, 1.3],\n",
            "       [5.6, 3. , 4.1, 1.3],\n",
            "       [5.5, 2.5, 4. , 1.3],\n",
            "       [5.5, 2.6, 4.4, 1.2],\n",
            "       [6.1, 3. , 4.6, 1.4],\n",
            "       [5.8, 2.6, 4. , 1.2],\n",
            "       [5. , 2.3, 3.3, 1. ],\n",
            "       [5.6, 2.7, 4.2, 1.3],\n",
            "       [5.7, 3. , 4.2, 1.2],\n",
            "       [5.7, 2.9, 4.2, 1.3],\n",
            "       [6.2, 2.9, 4.3, 1.3],\n",
            "       [5.1, 2.5, 3. , 1.1],\n",
            "       [5.7, 2.8, 4.1, 1.3],\n",
            "       [6.3, 3.3, 6. , 2.5],\n",
            "       [5.8, 2.7, 5.1, 1.9],\n",
            "       [7.1, 3. , 5.9, 2.1],\n",
            "       [6.3, 2.9, 5.6, 1.8],\n",
            "       [6.5, 3. , 5.8, 2.2],\n",
            "       [7.6, 3. , 6.6, 2.1],\n",
            "       [4.9, 2.5, 4.5, 1.7],\n",
            "       [7.3, 2.9, 6.3, 1.8],\n",
            "       [6.7, 2.5, 5.8, 1.8],\n",
            "       [7.2, 3.6, 6.1, 2.5],\n",
            "       [6.5, 3.2, 5.1, 2. ],\n",
            "       [6.4, 2.7, 5.3, 1.9],\n",
            "       [6.8, 3. , 5.5, 2.1],\n",
            "       [5.7, 2.5, 5. , 2. ],\n",
            "       [5.8, 2.8, 5.1, 2.4],\n",
            "       [6.4, 3.2, 5.3, 2.3],\n",
            "       [6.5, 3. , 5.5, 1.8],\n",
            "       [7.7, 3.8, 6.7, 2.2],\n",
            "       [7.7, 2.6, 6.9, 2.3],\n",
            "       [6. , 2.2, 5. , 1.5],\n",
            "       [6.9, 3.2, 5.7, 2.3],\n",
            "       [5.6, 2.8, 4.9, 2. ],\n",
            "       [7.7, 2.8, 6.7, 2. ],\n",
            "       [6.3, 2.7, 4.9, 1.8],\n",
            "       [6.7, 3.3, 5.7, 2.1],\n",
            "       [7.2, 3.2, 6. , 1.8],\n",
            "       [6.2, 2.8, 4.8, 1.8],\n",
            "       [6.1, 3. , 4.9, 1.8],\n",
            "       [6.4, 2.8, 5.6, 2.1],\n",
            "       [7.2, 3. , 5.8, 1.6],\n",
            "       [7.4, 2.8, 6.1, 1.9],\n",
            "       [7.9, 3.8, 6.4, 2. ],\n",
            "       [6.4, 2.8, 5.6, 2.2],\n",
            "       [6.3, 2.8, 5.1, 1.5],\n",
            "       [6.1, 2.6, 5.6, 1.4],\n",
            "       [7.7, 3. , 6.1, 2.3],\n",
            "       [6.3, 3.4, 5.6, 2.4],\n",
            "       [6.4, 3.1, 5.5, 1.8],\n",
            "       [6. , 3. , 4.8, 1.8],\n",
            "       [6.9, 3.1, 5.4, 2.1],\n",
            "       [6.7, 3.1, 5.6, 2.4],\n",
            "       [6.9, 3.1, 5.1, 2.3],\n",
            "       [5.8, 2.7, 5.1, 1.9],\n",
            "       [6.8, 3.2, 5.9, 2.3],\n",
            "       [6.7, 3.3, 5.7, 2.5],\n",
            "       [6.7, 3. , 5.2, 2.3],\n",
            "       [6.3, 2.5, 5. , 1.9],\n",
            "       [6.5, 3. , 5.2, 2. ],\n",
            "       [6.2, 3.4, 5.4, 2.3],\n",
            "       [5.9, 3. , 5.1, 1.8]]), 'target': array([0, 0, 0, 0, 0, 0, 0, 0, 0, 0, 0, 0, 0, 0, 0, 0, 0, 0, 0, 0, 0, 0,\n",
            "       0, 0, 0, 0, 0, 0, 0, 0, 0, 0, 0, 0, 0, 0, 0, 0, 0, 0, 0, 0, 0, 0,\n",
            "       0, 0, 0, 0, 0, 0, 1, 1, 1, 1, 1, 1, 1, 1, 1, 1, 1, 1, 1, 1, 1, 1,\n",
            "       1, 1, 1, 1, 1, 1, 1, 1, 1, 1, 1, 1, 1, 1, 1, 1, 1, 1, 1, 1, 1, 1,\n",
            "       1, 1, 1, 1, 1, 1, 1, 1, 1, 1, 1, 1, 2, 2, 2, 2, 2, 2, 2, 2, 2, 2,\n",
            "       2, 2, 2, 2, 2, 2, 2, 2, 2, 2, 2, 2, 2, 2, 2, 2, 2, 2, 2, 2, 2, 2,\n",
            "       2, 2, 2, 2, 2, 2, 2, 2, 2, 2, 2, 2, 2, 2, 2, 2, 2, 2]), 'target_names': array(['setosa', 'versicolor', 'virginica'], dtype='<U10'), 'DESCR': '.. _iris_dataset:\\n\\nIris plants dataset\\n--------------------\\n\\n**Data Set Characteristics:**\\n\\n    :Number of Instances: 150 (50 in each of three classes)\\n    :Number of Attributes: 4 numeric, predictive attributes and the class\\n    :Attribute Information:\\n        - sepal length in cm\\n        - sepal width in cm\\n        - petal length in cm\\n        - petal width in cm\\n        - class:\\n                - Iris-Setosa\\n                - Iris-Versicolour\\n                - Iris-Virginica\\n                \\n    :Summary Statistics:\\n\\n    ============== ==== ==== ======= ===== ====================\\n                    Min  Max   Mean    SD   Class Correlation\\n    ============== ==== ==== ======= ===== ====================\\n    sepal length:   4.3  7.9   5.84   0.83    0.7826\\n    sepal width:    2.0  4.4   3.05   0.43   -0.4194\\n    petal length:   1.0  6.9   3.76   1.76    0.9490  (high!)\\n    petal width:    0.1  2.5   1.20   0.76    0.9565  (high!)\\n    ============== ==== ==== ======= ===== ====================\\n\\n    :Missing Attribute Values: None\\n    :Class Distribution: 33.3% for each of 3 classes.\\n    :Creator: R.A. Fisher\\n    :Donor: Michael Marshall (MARSHALL%PLU@io.arc.nasa.gov)\\n    :Date: July, 1988\\n\\nThe famous Iris database, first used by Sir R.A. Fisher. The dataset is taken\\nfrom Fisher\\'s paper. Note that it\\'s the same as in R, but not as in the UCI\\nMachine Learning Repository, which has two wrong data points.\\n\\nThis is perhaps the best known database to be found in the\\npattern recognition literature.  Fisher\\'s paper is a classic in the field and\\nis referenced frequently to this day.  (See Duda & Hart, for example.)  The\\ndata set contains 3 classes of 50 instances each, where each class refers to a\\ntype of iris plant.  One class is linearly separable from the other 2; the\\nlatter are NOT linearly separable from each other.\\n\\n.. topic:: References\\n\\n   - Fisher, R.A. \"The use of multiple measurements in taxonomic problems\"\\n     Annual Eugenics, 7, Part II, 179-188 (1936); also in \"Contributions to\\n     Mathematical Statistics\" (John Wiley, NY, 1950).\\n   - Duda, R.O., & Hart, P.E. (1973) Pattern Classification and Scene Analysis.\\n     (Q327.D83) John Wiley & Sons.  ISBN 0-471-22361-1.  See page 218.\\n   - Dasarathy, B.V. (1980) \"Nosing Around the Neighborhood: A New System\\n     Structure and Classification Rule for Recognition in Partially Exposed\\n     Environments\".  IEEE Transactions on Pattern Analysis and Machine\\n     Intelligence, Vol. PAMI-2, No. 1, 67-71.\\n   - Gates, G.W. (1972) \"The Reduced Nearest Neighbor Rule\".  IEEE Transactions\\n     on Information Theory, May 1972, 431-433.\\n   - See also: 1988 MLC Proceedings, 54-64.  Cheeseman et al\"s AUTOCLASS II\\n     conceptual clustering system finds 3 classes in the data.\\n   - Many, many more ...', 'feature_names': ['sepal length (cm)', 'sepal width (cm)', 'petal length (cm)', 'petal width (cm)'], 'filename': '/usr/local/lib/python3.7/dist-packages/sklearn/datasets/data/iris.csv'}\n"
          ]
        }
      ]
    },
    {
      "cell_type": "code",
      "metadata": {
        "id": "Bu71QBeiRFVJ"
      },
      "source": [
        "X = iris['data']\n",
        "y = iris['target']\n",
        "names = iris['target_names']\n",
        "feature_names = iris['feature_names']"
      ],
      "execution_count": null,
      "outputs": []
    },
    {
      "cell_type": "code",
      "metadata": {
        "colab": {
          "base_uri": "https://localhost:8080/"
        },
        "id": "v_STqE9iR3mh",
        "outputId": "a343d2cd-2998-429f-ecbe-f8e72153cb31"
      },
      "source": [
        "print(feature_names)"
      ],
      "execution_count": null,
      "outputs": [
        {
          "output_type": "stream",
          "name": "stdout",
          "text": [
            "['sepal length (cm)', 'sepal width (cm)', 'petal length (cm)', 'petal width (cm)']\n"
          ]
        }
      ]
    },
    {
      "cell_type": "code",
      "metadata": {
        "colab": {
          "base_uri": "https://localhost:8080/"
        },
        "id": "3aiTvdHsRwR2",
        "outputId": "d802470a-b9c3-4a82-b8d8-c07c9fa69fa5"
      },
      "source": [
        "print(X)"
      ],
      "execution_count": null,
      "outputs": [
        {
          "output_type": "stream",
          "name": "stdout",
          "text": [
            "[[5.1 3.5 1.4 0.2]\n",
            " [4.9 3.  1.4 0.2]\n",
            " [4.7 3.2 1.3 0.2]\n",
            " [4.6 3.1 1.5 0.2]\n",
            " [5.  3.6 1.4 0.2]\n",
            " [5.4 3.9 1.7 0.4]\n",
            " [4.6 3.4 1.4 0.3]\n",
            " [5.  3.4 1.5 0.2]\n",
            " [4.4 2.9 1.4 0.2]\n",
            " [4.9 3.1 1.5 0.1]\n",
            " [5.4 3.7 1.5 0.2]\n",
            " [4.8 3.4 1.6 0.2]\n",
            " [4.8 3.  1.4 0.1]\n",
            " [4.3 3.  1.1 0.1]\n",
            " [5.8 4.  1.2 0.2]\n",
            " [5.7 4.4 1.5 0.4]\n",
            " [5.4 3.9 1.3 0.4]\n",
            " [5.1 3.5 1.4 0.3]\n",
            " [5.7 3.8 1.7 0.3]\n",
            " [5.1 3.8 1.5 0.3]\n",
            " [5.4 3.4 1.7 0.2]\n",
            " [5.1 3.7 1.5 0.4]\n",
            " [4.6 3.6 1.  0.2]\n",
            " [5.1 3.3 1.7 0.5]\n",
            " [4.8 3.4 1.9 0.2]\n",
            " [5.  3.  1.6 0.2]\n",
            " [5.  3.4 1.6 0.4]\n",
            " [5.2 3.5 1.5 0.2]\n",
            " [5.2 3.4 1.4 0.2]\n",
            " [4.7 3.2 1.6 0.2]\n",
            " [4.8 3.1 1.6 0.2]\n",
            " [5.4 3.4 1.5 0.4]\n",
            " [5.2 4.1 1.5 0.1]\n",
            " [5.5 4.2 1.4 0.2]\n",
            " [4.9 3.1 1.5 0.2]\n",
            " [5.  3.2 1.2 0.2]\n",
            " [5.5 3.5 1.3 0.2]\n",
            " [4.9 3.6 1.4 0.1]\n",
            " [4.4 3.  1.3 0.2]\n",
            " [5.1 3.4 1.5 0.2]\n",
            " [5.  3.5 1.3 0.3]\n",
            " [4.5 2.3 1.3 0.3]\n",
            " [4.4 3.2 1.3 0.2]\n",
            " [5.  3.5 1.6 0.6]\n",
            " [5.1 3.8 1.9 0.4]\n",
            " [4.8 3.  1.4 0.3]\n",
            " [5.1 3.8 1.6 0.2]\n",
            " [4.6 3.2 1.4 0.2]\n",
            " [5.3 3.7 1.5 0.2]\n",
            " [5.  3.3 1.4 0.2]\n",
            " [7.  3.2 4.7 1.4]\n",
            " [6.4 3.2 4.5 1.5]\n",
            " [6.9 3.1 4.9 1.5]\n",
            " [5.5 2.3 4.  1.3]\n",
            " [6.5 2.8 4.6 1.5]\n",
            " [5.7 2.8 4.5 1.3]\n",
            " [6.3 3.3 4.7 1.6]\n",
            " [4.9 2.4 3.3 1. ]\n",
            " [6.6 2.9 4.6 1.3]\n",
            " [5.2 2.7 3.9 1.4]\n",
            " [5.  2.  3.5 1. ]\n",
            " [5.9 3.  4.2 1.5]\n",
            " [6.  2.2 4.  1. ]\n",
            " [6.1 2.9 4.7 1.4]\n",
            " [5.6 2.9 3.6 1.3]\n",
            " [6.7 3.1 4.4 1.4]\n",
            " [5.6 3.  4.5 1.5]\n",
            " [5.8 2.7 4.1 1. ]\n",
            " [6.2 2.2 4.5 1.5]\n",
            " [5.6 2.5 3.9 1.1]\n",
            " [5.9 3.2 4.8 1.8]\n",
            " [6.1 2.8 4.  1.3]\n",
            " [6.3 2.5 4.9 1.5]\n",
            " [6.1 2.8 4.7 1.2]\n",
            " [6.4 2.9 4.3 1.3]\n",
            " [6.6 3.  4.4 1.4]\n",
            " [6.8 2.8 4.8 1.4]\n",
            " [6.7 3.  5.  1.7]\n",
            " [6.  2.9 4.5 1.5]\n",
            " [5.7 2.6 3.5 1. ]\n",
            " [5.5 2.4 3.8 1.1]\n",
            " [5.5 2.4 3.7 1. ]\n",
            " [5.8 2.7 3.9 1.2]\n",
            " [6.  2.7 5.1 1.6]\n",
            " [5.4 3.  4.5 1.5]\n",
            " [6.  3.4 4.5 1.6]\n",
            " [6.7 3.1 4.7 1.5]\n",
            " [6.3 2.3 4.4 1.3]\n",
            " [5.6 3.  4.1 1.3]\n",
            " [5.5 2.5 4.  1.3]\n",
            " [5.5 2.6 4.4 1.2]\n",
            " [6.1 3.  4.6 1.4]\n",
            " [5.8 2.6 4.  1.2]\n",
            " [5.  2.3 3.3 1. ]\n",
            " [5.6 2.7 4.2 1.3]\n",
            " [5.7 3.  4.2 1.2]\n",
            " [5.7 2.9 4.2 1.3]\n",
            " [6.2 2.9 4.3 1.3]\n",
            " [5.1 2.5 3.  1.1]\n",
            " [5.7 2.8 4.1 1.3]\n",
            " [6.3 3.3 6.  2.5]\n",
            " [5.8 2.7 5.1 1.9]\n",
            " [7.1 3.  5.9 2.1]\n",
            " [6.3 2.9 5.6 1.8]\n",
            " [6.5 3.  5.8 2.2]\n",
            " [7.6 3.  6.6 2.1]\n",
            " [4.9 2.5 4.5 1.7]\n",
            " [7.3 2.9 6.3 1.8]\n",
            " [6.7 2.5 5.8 1.8]\n",
            " [7.2 3.6 6.1 2.5]\n",
            " [6.5 3.2 5.1 2. ]\n",
            " [6.4 2.7 5.3 1.9]\n",
            " [6.8 3.  5.5 2.1]\n",
            " [5.7 2.5 5.  2. ]\n",
            " [5.8 2.8 5.1 2.4]\n",
            " [6.4 3.2 5.3 2.3]\n",
            " [6.5 3.  5.5 1.8]\n",
            " [7.7 3.8 6.7 2.2]\n",
            " [7.7 2.6 6.9 2.3]\n",
            " [6.  2.2 5.  1.5]\n",
            " [6.9 3.2 5.7 2.3]\n",
            " [5.6 2.8 4.9 2. ]\n",
            " [7.7 2.8 6.7 2. ]\n",
            " [6.3 2.7 4.9 1.8]\n",
            " [6.7 3.3 5.7 2.1]\n",
            " [7.2 3.2 6.  1.8]\n",
            " [6.2 2.8 4.8 1.8]\n",
            " [6.1 3.  4.9 1.8]\n",
            " [6.4 2.8 5.6 2.1]\n",
            " [7.2 3.  5.8 1.6]\n",
            " [7.4 2.8 6.1 1.9]\n",
            " [7.9 3.8 6.4 2. ]\n",
            " [6.4 2.8 5.6 2.2]\n",
            " [6.3 2.8 5.1 1.5]\n",
            " [6.1 2.6 5.6 1.4]\n",
            " [7.7 3.  6.1 2.3]\n",
            " [6.3 3.4 5.6 2.4]\n",
            " [6.4 3.1 5.5 1.8]\n",
            " [6.  3.  4.8 1.8]\n",
            " [6.9 3.1 5.4 2.1]\n",
            " [6.7 3.1 5.6 2.4]\n",
            " [6.9 3.1 5.1 2.3]\n",
            " [5.8 2.7 5.1 1.9]\n",
            " [6.8 3.2 5.9 2.3]\n",
            " [6.7 3.3 5.7 2.5]\n",
            " [6.7 3.  5.2 2.3]\n",
            " [6.3 2.5 5.  1.9]\n",
            " [6.5 3.  5.2 2. ]\n",
            " [6.2 3.4 5.4 2.3]\n",
            " [5.9 3.  5.1 1.8]]\n"
          ]
        }
      ]
    },
    {
      "cell_type": "code",
      "metadata": {
        "colab": {
          "base_uri": "https://localhost:8080/"
        },
        "id": "kFrccJv4Rx_e",
        "outputId": "d83523ff-f1d9-4eb4-c9c7-21a21d7ba897"
      },
      "source": [
        "print(y)"
      ],
      "execution_count": null,
      "outputs": [
        {
          "output_type": "stream",
          "name": "stdout",
          "text": [
            "[0 0 0 0 0 0 0 0 0 0 0 0 0 0 0 0 0 0 0 0 0 0 0 0 0 0 0 0 0 0 0 0 0 0 0 0 0\n",
            " 0 0 0 0 0 0 0 0 0 0 0 0 0 1 1 1 1 1 1 1 1 1 1 1 1 1 1 1 1 1 1 1 1 1 1 1 1\n",
            " 1 1 1 1 1 1 1 1 1 1 1 1 1 1 1 1 1 1 1 1 1 1 1 1 1 1 2 2 2 2 2 2 2 2 2 2 2\n",
            " 2 2 2 2 2 2 2 2 2 2 2 2 2 2 2 2 2 2 2 2 2 2 2 2 2 2 2 2 2 2 2 2 2 2 2 2 2\n",
            " 2 2]\n"
          ]
        }
      ]
    },
    {
      "cell_type": "code",
      "metadata": {
        "colab": {
          "base_uri": "https://localhost:8080/"
        },
        "id": "xZpSPTNtR0rr",
        "outputId": "1f801296-3315-4c27-d939-ff40f7d9126c"
      },
      "source": [
        "print(names)"
      ],
      "execution_count": null,
      "outputs": [
        {
          "output_type": "stream",
          "name": "stdout",
          "text": [
            "['setosa' 'versicolor' 'virginica']\n"
          ]
        }
      ]
    },
    {
      "cell_type": "code",
      "metadata": {
        "id": "13IdE4aLR7Dl"
      },
      "source": [
        "scaler = StandardScaler()\n",
        "X_scaled = scaler.fit_transform(X)"
      ],
      "execution_count": null,
      "outputs": []
    },
    {
      "cell_type": "code",
      "metadata": {
        "id": "IjA24Y-ESHFT"
      },
      "source": [
        "X_train, X_test, y_train, y_test = train_test_split(X_scaled, y, test_size=0.2, random_state=2)"
      ],
      "execution_count": null,
      "outputs": []
    },
    {
      "cell_type": "code",
      "metadata": {
        "id": "wcXHQMCSVYdT"
      },
      "source": [
        "X_train = Variable(torch.from_numpy(X_train)).float()\n",
        "y_train = Variable(torch.from_numpy(y_train)).long()\n",
        "X_test  = Variable(torch.from_numpy(X_test)).float()\n",
        "y_test  = Variable(torch.from_numpy(y_test)).long()"
      ],
      "execution_count": null,
      "outputs": []
    },
    {
      "cell_type": "markdown",
      "metadata": {
        "id": "k5IWLnfEST6F"
      },
      "source": [
        "## Model"
      ]
    },
    {
      "cell_type": "code",
      "metadata": {
        "id": "I9jlce18SOx9"
      },
      "source": [
        "class Model(nn.Module):\n",
        "    def __init__(self, input_dim):\n",
        "        super(Model, self).__init__()\n",
        "        self.layer1 = nn.Linear(input_dim, 100)\n",
        "        self.layer2 = nn.Linear(100, 50)\n",
        "        self.layer3 = nn.Linear(50, 3)\n",
        "        \n",
        "    def forward(self, x):\n",
        "        x = F.relu(self.layer1(x))\n",
        "        x = F.relu(self.layer2(x))\n",
        "        x = F.softmax(self.layer3(x), dim=1)\n",
        "        return x"
      ],
      "execution_count": null,
      "outputs": []
    },
    {
      "cell_type": "markdown",
      "metadata": {
        "id": "HHPF6B53bj5y"
      },
      "source": [
        "![image.png](data:image/png;base64,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)"
      ]
    },
    {
      "cell_type": "markdown",
      "metadata": {
        "id": "D9ijbHNtcXJx"
      },
      "source": [
        "softmax(x1) = (e^x1) / (e^x1 + e^x2 + e^x3 + e^x4)"
      ]
    },
    {
      "cell_type": "code",
      "metadata": {
        "colab": {
          "base_uri": "https://localhost:8080/"
        },
        "id": "Ib2_r-3ISmeJ",
        "outputId": "feaa8084-ec0c-4ba6-d707-6c159e0b6bbd"
      },
      "source": [
        "model     = Model(4)\n",
        "optimizer = torch.optim.Adam(model.parameters(), lr=0.001)\n",
        "loss_fn   = nn.CrossEntropyLoss()\n",
        "print(model)"
      ],
      "execution_count": null,
      "outputs": [
        {
          "output_type": "stream",
          "name": "stdout",
          "text": [
            "Model(\n",
            "  (layer1): Linear(in_features=4, out_features=100, bias=True)\n",
            "  (layer2): Linear(in_features=100, out_features=50, bias=True)\n",
            "  (layer3): Linear(in_features=50, out_features=3, bias=True)\n",
            ")\n"
          ]
        }
      ]
    },
    {
      "cell_type": "markdown",
      "metadata": {
        "id": "qC8WnREZTGaG"
      },
      "source": [
        "## Model Training"
      ]
    },
    {
      "cell_type": "code",
      "metadata": {
        "colab": {
          "base_uri": "https://localhost:8080/"
        },
        "id": "oz-mVDMLSsK2",
        "outputId": "7f802454-5016-4c8c-bb62-046076067bf4"
      },
      "source": [
        "EPOCHS  = 100\n",
        "\n",
        "for epoch in range(EPOCHS):\n",
        "    y_pred = model(X_train)\n",
        "    loss = loss_fn(y_pred, y_train)\n",
        "    if epoch % 10 == 0:\n",
        "        print (\"Epoch #\",epoch)\n",
        "        print(loss.item())\n",
        "    \n",
        "    # Zero gradients\n",
        "    optimizer.zero_grad()\n",
        "    loss.backward() # Gradients\n",
        "    optimizer.step() # Update"
      ],
      "execution_count": null,
      "outputs": [
        {
          "output_type": "stream",
          "name": "stdout",
          "text": [
            "Epoch # 0\n",
            "1.0977568626403809\n",
            "Epoch # 10\n",
            "0.9996874928474426\n",
            "Epoch # 20\n",
            "0.8873593807220459\n",
            "Epoch # 30\n",
            "0.7943598031997681\n",
            "Epoch # 40\n",
            "0.7375454306602478\n",
            "Epoch # 50\n",
            "0.7018430829048157\n",
            "Epoch # 60\n",
            "0.6737557649612427\n",
            "Epoch # 70\n",
            "0.6480425000190735\n",
            "Epoch # 80\n",
            "0.626672089099884\n",
            "Epoch # 90\n",
            "0.6110641360282898\n"
          ]
        }
      ]
    },
    {
      "cell_type": "markdown",
      "metadata": {
        "id": "zW5D0YH2UdET"
      },
      "source": [
        "## Results"
      ]
    },
    {
      "cell_type": "code",
      "metadata": {
        "id": "etl6OwXqUDkl"
      },
      "source": [
        "x_test = Variable((X_test)).float()\n",
        "with torch.no_grad():\n",
        "  pred = model(x_test)"
      ],
      "execution_count": null,
      "outputs": []
    },
    {
      "cell_type": "code",
      "metadata": {
        "id": "9ZiY2eAjYLzX"
      },
      "source": [
        "pred = pred.detach().numpy()"
      ],
      "execution_count": null,
      "outputs": []
    },
    {
      "cell_type": "code",
      "metadata": {
        "colab": {
          "base_uri": "https://localhost:8080/"
        },
        "id": "IUy2eGKKXRom",
        "outputId": "b39576ea-9e94-4634-b36a-2e3d24f93410"
      },
      "source": [
        "pred[0]"
      ],
      "execution_count": null,
      "outputs": [
        {
          "output_type": "execute_result",
          "data": {
            "text/plain": [
              "array([9.97747123e-01, 2.14370992e-03, 1.09175926e-04], dtype=float32)"
            ]
          },
          "metadata": {},
          "execution_count": 26
        }
      ]
    },
    {
      "cell_type": "code",
      "metadata": {
        "colab": {
          "base_uri": "https://localhost:8080/"
        },
        "id": "GtHtEWyMYfDp",
        "outputId": "f575cc13-f0e5-422b-9f6d-6489429fc7e0"
      },
      "source": [
        "pred[7]"
      ],
      "execution_count": null,
      "outputs": [
        {
          "output_type": "execute_result",
          "data": {
            "text/plain": [
              "array([2.3093644e-04, 1.4470355e-02, 9.8529875e-01], dtype=float32)"
            ]
          },
          "metadata": {},
          "execution_count": 27
        }
      ]
    },
    {
      "cell_type": "code",
      "metadata": {
        "colab": {
          "base_uri": "https://localhost:8080/"
        },
        "id": "8pFm-xKDX51N",
        "outputId": "c0d96bd8-58a9-4bb0-8d13-fb90747a640c"
      },
      "source": [
        "pred_dash = np.argmax(pred[0])\n",
        "print(pred_dash)"
      ],
      "execution_count": null,
      "outputs": [
        {
          "output_type": "stream",
          "name": "stdout",
          "text": [
            "0\n"
          ]
        }
      ]
    },
    {
      "cell_type": "code",
      "metadata": {
        "colab": {
          "base_uri": "https://localhost:8080/"
        },
        "id": "MQoOt4UEYJXm",
        "outputId": "11f7562d-5b1f-4dab-ca92-b5ae91cd36b3"
      },
      "source": [
        "pred_dash = np.argmax(pred[7])\n",
        "print(pred_dash)"
      ],
      "execution_count": null,
      "outputs": [
        {
          "output_type": "stream",
          "name": "stdout",
          "text": [
            "2\n"
          ]
        }
      ]
    },
    {
      "cell_type": "code",
      "metadata": {
        "colab": {
          "base_uri": "https://localhost:8080/"
        },
        "id": "4EMZX0IqYx2X",
        "outputId": "9e1203aa-e98f-4e78-c712-f51d28552380"
      },
      "source": [
        "x_test[0]"
      ],
      "execution_count": null,
      "outputs": [
        {
          "output_type": "execute_result",
          "data": {
            "text/plain": [
              "tensor([-1.5065,  0.7888, -1.3402, -1.1838])"
            ]
          },
          "metadata": {},
          "execution_count": 30
        }
      ]
    },
    {
      "cell_type": "code",
      "metadata": {
        "colab": {
          "base_uri": "https://localhost:8080/"
        },
        "id": "mUIRcgXlYzMv",
        "outputId": "1942da04-3b18-4bc5-f0f2-a0831f85aced"
      },
      "source": [
        "print (\"The accuracy is\", accuracy_score(y_test, np.argmax(pred, axis=1)))"
      ],
      "execution_count": null,
      "outputs": [
        {
          "output_type": "stream",
          "name": "stdout",
          "text": [
            "The accuracy is 0.9333333333333333\n"
          ]
        }
      ]
    },
    {
      "cell_type": "markdown",
      "metadata": {
        "id": "v-o-LSWc29jo"
      },
      "source": [
        "# L1 & L2 loss regularizers"
      ]
    },
    {
      "cell_type": "markdown",
      "metadata": {
        "id": "HqGE5JvsAv7P"
      },
      "source": [
        "## Regularizers"
      ]
    },
    {
      "cell_type": "markdown",
      "metadata": {
        "id": "6xtrucPdLrD7"
      },
      "source": [
        "###L1 Regularizer"
      ]
    },
    {
      "cell_type": "markdown",
      "metadata": {
        "id": "TVJHYefXK9u2"
      },
      "source": [
        "![image.png](data:image/png;base64,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)\n"
      ]
    },
    {
      "cell_type": "markdown",
      "metadata": {
        "id": "tvnU3TfkL1S4"
      },
      "source": [
        "L1 regularization, also known as L1 norm or Lasso regularization, combats overfitting by shrinking the parameters towards 0. This makes some features obsolete."
      ]
    },
    {
      "cell_type": "markdown",
      "metadata": {
        "id": "pcldOMHgLQoq"
      },
      "source": [
        "*   Penalizes the absolute value of the weights.\n",
        "*   Form of feature selection\n",
        "*   Sparse solution\n",
        "\n"
      ]
    },
    {
      "cell_type": "markdown",
      "metadata": {
        "id": "05HisOUCOCCj"
      },
      "source": [
        "###L2 Regularizer"
      ]
    },
    {
      "cell_type": "markdown",
      "metadata": {
        "id": "lhi-mN7xOCDK"
      },
      "source": [
        "![image.png](data:image/png;base64,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)"
      ]
    },
    {
      "cell_type": "markdown",
      "metadata": {
        "id": "6DNvo_mtOCDK"
      },
      "source": [
        "L2 regularization, also known as L2 norm or Ridge regularization, combats overfitting by shrinking the square of the parameters towards 0."
      ]
    },
    {
      "cell_type": "markdown",
      "metadata": {
        "id": "5rtKeWi8OCDL"
      },
      "source": [
        "*   Penalizes the relative size of weight\n",
        "*   Makes them closer to 0\n",
        "*   Non sparse solution\n",
        "*   Doesn't handle outliers well\n",
        "\n"
      ]
    },
    {
      "cell_type": "markdown",
      "metadata": {
        "id": "idqRlqBG9wFn"
      },
      "source": [
        "## Standard Linear Regression"
      ]
    },
    {
      "cell_type": "code",
      "metadata": {
        "scrolled": true,
        "id": "2lPjq5q78Xtf",
        "colab": {
          "base_uri": "https://localhost:8080/",
          "height": 203
        },
        "outputId": "42b11e5c-32fe-41bd-8772-be532df35ef4"
      },
      "source": [
        "import numpy as np\n",
        "import pandas as pd\n",
        "import matplotlib.pyplot as plt\n",
        "import statistics as st\n",
        "plt.rcParams['figure.figsize'] = (12,12)\n",
        "\n",
        "data=pd.read_csv('lin_reg_data.csv')\n",
        "data.head()"
      ],
      "execution_count": null,
      "outputs": [
        {
          "output_type": "execute_result",
          "data": {
            "text/html": [
              "<div>\n",
              "<style scoped>\n",
              "    .dataframe tbody tr th:only-of-type {\n",
              "        vertical-align: middle;\n",
              "    }\n",
              "\n",
              "    .dataframe tbody tr th {\n",
              "        vertical-align: top;\n",
              "    }\n",
              "\n",
              "    .dataframe thead th {\n",
              "        text-align: right;\n",
              "    }\n",
              "</style>\n",
              "<table border=\"1\" class=\"dataframe\">\n",
              "  <thead>\n",
              "    <tr style=\"text-align: right;\">\n",
              "      <th></th>\n",
              "      <th>32.50234527</th>\n",
              "      <th>31.70700585</th>\n",
              "    </tr>\n",
              "  </thead>\n",
              "  <tbody>\n",
              "    <tr>\n",
              "      <th>0</th>\n",
              "      <td>53.426804</td>\n",
              "      <td>68.777596</td>\n",
              "    </tr>\n",
              "    <tr>\n",
              "      <th>1</th>\n",
              "      <td>61.530358</td>\n",
              "      <td>62.562382</td>\n",
              "    </tr>\n",
              "    <tr>\n",
              "      <th>2</th>\n",
              "      <td>47.475640</td>\n",
              "      <td>71.546632</td>\n",
              "    </tr>\n",
              "    <tr>\n",
              "      <th>3</th>\n",
              "      <td>59.813208</td>\n",
              "      <td>87.230925</td>\n",
              "    </tr>\n",
              "    <tr>\n",
              "      <th>4</th>\n",
              "      <td>55.142188</td>\n",
              "      <td>78.211518</td>\n",
              "    </tr>\n",
              "  </tbody>\n",
              "</table>\n",
              "</div>"
            ],
            "text/plain": [
              "   32.50234527  31.70700585\n",
              "0    53.426804    68.777596\n",
              "1    61.530358    62.562382\n",
              "2    47.475640    71.546632\n",
              "3    59.813208    87.230925\n",
              "4    55.142188    78.211518"
            ]
          },
          "metadata": {},
          "execution_count": 32
        }
      ]
    },
    {
      "cell_type": "code",
      "metadata": {
        "id": "gj4CQVOZ8Xtl"
      },
      "source": [
        " class LinearRegression:\n",
        "        def __init__(self,X_data,Y_data,l,iterations): #initialize all parameters\n",
        "            self.X=X_data\n",
        "            self.Y=Y_data\n",
        "            #weight and bias\n",
        "            self.m=0\n",
        "            self.c=0\n",
        "            self.L=l #learning rate\n",
        "            self.iter=iterations #num of iterations\n",
        "            self.n=float(len(self.X))  #size of data\n",
        "        \n",
        "        def cost(self,pred_y): #cost function\n",
        "            cost=np.sum(np.square(self.Y-pred_y))/(self.n)\n",
        "            return(cost)\n",
        "        \n",
        "        def fit(self):\n",
        "            self.history=np.zeros(self.iter)\n",
        "            #updating values of m and c\n",
        "            for i in range(self.iter):\n",
        "                pred_y=self.m*X + self.c\n",
        "                #print(pred_y)\n",
        "                Dm= (-2/self.n)*(self.X*(self.Y-pred_y))\n",
        "                Dc= (-2/self.n)*(self.Y-pred_y)\n",
        "                #update\n",
        "                self.m=self.m-Dm*self.L\n",
        "                self.c=self.c-Dc*self.L\n",
        "                #cost is calculated for every iteration\n",
        "                self.history[i]=self.cost(pred_y)\n",
        "            self.mse=self.MSE(self.Y,pred_y)\n",
        "                \n",
        "                \n",
        "                \n",
        "       \n",
        "        def MSE(self,pred_y,Y):\n",
        "            errors=Y-pred_y #error is the difference between actual and predicted value\n",
        "            mse=np.sum(np.square(errors))/self.n #mean of sum of square of erros\n",
        "            return mse\n",
        "        \n",
        "        def results(self):\n",
        "            fig=plt.figure(figsize=(14,14))\n",
        "            a1=fig.add_subplot(211)\n",
        "\n",
        "            plt.title('minimisation of errors across the iterations')\n",
        "            a1.plot(self.history)\n",
        "\n",
        "\n",
        "            #making predictions\n",
        "            a2=fig.add_subplot(212)\n",
        "            final_y=self.m*self.X +self.c \n",
        "            plt.scatter(self.X,self.Y)\n",
        "            plt.title('regrssion line')\n",
        "            a2.plot([min(self.X),max(self.X)],[min(final_y),max(final_y)],color='red') #plotting the red line \n",
        "            \n",
        "            plt.show()\n",
        "            \n",
        "            print ('Mean Squared Error=',self.mse)\n",
        "\n",
        "\n"
      ],
      "execution_count": null,
      "outputs": []
    },
    {
      "cell_type": "markdown",
      "metadata": {
        "id": "vYIojqS98Xtn"
      },
      "source": [
        "Plotting the dataset using a scatter plot"
      ]
    },
    {
      "cell_type": "code",
      "metadata": {
        "id": "9ZFGFPSb8Xtp",
        "colab": {
          "base_uri": "https://localhost:8080/",
          "height": 703
        },
        "outputId": "8b20ebac-f1d6-425f-92ff-64464b789eed"
      },
      "source": [
        "data=pd.read_csv('lin_reg_data.csv')\n",
        "data.head()\n",
        "X=data.iloc[:,0]\n",
        "Y=data.iloc[:,1]\n",
        "plt.scatter(X,Y)\n",
        "plt.show()\n"
      ],
      "execution_count": null,
      "outputs": [
        {
          "output_type": "display_data",
          "data": {
            "image/png": "[encoded data removed]",
            "text/plain": [
              "<Figure size 864x864 with 1 Axes>"
            ]
          },
          "metadata": {
            "needs_background": "light"
          }
        }
      ]
    },
    {
      "cell_type": "code",
      "metadata": {
        "id": "uVCgA5-c8Xtq"
      },
      "source": [
        "l=LinearRegression(X,Y,0.005,100)"
      ],
      "execution_count": null,
      "outputs": []
    },
    {
      "cell_type": "code",
      "metadata": {
        "id": "rlhUNjK38Xtr"
      },
      "source": [
        "l.fit()"
      ],
      "execution_count": null,
      "outputs": []
    },
    {
      "cell_type": "code",
      "metadata": {
        "id": "FibOQuIx8Xts",
        "colab": {
          "base_uri": "https://localhost:8080/",
          "height": 844
        },
        "outputId": "244fc889-5230-40dd-8441-57d90101d6c4"
      },
      "source": [
        "l.results()"
      ],
      "execution_count": null,
      "outputs": [
        {
          "output_type": "display_data",
          "data": {
            "image/png": "[encoded data removed]",
            "text/plain": [
              "<Figure size 1008x1008 with 2 Axes>"
            ]
          },
          "metadata": {
            "needs_background": "light"
          }
        },
        {
          "output_type": "stream",
          "name": "stdout",
          "text": [
            "Mean Squared Error= 6.0803681265392814e-05\n"
          ]
        }
      ]
    },
    {
      "cell_type": "markdown",
      "metadata": {
        "id": "XEyfkepV96Pm"
      },
      "source": [
        "## Linear Regression with L1 regularizer"
      ]
    },
    {
      "cell_type": "code",
      "metadata": {
        "scrolled": true,
        "id": "XKYXFwVQ8YMJ",
        "colab": {
          "base_uri": "https://localhost:8080/",
          "height": 203
        },
        "outputId": "4e69fad3-1d43-4897-abf1-ea2cf2fe3a97"
      },
      "source": [
        "import numpy as np\n",
        "import pandas as pd\n",
        "import matplotlib.pyplot as plt\n",
        "import statistics as st\n",
        "plt.rcParams['figure.figsize'] = (12, 12)\n",
        "\n",
        "data=pd.read_csv('lin_reg_data.csv')\n",
        "data.head()"
      ],
      "execution_count": null,
      "outputs": [
        {
          "output_type": "execute_result",
          "data": {
            "text/html": [
              "<div>\n",
              "<style scoped>\n",
              "    .dataframe tbody tr th:only-of-type {\n",
              "        vertical-align: middle;\n",
              "    }\n",
              "\n",
              "    .dataframe tbody tr th {\n",
              "        vertical-align: top;\n",
              "    }\n",
              "\n",
              "    .dataframe thead th {\n",
              "        text-align: right;\n",
              "    }\n",
              "</style>\n",
              "<table border=\"1\" class=\"dataframe\">\n",
              "  <thead>\n",
              "    <tr style=\"text-align: right;\">\n",
              "      <th></th>\n",
              "      <th>32.50234527</th>\n",
              "      <th>31.70700585</th>\n",
              "    </tr>\n",
              "  </thead>\n",
              "  <tbody>\n",
              "    <tr>\n",
              "      <th>0</th>\n",
              "      <td>53.426804</td>\n",
              "      <td>68.777596</td>\n",
              "    </tr>\n",
              "    <tr>\n",
              "      <th>1</th>\n",
              "      <td>61.530358</td>\n",
              "      <td>62.562382</td>\n",
              "    </tr>\n",
              "    <tr>\n",
              "      <th>2</th>\n",
              "      <td>47.475640</td>\n",
              "      <td>71.546632</td>\n",
              "    </tr>\n",
              "    <tr>\n",
              "      <th>3</th>\n",
              "      <td>59.813208</td>\n",
              "      <td>87.230925</td>\n",
              "    </tr>\n",
              "    <tr>\n",
              "      <th>4</th>\n",
              "      <td>55.142188</td>\n",
              "      <td>78.211518</td>\n",
              "    </tr>\n",
              "  </tbody>\n",
              "</table>\n",
              "</div>"
            ],
            "text/plain": [
              "   32.50234527  31.70700585\n",
              "0    53.426804    68.777596\n",
              "1    61.530358    62.562382\n",
              "2    47.475640    71.546632\n",
              "3    59.813208    87.230925\n",
              "4    55.142188    78.211518"
            ]
          },
          "metadata": {},
          "execution_count": 38
        }
      ]
    },
    {
      "cell_type": "code",
      "metadata": {
        "id": "wRiRfCeN8YMM"
      },
      "source": [
        " class LinearRegressionL1:\n",
        "        def __init__(self,X_data,Y_data,l,l1,iterations): #initialize all parameters\n",
        "            self.X=X_data\n",
        "            self.Y=Y_data\n",
        "            #weight and bias\n",
        "            self.m=np.random.randn(self.X.shape[0])\n",
        "            self.c=0\n",
        "            self.L=l #learning rate\n",
        "            self.l1=l1 #regularization parameter\n",
        "            self.iter=iterations #num of iterations\n",
        "            self.n=float(len(X))  #size of data\n",
        "        \n",
        "        def cost(self,pred_y): #cost function\n",
        "            cost=np.sum(np.square(self.Y-pred_y))/(self.n) + self.l1*np.sum(self.m)\n",
        "            return(cost)\n",
        "        \n",
        "        def fit(self):\n",
        "            self.history=np.zeros(self.iter)\n",
        "            pred_y=np.zeros((self.Y.shape))\n",
        "            for j in range(self.iter):\n",
        "                for i in range(0,len(self.X)):\n",
        "                        pred_y[i]=self.m[i]*X[i]+self.c\n",
        "                        if self.m[i]>0:\n",
        "                            Dm= (-2/self.n)*(self.X[i]*(self.Y[i]-pred_y[i]))-self.l1 \n",
        "                        else:\n",
        "                            Dm= (-2/self.n)*(self.X[i]*(self.Y[i]-pred_y[i]))+self.l1\n",
        "\n",
        "\n",
        "                        Dc= (-2/self.n)*(self.Y[i]-pred_y[i])\n",
        "                        #update\n",
        "                        self.m[i]=self.m[i]-Dm*self.L\n",
        "                        self.c=self.c-Dc*self.L\n",
        "                self.history[j]=self.cost(pred_y)\n",
        "            self.mse=self.MSE(self.Y,pred_y)\n",
        "\n",
        "              \n",
        "       \n",
        "        def MSE(self,pred_y,Y):\n",
        "            errors=Y-pred_y #error is the difference between actual and predicted value\n",
        "            mse=np.sum(np.square(errors))/self.n #mean of sum of square of erros\n",
        "            return mse\n",
        "        \n",
        "        def results(self):\n",
        "            fig=plt.figure(figsize=(14,14))\n",
        "            a1=fig.add_subplot(211)\n",
        "\n",
        "            plt.title('minimisation of errors across the iterations')\n",
        "            a1.plot(self.history)\n",
        "\n",
        "\n",
        "            #making predictions\n",
        "            a2=fig.add_subplot(212)\n",
        "            final_y=self.m*self.X +self.c \n",
        "            plt.scatter(self.X,self.Y)\n",
        "            plt.title('regrssion line')\n",
        "            a2.plot([min(self.X),max(self.X)],[min(final_y),max(final_y)],color='red') #plotting the red line \n",
        "            \n",
        "            plt.show()\n",
        "            \n",
        "            print ('Mean Squared Error=',self.mse)\n",
        "\n",
        "\n"
      ],
      "execution_count": null,
      "outputs": []
    },
    {
      "cell_type": "markdown",
      "metadata": {
        "id": "fyYC6u_x8YMO"
      },
      "source": [
        "Plotting the dataset using a scatter plot"
      ]
    },
    {
      "cell_type": "code",
      "metadata": {
        "id": "KHCVJ-zW8YMP",
        "colab": {
          "base_uri": "https://localhost:8080/",
          "height": 703
        },
        "outputId": "73a9a3de-a613-4f2f-d45e-9f758c067791"
      },
      "source": [
        "data=pd.read_csv('lin_reg_data.csv')\n",
        "data.head()\n",
        "X=data.iloc[:,0]\n",
        "Y=data.iloc[:,1]\n",
        "plt.scatter(X,Y)\n",
        "plt.show()\n"
      ],
      "execution_count": null,
      "outputs": [
        {
          "output_type": "display_data",
          "data": {
            "image/png": "[encoded data removed]",
            "text/plain": [
              "<Figure size 864x864 with 1 Axes>"
            ]
          },
          "metadata": {
            "needs_background": "light"
          }
        }
      ]
    },
    {
      "cell_type": "code",
      "metadata": {
        "id": "c5WqNed88YMQ"
      },
      "source": [
        "l=LinearRegressionL1(X,Y,0.005,0.001,100)"
      ],
      "execution_count": null,
      "outputs": []
    },
    {
      "cell_type": "code",
      "metadata": {
        "id": "AuWJMCFM8YMQ"
      },
      "source": [
        "l.fit()"
      ],
      "execution_count": null,
      "outputs": []
    },
    {
      "cell_type": "code",
      "metadata": {
        "id": "65K6qhoi8YMQ",
        "colab": {
          "base_uri": "https://localhost:8080/",
          "height": 844
        },
        "outputId": "cb9f63c9-cd1b-4ae2-b4fb-d599eff3c7f9"
      },
      "source": [
        "l.results()"
      ],
      "execution_count": null,
      "outputs": [
        {
          "output_type": "display_data",
          "data": {
            "image/png": "[encoded data removed]",
            "text/plain": [
              "<Figure size 1008x1008 with 2 Axes>"
            ]
          },
          "metadata": {
            "needs_background": "light"
          }
        },
        {
          "output_type": "stream",
          "name": "stdout",
          "text": [
            "Mean Squared Error= 8.032949276079813e-05\n"
          ]
        }
      ]
    },
    {
      "cell_type": "markdown",
      "metadata": {
        "id": "XggkFWsS-JV9"
      },
      "source": [
        "## Linear Regression with L2 regularizer"
      ]
    },
    {
      "cell_type": "code",
      "metadata": {
        "scrolled": true,
        "id": "vMl7hfYB8ZH9",
        "colab": {
          "base_uri": "https://localhost:8080/",
          "height": 203
        },
        "outputId": "99d697cd-034b-4221-8f2c-92add53cb17c"
      },
      "source": [
        "import numpy as np\n",
        "import pandas as pd\n",
        "import matplotlib.pyplot as plt\n",
        "import statistics as st\n",
        "plt.rcParams['figure.figsize'] = (12, 12)\n",
        "\n",
        "data=pd.read_csv('lin_reg_data.csv')\n",
        "data.head()"
      ],
      "execution_count": null,
      "outputs": [
        {
          "output_type": "execute_result",
          "data": {
            "text/html": [
              "<div>\n",
              "<style scoped>\n",
              "    .dataframe tbody tr th:only-of-type {\n",
              "        vertical-align: middle;\n",
              "    }\n",
              "\n",
              "    .dataframe tbody tr th {\n",
              "        vertical-align: top;\n",
              "    }\n",
              "\n",
              "    .dataframe thead th {\n",
              "        text-align: right;\n",
              "    }\n",
              "</style>\n",
              "<table border=\"1\" class=\"dataframe\">\n",
              "  <thead>\n",
              "    <tr style=\"text-align: right;\">\n",
              "      <th></th>\n",
              "      <th>32.50234527</th>\n",
              "      <th>31.70700585</th>\n",
              "    </tr>\n",
              "  </thead>\n",
              "  <tbody>\n",
              "    <tr>\n",
              "      <th>0</th>\n",
              "      <td>53.426804</td>\n",
              "      <td>68.777596</td>\n",
              "    </tr>\n",
              "    <tr>\n",
              "      <th>1</th>\n",
              "      <td>61.530358</td>\n",
              "      <td>62.562382</td>\n",
              "    </tr>\n",
              "    <tr>\n",
              "      <th>2</th>\n",
              "      <td>47.475640</td>\n",
              "      <td>71.546632</td>\n",
              "    </tr>\n",
              "    <tr>\n",
              "      <th>3</th>\n",
              "      <td>59.813208</td>\n",
              "      <td>87.230925</td>\n",
              "    </tr>\n",
              "    <tr>\n",
              "      <th>4</th>\n",
              "      <td>55.142188</td>\n",
              "      <td>78.211518</td>\n",
              "    </tr>\n",
              "  </tbody>\n",
              "</table>\n",
              "</div>"
            ],
            "text/plain": [
              "   32.50234527  31.70700585\n",
              "0    53.426804    68.777596\n",
              "1    61.530358    62.562382\n",
              "2    47.475640    71.546632\n",
              "3    59.813208    87.230925\n",
              "4    55.142188    78.211518"
            ]
          },
          "metadata": {},
          "execution_count": 44
        }
      ]
    },
    {
      "cell_type": "code",
      "metadata": {
        "id": "Q_gGJZsx8ZID"
      },
      "source": [
        " class LinearRegressionL2:\n",
        "        def __init__(self,X_data,Y_data,l,l2,iterations): #initialize all parameters\n",
        "            self.X=X_data\n",
        "            self.Y=Y_data\n",
        "            #weight and bias\n",
        "            self.m=0\n",
        "            self.c=0\n",
        "            self.L=l #learning rate\n",
        "            self.l2=l2 #regularization parameter\n",
        "            self.iter=iterations #num of iterations\n",
        "            self.n=float(len(self.X))  #size of data\n",
        "        \n",
        "        def cost(self,pred_y): #cost function\n",
        "            cost=np.sum(np.square(self.Y-pred_y))/(self.n) + self.l2*np.sum(np.square(self.m))\n",
        "            return(cost)\n",
        "        \n",
        "        def fit(self):\n",
        "            self.history=np.zeros(self.iter)\n",
        "            #updating values of m and c\n",
        "            for i in range(self.iter):\n",
        "                pred_y=self.m*self.X + self.c\n",
        "                #print(pred_y)\n",
        "                Dm= (-2/self.n)*(self.X*(self.Y-pred_y))+2*self.l2*self.m\n",
        "                Dc= (-2/self.n)*(self.Y-pred_y)\n",
        "                #update\n",
        "                self.m=self.m-Dm*self.L\n",
        "                self.c=self.c-Dc*self.L\n",
        "                #cost is calculated for every iteration\n",
        "                self.history[i]=self.cost(pred_y)\n",
        "            self.mse=self.MSE(self.Y,pred_y)\n",
        "                \n",
        "                \n",
        "                \n",
        "       \n",
        "        def MSE(self,pred_y,Y):\n",
        "            errors=Y-pred_y #error is the difference between actual and predicted value\n",
        "            mse=np.sum(np.square(errors))/self.n #mean of sum of square of erros\n",
        "            return mse\n",
        "        \n",
        "        def results(self):\n",
        "            fig=plt.figure(figsize=(14,14))\n",
        "            a1=fig.add_subplot(211)\n",
        "\n",
        "            plt.title('minimisation of errors across the iterations')\n",
        "            a1.plot(self.history)\n",
        "\n",
        "\n",
        "            #making predictions\n",
        "            a2=fig.add_subplot(212)\n",
        "            final_y=self.m*self.X +self.c \n",
        "            plt.scatter(self.X,self.Y)\n",
        "            plt.title('regrssion line')\n",
        "            a2.plot([min(self.X),max(self.X)],[min(final_y),max(final_y)],color='red') #plotting the red line \n",
        "            \n",
        "            plt.show()\n",
        "            \n",
        "            print ('Mean Squared Error=',self.mse)\n",
        "\n",
        "\n"
      ],
      "execution_count": null,
      "outputs": []
    },
    {
      "cell_type": "markdown",
      "metadata": {
        "id": "GlbNQghU8ZIE"
      },
      "source": [
        "Plotting the dataset using a scatter plot"
      ]
    },
    {
      "cell_type": "code",
      "metadata": {
        "id": "ISTCWc0W8ZIG",
        "colab": {
          "base_uri": "https://localhost:8080/",
          "height": 703
        },
        "outputId": "4abf64d3-e8e7-4167-c4e4-375db9d899f1"
      },
      "source": [
        "data=pd.read_csv('lin_reg_data.csv')\n",
        "data.head()\n",
        "X=data.iloc[:,0]\n",
        "Y=data.iloc[:,1]\n",
        "plt.scatter(X,Y)\n",
        "plt.show()\n"
      ],
      "execution_count": null,
      "outputs": [
        {
          "output_type": "display_data",
          "data": {
            "image/png": "[encoded data removed]",
            "text/plain": [
              "<Figure size 864x864 with 1 Axes>"
            ]
          },
          "metadata": {
            "needs_background": "light"
          }
        }
      ]
    },
    {
      "cell_type": "code",
      "metadata": {
        "id": "GfxCoF_M8ZIH"
      },
      "source": [
        "l=LinearRegressionL2(X,Y,0.005,0.001,100)"
      ],
      "execution_count": null,
      "outputs": []
    },
    {
      "cell_type": "code",
      "metadata": {
        "id": "pTtvL1qk8ZIH"
      },
      "source": [
        "l.fit()"
      ],
      "execution_count": null,
      "outputs": []
    },
    {
      "cell_type": "code",
      "metadata": {
        "id": "f8peyE398ZII",
        "colab": {
          "base_uri": "https://localhost:8080/",
          "height": 844
        },
        "outputId": "270808da-679d-47a3-8af9-3271548109f4"
      },
      "source": [
        "l.results()"
      ],
      "execution_count": null,
      "outputs": [
        {
          "output_type": "display_data",
          "data": {
            "image/png": "[encoded data removed]",
            "text/plain": [
              "<Figure size 1008x1008 with 2 Axes>"
            ]
          },
          "metadata": {
            "needs_background": "light"
          }
        },
        {
          "output_type": "stream",
          "name": "stdout",
          "text": [
            "Mean Squared Error= 8.5291379739768e-05\n"
          ]
        }
      ]
    },
    {
      "cell_type": "markdown",
      "metadata": {
        "id": "qAVFgP7QPeve"
      },
      "source": [
        "## L2 regression using pytorch"
      ]
    },
    {
      "cell_type": "code",
      "metadata": {
        "id": "UxAOvToCPh4D"
      },
      "source": [
        "optimizer = torch.optim.Adam(model.parameters(), lr=1e-4, weight_decay=1e-5)"
      ],
      "execution_count": null,
      "outputs": []
    }
  ]
}