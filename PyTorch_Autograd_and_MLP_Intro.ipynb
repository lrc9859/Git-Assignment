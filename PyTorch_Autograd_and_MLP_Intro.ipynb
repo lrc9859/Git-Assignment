{
  "nbformat": 4,
  "nbformat_minor": 0,
  "metadata": {
    "colab": {
      "name": "PyTorch Autograd and MLP Intro",
      "provenance": [],
      "collapsed_sections": [
        "_Co57S2l-Sb_",
        "oRRgF2WmKa9B",
        "bRV5WxS6BrCp",
        "ihe8F-9iBvbW"
      ],
      "include_colab_link": true
    },
    "kernelspec": {
      "name": "python3",
      "display_name": "Python 3"
    },
    "accelerator": "GPU"
  },
  "cells": [
    {
      "cell_type": "markdown",
      "metadata": {
        "id": "view-in-github",
        "colab_type": "text"
      },
      "source": [
        "<a href=\"https://colab.research.google.com/github/lrc9859/Git-Assignment/blob/master/PyTorch_Autograd_and_MLP_Intro.ipynb\" target=\"_parent\"><img src=\"https://colab.research.google.com/assets/colab-badge.svg\" alt=\"Open In Colab\"/></a>"
      ]
    },
    {
      "cell_type": "markdown",
      "metadata": {
        "id": "duZAvPnOAaHD"
      },
      "source": [
        "# PyTorch Intro\n",
        "\n",
        "_Adapted from Justin Johnson's Tutorial:_\n",
        "https://pytorch.org/tutorials/beginner/pytorch_with_examples.html#examples"
      ]
    },
    {
      "cell_type": "markdown",
      "metadata": {
        "id": "iqgoMTr4ATQj"
      },
      "source": [
        "This tutorial introduces the fundamental concepts of PyTorch through self-contained examples.\n",
        "\n",
        "At its core, PyTorch provides two main features:\n",
        "\n",
        "- An n-dimensional Tensor, similar to numpy but can run on GPUs\n",
        "- Automatic differentiation for building and training neural networks\n",
        "\n",
        "We will use a problem of fitting `y=sin(x)` with a third order polynomial as our running example. The network will have four parameters, and will be trained with gradient descent to fit random data by minimizing the Euclidean distance between the network output and the true output."
      ]
    },
    {
      "cell_type": "markdown",
      "metadata": {
        "id": "_Co57S2l-Sb_"
      },
      "source": [
        "## Setup"
      ]
    },
    {
      "cell_type": "code",
      "metadata": {
        "colab": {
          "base_uri": "https://localhost:8080/"
        },
        "id": "nqMwjDZ4-R30",
        "outputId": "e27c2f04-f8d7-49ab-8d93-acdbf3895718"
      },
      "source": [
        "!pip install torchviz\n",
        "\n",
        "import numpy as np\n",
        "import math\n",
        "import random\n",
        "import matplotlib.pyplot as plt\n",
        "from datetime import datetime\n",
        "import torch\n",
        "from torchviz import make_dot"
      ],
      "execution_count": null,
      "outputs": [
        {
          "output_type": "stream",
          "name": "stdout",
          "text": [
            "Collecting torchviz\n",
            "  Downloading torchviz-0.0.2.tar.gz (4.9 kB)\n",
            "Requirement already satisfied: torch in /usr/local/lib/python3.7/dist-packages (from torchviz) (1.9.0+cu102)\n",
            "Requirement already satisfied: graphviz in /usr/local/lib/python3.7/dist-packages (from torchviz) (0.10.1)\n",
            "Requirement already satisfied: typing-extensions in /usr/local/lib/python3.7/dist-packages (from torch->torchviz) (3.7.4.3)\n",
            "Building wheels for collected packages: torchviz\n",
            "  Building wheel for torchviz (setup.py) ... \u001b[?25l\u001b[?25hdone\n",
            "  Created wheel for torchviz: filename=torchviz-0.0.2-py3-none-any.whl size=4151 sha256=816d10f363a3ea936af10d1bf4d13c1d8762a888a1fcc975be77b0680808086d\n",
            "  Stored in directory: /root/.cache/pip/wheels/04/38/f5/dc4f85c3909051823df49901e72015d2d750bd26b086480ec2\n",
            "Successfully built torchviz\n",
            "Installing collected packages: torchviz\n",
            "Successfully installed torchviz-0.0.2\n"
          ]
        }
      ]
    },
    {
      "cell_type": "markdown",
      "metadata": {
        "id": "XUGrGPfgAykJ"
      },
      "source": [
        "## Tensors"
      ]
    },
    {
      "cell_type": "markdown",
      "metadata": {
        "id": "dNjzwyxaAmh-"
      },
      "source": [
        "### Warm-up: numpy\n",
        "\n",
        "Before introducing PyTorch, we will first implement the network using numpy.\n",
        "\n",
        "Numpy provides an n-dimensional array object, and many functions for manipulating these arrays. Numpy is a generic framework for scientific computing; it does not know anything about computation graphs, or deep learning, or gradients. However we can easily use numpy to fit a third order polynomial to sine function by manually implementing the forward and backward passes through the network using numpy operations:"
      ]
    },
    {
      "cell_type": "code",
      "metadata": {
        "colab": {
          "base_uri": "https://localhost:8080/"
        },
        "id": "D5cOZDhAgj7I",
        "outputId": "20d6999a-35a2-4cff-bc67-ecf717186730"
      },
      "source": [
        "x = np.linspace(6, 10, 10)\n",
        "x"
      ],
      "execution_count": null,
      "outputs": [
        {
          "output_type": "execute_result",
          "data": {
            "text/plain": [
              "array([ 6.        ,  6.44444444,  6.88888889,  7.33333333,  7.77777778,\n",
              "        8.22222222,  8.66666667,  9.11111111,  9.55555556, 10.        ])"
            ]
          },
          "metadata": {},
          "execution_count": 6
        }
      ]
    },
    {
      "cell_type": "code",
      "metadata": {
        "colab": {
          "base_uri": "https://localhost:8080/",
          "height": 392
        },
        "id": "qbqPsHVp8DRl",
        "outputId": "9653289c-1f46-46ed-acd3-cb3b179746c4"
      },
      "source": [
        "# Create random input and output data\n",
        "x = np.linspace(-math.pi, math.pi, 2000)\n",
        "y = np.sin(x)\n",
        "\n",
        "# Randomly initialize weights\n",
        "a = np.random.randn()\n",
        "b = np.random.randn()\n",
        "c = np.random.randn()\n",
        "d = np.random.randn()\n",
        "\n",
        "learning_rate = 1e-3\n",
        "\n",
        "start_time = datetime.now()\n",
        "for t in range(20000):\n",
        "    # Forward pass: compute predicted y\n",
        "    # y = a + b x + c x^2 + d x^3\n",
        "\n",
        "    y_pred = a + b*x + c*x**2 + d*x**3\n",
        "\n",
        "    # Compute and print loss\n",
        "    loss = np.mean(0.5*(y - y_pred)**2)\n",
        "\n",
        "    # Backprop to compute gradients of loss with respect to a, b, c, d\n",
        "    grad_y_pred = y_pred - y\n",
        "    grad_a = np.mean(grad_y_pred)\n",
        "    grad_b = np.mean(grad_y_pred * x)\n",
        "    grad_c = np.mean(grad_y_pred * x**2)\n",
        "    grad_d = np.mean(grad_y_pred * x**3)\n",
        "\n",
        "    # Update weights\n",
        "    a = a - learning_rate * grad_a\n",
        "    b = b - learning_rate * grad_b\n",
        "    c = c - learning_rate * grad_c\n",
        "    d = d - learning_rate * grad_d\n",
        "\n",
        "print(f\"\\nTrained in {datetime.now() - start_time}\\n\")\n",
        "print(f'\\nResult: y = {a} + {b} x + {c} x^2 + {d} x^3\\n')\n",
        "\n",
        "plt.plot(x, y, label=\"true\")\n",
        "plt.plot(x, a + b*x + c*(x**2) + d * (x**3), label=\"pred\")\n",
        "plt.legend()"
      ],
      "execution_count": null,
      "outputs": [
        {
          "output_type": "stream",
          "name": "stdout",
          "text": [
            "\n",
            "Trained in 0:00:08.533402\n",
            "\n",
            "\n",
            "Result: y = -7.96442352821522e-05 + 0.8567214798455824 x + 1.373995587196707e-05 x^2 + -0.0933276347900036 x^3\n",
            "\n"
          ]
        },
        {
          "output_type": "execute_result",
          "data": {
            "text/plain": [
              "<matplotlib.legend.Legend at 0x7f92e9054950>"
            ]
          },
          "metadata": {},
          "execution_count": 9
        },
        {
          "output_type": "display_data",
          "data": {
            "image/png": "[encoded data removed]",
            "text/plain": [
              "<Figure size 432x288 with 1 Axes>"
            ]
          },
          "metadata": {
            "needs_background": "light"
          }
        }
      ]
    },
    {
      "cell_type": "markdown",
      "metadata": {
        "id": "pGDJKC0bAtHJ"
      },
      "source": [
        "### PyTorch: Tensors\n",
        "\n",
        "Numpy is a great framework, but it cannot utilize GPUs to accelerate its numerical computations. For modern deep neural networks, GPUs often provide speedups of 50x or greater, so unfortunately numpy won’t be enough for modern deep learning.\n",
        "\n",
        "Here we introduce the most fundamental PyTorch concept: the Tensor. A PyTorch Tensor is conceptually identical to a numpy array: a Tensor is an n-dimensional array, and PyTorch provides many functions for operating on these Tensors. Behind the scenes, Tensors can keep track of a computational graph and gradients, but they’re also useful as a generic tool for scientific computing.\n",
        "\n",
        "Also unlike numpy, PyTorch Tensors can utilize GPUs to accelerate their numeric computations. To run a PyTorch Tensor on GPU, you simply need to specify the correct device.\n",
        "\n",
        "Here we use PyTorch Tensors to fit a third order polynomial to sine function. Like the numpy example above we need to manually implement the forward and backward passes through the network:"
      ]
    },
    {
      "cell_type": "code",
      "metadata": {
        "colab": {
          "base_uri": "https://localhost:8080/",
          "height": 392
        },
        "id": "W5_JnnwLAOwK",
        "outputId": "40f85427-8087-4e79-e0a0-f8b0ad2a9dbc"
      },
      "source": [
        "dtype = torch.float\n",
        "device = torch.device(\"cpu\")\n",
        "# device = torch.device(\"cuda:0\") # Uncomment this to run on GPU\n",
        "\n",
        "# Create random input and output data\n",
        "x = torch.linspace(-math.pi, math.pi, 2000, device=device, dtype=dtype)\n",
        "y = torch.sin(x)\n",
        "\n",
        "# Randomly initialize weights\n",
        "a = torch.randn((), device=device, dtype=dtype)\n",
        "b = torch.randn((), device=device, dtype=dtype)\n",
        "c = torch.randn((), device=device, dtype=dtype)\n",
        "d = torch.randn((), device=device, dtype=dtype)\n",
        "\n",
        "learning_rate = 1e-3\n",
        "\n",
        "start_time = datetime.now()\n",
        "for t in range(20000):\n",
        "    # Forward pass: compute predicted y\n",
        "    # y = a + b x + c x^2 + d x^3\n",
        "\n",
        "    y_pred = a + b*x + c*x**2 + d*x**3\n",
        "\n",
        "    # Compute and print loss\n",
        "    loss = torch.mean(0.5*(y - y_pred)**2)\n",
        "\n",
        "    # Backprop to compute gradients of loss with respect to a, b, c, d\n",
        "    grad_y_pred = y_pred - y\n",
        "    grad_a = torch.mean(grad_y_pred)\n",
        "    grad_b = torch.mean(grad_y_pred * x)\n",
        "    grad_c = torch.mean(grad_y_pred * x**2)\n",
        "    grad_d = torch.mean(grad_y_pred * x**3)\n",
        "\n",
        "    # Update weights\n",
        "    a = a - learning_rate * grad_a\n",
        "    b = b - learning_rate * grad_b\n",
        "    c = c - learning_rate * grad_c\n",
        "    d = d - learning_rate * grad_d\n",
        "\n",
        "print(f\"\\nTrained in {datetime.now() - start_time}\\n\")\n",
        "print(f'\\nResult: y = {a.item()} + {b.item()} x + {c.item()} x^2 + {d.item()} x^3\\n')\n",
        "\n",
        "plt.plot(x.cpu(), y.cpu(), label=\"true\")\n",
        "plt.plot(x.cpu(), a.cpu() + b.cpu()*x + c.cpu()*(x**2) + d.cpu() * (x**3), label=\"pred\")\n",
        "plt.legend()"
      ],
      "execution_count": null,
      "outputs": [
        {
          "output_type": "stream",
          "name": "stdout",
          "text": [
            "\n",
            "Trained in 0:00:02.922794\n",
            "\n",
            "\n",
            "Result: y = 0.0001716128463158384 + 0.8566833734512329 x + -2.960550773423165e-05 x^2 + -0.09332221746444702 x^3\n",
            "\n"
          ]
        },
        {
          "output_type": "execute_result",
          "data": {
            "text/plain": [
              "<matplotlib.legend.Legend at 0x7f92e8ee8bd0>"
            ]
          },
          "metadata": {},
          "execution_count": 11
        },
        {
          "output_type": "display_data",
          "data": {
            "image/png": "[encoded data removed]",
            "text/plain": [
              "<Figure size 432x288 with 1 Axes>"
            ]
          },
          "metadata": {
            "needs_background": "light"
          }
        }
      ]
    },
    {
      "cell_type": "markdown",
      "metadata": {
        "id": "oRRgF2WmKa9B"
      },
      "source": [
        "### Performance comparison\n",
        "\n",
        "_Make sure you are connected to a GPU when running this cell_"
      ]
    },
    {
      "cell_type": "code",
      "metadata": {
        "colab": {
          "base_uri": "https://localhost:8080/"
        },
        "id": "DY-qX1xeJQJm",
        "outputId": "e9f0613c-c5f0-43d7-aa5f-be9708739bd2"
      },
      "source": [
        "import numpy as np\n",
        "import torch\n",
        "\n",
        "numpy_mat = np.random.rand(1000, 1000) * 100\n",
        "torch_no_gpu_mat = torch.rand(1000, 1000) * 100\n",
        "torch_gpu_mat = torch.rand(1000, 1000).to(torch.device(\"cuda\")) * 100\n",
        "\n",
        "print(\"Matrix mutliplication in numpy -\")\n",
        "%timeit numpy_mat ** 2\n",
        "\n",
        "print(\"\\nMatrix mutliplication in torch without GPU -\")\n",
        "%timeit torch_no_gpu_mat ** 2\n",
        "\n",
        "print(\"\\nMatrix mutliplication in torch with GPU -\")\n",
        "%timeit torch_gpu_mat ** 2"
      ],
      "execution_count": null,
      "outputs": [
        {
          "output_type": "stream",
          "name": "stdout",
          "text": [
            "Matrix mutliplication in numpy -\n",
            "The slowest run took 4.25 times longer than the fastest. This could mean that an intermediate result is being cached.\n",
            "1000 loops, best of 5: 893 µs per loop\n",
            "\n",
            "Matrix mutliplication in torch without GPU -\n",
            "1000 loops, best of 5: 635 µs per loop\n",
            "\n",
            "Matrix mutliplication in torch with GPU -\n",
            "The slowest run took 158.27 times longer than the fastest. This could mean that an intermediate result is being cached.\n",
            "10000 loops, best of 5: 54.2 µs per loop\n"
          ]
        }
      ]
    },
    {
      "cell_type": "markdown",
      "metadata": {
        "id": "wyOI-3waA-_Y"
      },
      "source": [
        "## Autograd"
      ]
    },
    {
      "cell_type": "markdown",
      "metadata": {
        "id": "YcmofQKuA6ix"
      },
      "source": [
        "### PyTorch: Tensors and autograd\n",
        "\n",
        "In the above examples, we had to manually implement both the forward and backward passes of our neural network. Manually implementing the backward pass is not a big deal for a small two-layer network, but can quickly get very hairy for large complex networks.\n",
        "\n",
        "Thankfully, we can use automatic differentiation to automate the computation of backward passes in neural networks. The autograd package in PyTorch provides exactly this functionality. When using autograd, the forward pass of your network will define a computational graph; nodes in the graph will be Tensors, and edges will be functions that produce output Tensors from input Tensors. Backpropagating through this graph then allows you to easily compute gradients.\n",
        "\n",
        "This sounds complicated, it’s pretty simple to use in practice. Each Tensor represents a node in a computational graph. If x is a Tensor that has x.requires_grad=True then x.grad is another Tensor holding the gradient of x with respect to some scalar value.\n",
        "\n",
        "Take the following example that implementes 2x^2"
      ]
    },
    {
      "cell_type": "markdown",
      "metadata": {
        "id": "MjSng3uMJcCE"
      },
      "source": [
        "![image.png](data:image/png;base64,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)"
      ]
    },
    {
      "cell_type": "code",
      "metadata": {
        "colab": {
          "base_uri": "https://localhost:8080/",
          "height": 394
        },
        "id": "tXudh43t1bET",
        "outputId": "e534b7a0-a508-41f7-f039-c76a7163ba1b"
      },
      "source": [
        "from torch.autograd import Variable\n",
        "\n",
        "x = torch.tensor([2.0], requires_grad=True)\n",
        "coeff = torch.tensor([2.0], requires_grad=True)\n",
        "temp = x**2\n",
        "result = coeff * temp\n",
        "\n",
        "make_dot(result, params={k: v for k, v in locals().items() if isinstance(v, Variable)})"
      ],
      "execution_count": null,
      "outputs": [
        {
          "output_type": "execute_result",
          "data": {
            "text/plain": [
              "<graphviz.dot.Digraph at 0x7f92e6f50c10>"
            ],
            "image/svg+xml": "<?xml version=\"1.0\" encoding=\"UTF-8\" standalone=\"no\"?>\n<!DOCTYPE svg PUBLIC \"-//W3C//DTD SVG 1.1//EN\"\n \"http://www.w3.org/Graphics/SVG/1.1/DTD/svg11.dtd\">\n<!-- Generated by graphviz version 2.40.1 (20161225.0304)\n -->\n<!-- Title: %3 Pages: 1 -->\n<svg width=\"222pt\" height=\"280pt\"\n viewBox=\"0.00 0.00 222.00 280.00\" xmlns=\"http://www.w3.org/2000/svg\" xmlns:xlink=\"http://www.w3.org/1999/xlink\">\n<g id=\"graph0\" class=\"graph\" transform=\"scale(1 1) rotate(0) translate(4 276)\">\n<title>%3</title>\n<polygon fill=\"#ffffff\" stroke=\"transparent\" points=\"-4,4 -4,-276 218,-276 218,4 -4,4\"/>\n<!-- 140268907732496 -->\n<g id=\"node1\" class=\"node\">\n<title>140268907732496</title>\n<polygon fill=\"#caff70\" stroke=\"#000000\" points=\"133.5,-30 79.5,-30 79.5,0 133.5,0 133.5,-30\"/>\n<text text-anchor=\"middle\" x=\"106.5\" y=\"-18\" font-family=\"monospace\" font-size=\"10.00\" fill=\"#000000\">result</text>\n<text text-anchor=\"middle\" x=\"106.5\" y=\"-7\" font-family=\"monospace\" font-size=\"10.00\" fill=\"#000000\"> (1)</text>\n</g>\n<!-- 140268959789904 -->\n<g id=\"node2\" class=\"node\">\n<title>140268959789904</title>\n<polygon fill=\"#d3d3d3\" stroke=\"#000000\" points=\"151,-85 62,-85 62,-66 151,-66 151,-85\"/>\n<text text-anchor=\"middle\" x=\"106.5\" y=\"-73\" font-family=\"monospace\" font-size=\"10.00\" fill=\"#000000\">MulBackward0</text>\n</g>\n<!-- 140268959789904&#45;&gt;140268907732496 -->\n<g id=\"edge6\" class=\"edge\">\n<title>140268959789904&#45;&gt;140268907732496</title>\n<path fill=\"none\" stroke=\"#000000\" d=\"M106.5,-65.7796C106.5,-58.8654 106.5,-49.2417 106.5,-40.2296\"/>\n<polygon fill=\"#000000\" stroke=\"#000000\" points=\"110.0001,-40.1301 106.5,-30.1301 103.0001,-40.1302 110.0001,-40.1301\"/>\n</g>\n<!-- 140268959789712 -->\n<g id=\"node3\" class=\"node\">\n<title>140268959789712</title>\n<polygon fill=\"#d3d3d3\" stroke=\"#000000\" points=\"101,-140 0,-140 0,-121 101,-121 101,-140\"/>\n<text text-anchor=\"middle\" x=\"50.5\" y=\"-128\" font-family=\"monospace\" font-size=\"10.00\" fill=\"#000000\">AccumulateGrad</text>\n</g>\n<!-- 140268959789712&#45;&gt;140268959789904 -->\n<g id=\"edge1\" class=\"edge\">\n<title>140268959789712&#45;&gt;140268959789904</title>\n<path fill=\"none\" stroke=\"#000000\" d=\"M60.2545,-120.9197C68.1865,-113.1293 79.5788,-101.9405 89.0712,-92.6176\"/>\n<polygon fill=\"#000000\" stroke=\"#000000\" points=\"91.7982,-94.845 96.4802,-85.3408 86.8932,-89.8509 91.7982,-94.845\"/>\n</g>\n<!-- 140268907639344 -->\n<g id=\"node4\" class=\"node\">\n<title>140268907639344</title>\n<polygon fill=\"#add8e6\" stroke=\"#000000\" points=\"77.5,-206 23.5,-206 23.5,-176 77.5,-176 77.5,-206\"/>\n<text text-anchor=\"middle\" x=\"50.5\" y=\"-194\" font-family=\"monospace\" font-size=\"10.00\" fill=\"#000000\">coeff</text>\n<text text-anchor=\"middle\" x=\"50.5\" y=\"-183\" font-family=\"monospace\" font-size=\"10.00\" fill=\"#000000\"> (1)</text>\n</g>\n<!-- 140268907639344&#45;&gt;140268959789712 -->\n<g id=\"edge2\" class=\"edge\">\n<title>140268907639344&#45;&gt;140268959789712</title>\n<path fill=\"none\" stroke=\"#000000\" d=\"M50.5,-175.7333C50.5,-168.0322 50.5,-158.5977 50.5,-150.3414\"/>\n<polygon fill=\"#000000\" stroke=\"#000000\" points=\"54.0001,-150.0864 50.5,-140.0864 47.0001,-150.0864 54.0001,-150.0864\"/>\n</g>\n<!-- 140268916772112 -->\n<g id=\"node5\" class=\"node\">\n<title>140268916772112</title>\n<polygon fill=\"#d3d3d3\" stroke=\"#000000\" points=\"208,-140 119,-140 119,-121 208,-121 208,-140\"/>\n<text text-anchor=\"middle\" x=\"163.5\" y=\"-128\" font-family=\"monospace\" font-size=\"10.00\" fill=\"#000000\">PowBackward0</text>\n</g>\n<!-- 140268916772112&#45;&gt;140268959789904 -->\n<g id=\"edge3\" class=\"edge\">\n<title>140268916772112&#45;&gt;140268959789904</title>\n<path fill=\"none\" stroke=\"#000000\" d=\"M153.5714,-120.9197C145.4169,-113.0514 133.6697,-101.7164 123.9508,-92.3385\"/>\n<polygon fill=\"#000000\" stroke=\"#000000\" points=\"126.3252,-89.7659 116.6987,-85.3408 121.4646,-94.8032 126.3252,-89.7659\"/>\n</g>\n<!-- 140268916771600 -->\n<g id=\"node6\" class=\"node\">\n<title>140268916771600</title>\n<polygon fill=\"#d3d3d3\" stroke=\"#000000\" points=\"214,-200.5 113,-200.5 113,-181.5 214,-181.5 214,-200.5\"/>\n<text text-anchor=\"middle\" x=\"163.5\" y=\"-188.5\" font-family=\"monospace\" font-size=\"10.00\" fill=\"#000000\">AccumulateGrad</text>\n</g>\n<!-- 140268916771600&#45;&gt;140268916772112 -->\n<g id=\"edge4\" class=\"edge\">\n<title>140268916771600&#45;&gt;140268916772112</title>\n<path fill=\"none\" stroke=\"#000000\" d=\"M163.5,-181.2796C163.5,-173.0376 163.5,-160.9457 163.5,-150.629\"/>\n<polygon fill=\"#000000\" stroke=\"#000000\" points=\"167.0001,-150.3972 163.5,-140.3972 160.0001,-150.3973 167.0001,-150.3972\"/>\n</g>\n<!-- 140268907642624 -->\n<g id=\"node7\" class=\"node\">\n<title>140268907642624</title>\n<polygon fill=\"#add8e6\" stroke=\"#000000\" points=\"190.5,-272 136.5,-272 136.5,-242 190.5,-242 190.5,-272\"/>\n<text text-anchor=\"middle\" x=\"163.5\" y=\"-260\" font-family=\"monospace\" font-size=\"10.00\" fill=\"#000000\">x</text>\n<text text-anchor=\"middle\" x=\"163.5\" y=\"-249\" font-family=\"monospace\" font-size=\"10.00\" fill=\"#000000\"> (1)</text>\n</g>\n<!-- 140268907642624&#45;&gt;140268916771600 -->\n<g id=\"edge5\" class=\"edge\">\n<title>140268907642624&#45;&gt;140268916771600</title>\n<path fill=\"none\" stroke=\"#000000\" d=\"M163.5,-241.6924C163.5,-232.5067 163.5,-220.7245 163.5,-210.8312\"/>\n<polygon fill=\"#000000\" stroke=\"#000000\" points=\"167.0001,-210.703 163.5,-200.7031 160.0001,-210.7031 167.0001,-210.703\"/>\n</g>\n</g>\n</svg>\n"
          },
          "metadata": {},
          "execution_count": 29
        }
      ]
    },
    {
      "cell_type": "code",
      "metadata": {
        "colab": {
          "base_uri": "https://localhost:8080/"
        },
        "id": "W_NEh85vmmHs",
        "outputId": "d2535ced-2a44-4558-cfde-561f35bf7d4b"
      },
      "source": [
        "temp.grad_fn(result.grad_fn(torch.tensor([1.0]))[1])"
      ],
      "execution_count": null,
      "outputs": [
        {
          "output_type": "execute_result",
          "data": {
            "text/plain": [
              "tensor([8.], grad_fn=<MulBackward0>)"
            ]
          },
          "metadata": {},
          "execution_count": 35
        }
      ]
    },
    {
      "cell_type": "code",
      "metadata": {
        "colab": {
          "base_uri": "https://localhost:8080/"
        },
        "id": "FW2lUsWFAzoS",
        "outputId": "edea4a5c-4071-40a7-94d2-16167fbb4c1e"
      },
      "source": [
        "torch.autograd.grad(result, x)"
      ],
      "execution_count": null,
      "outputs": [
        {
          "output_type": "execute_result",
          "data": {
            "text/plain": [
              "(tensor([8.]),)"
            ]
          },
          "metadata": {},
          "execution_count": 18
        }
      ]
    },
    {
      "cell_type": "code",
      "metadata": {
        "colab": {
          "base_uri": "https://localhost:8080/"
        },
        "id": "3c_ol_kAkbps",
        "outputId": "751abd57-9a32-4eef-bd8c-f040a0a399c3"
      },
      "source": [
        "a = torch.tensor([1.0], requires_grad=True)\n",
        "b = torch.tensor([2.0], requires_grad=True)\n",
        "\n",
        "c = a * b\n",
        "\n",
        "c.grad_fn(torch.tensor([2.0]))"
      ],
      "execution_count": null,
      "outputs": [
        {
          "output_type": "execute_result",
          "data": {
            "text/plain": [
              "(tensor([4.], grad_fn=<MulBackward0>), tensor([2.], grad_fn=<MulBackward0>))"
            ]
          },
          "metadata": {},
          "execution_count": 56
        }
      ]
    },
    {
      "cell_type": "code",
      "metadata": {
        "colab": {
          "base_uri": "https://localhost:8080/"
        },
        "id": "xVDVc038xuuM",
        "outputId": "0ad5f1bf-5295-42a9-a2f8-1e0424062101"
      },
      "source": [
        "c.backward()\n",
        "\n",
        "a.grad"
      ],
      "execution_count": null,
      "outputs": [
        {
          "output_type": "execute_result",
          "data": {
            "text/plain": [
              "tensor([2.])"
            ]
          },
          "metadata": {},
          "execution_count": 57
        }
      ]
    },
    {
      "cell_type": "markdown",
      "metadata": {
        "id": "W3mypd1IJesj"
      },
      "source": [
        "We can use this to perform simple *gradient descent*:"
      ]
    },
    {
      "cell_type": "code",
      "metadata": {
        "colab": {
          "base_uri": "https://localhost:8080/",
          "height": 283
        },
        "id": "7fb5pZRwFsXG",
        "outputId": "6cda9a9f-2b2e-4209-dc16-18460e490a12"
      },
      "source": [
        "learning_rate = 0.01\n",
        "x = torch.tensor([1.0], requires_grad=True)\n",
        "\n",
        "xs = []\n",
        "\n",
        "for i in range(1000):\n",
        "    # forward pass through quadratic\n",
        "    y = x**2 - 6*x + 4  \n",
        "\n",
        "    # compute gradient \n",
        "    grad = torch.autograd.grad(y, x)[0]\n",
        "\n",
        "    # update x\n",
        "    x = x - learning_rate*grad\n",
        "\n",
        "    xs.append(x.item())\n",
        "\n",
        "plt.plot(xs)"
      ],
      "execution_count": null,
      "outputs": [
        {
          "output_type": "execute_result",
          "data": {
            "text/plain": [
              "[<matplotlib.lines.Line2D at 0x7f92e66e1250>]"
            ]
          },
          "metadata": {},
          "execution_count": 38
        },
        {
          "output_type": "display_data",
          "data": {
            "image/png": "[encoded data removed]",
            "text/plain": [
              "<Figure size 432x288 with 1 Axes>"
            ]
          },
          "metadata": {
            "needs_background": "light"
          }
        }
      ]
    },
    {
      "cell_type": "markdown",
      "metadata": {
        "id": "w0KnDyXy1Q9A"
      },
      "source": [
        "As a more involved example, consider the following computational graph and try to implement it in PyTorch:\n",
        "\n",
        "(Adapated from the [DL Neuromatch Tutorial](https://deeplearning.neuromatch.io/tutorials/W1D2_LinearDeepLearning/student/W1D2_Tutorial1.html#video-4-auto-differentiation))"
      ]
    },
    {
      "cell_type": "markdown",
      "metadata": {
        "id": "vzlUYu7O1Ojn"
      },
      "source": [
        "![image.png](data:image/png;base64,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)"
      ]
    },
    {
      "cell_type": "code",
      "metadata": {
        "colab": {
          "base_uri": "https://localhost:8080/",
          "height": 742
        },
        "id": "vLilGkzk1N75",
        "outputId": "22bf6d4a-8318-4d33-b211-f3915e7ba5e2"
      },
      "source": [
        "class SimpleGraph:\n",
        "    def __init__(self, w, b):\n",
        "        \"\"\"Initializing the SimpleGraph\n",
        "\n",
        "        Args:\n",
        "            w (float): initial value for weight\n",
        "            b (float): initial value for bias\n",
        "        \"\"\"\n",
        "\n",
        "        self.w = torch.tensor([w], requires_grad=True)\n",
        "        self.b = torch.tensor([b], requires_grad=True)\n",
        "\n",
        "    def forward(self, x):\n",
        "        \"\"\"Forward pass\n",
        "\n",
        "        Args:\n",
        "            x (torch.Tensor): 1D tensor of features\n",
        "\n",
        "        Returns:\n",
        "            torch.Tensor: model predictions\n",
        "        \"\"\"\n",
        "        # Implement the the forward pass to calculate prediction\n",
        "        # Note that prediction is not the loss, but the value after `tanh`\n",
        "\n",
        "        prediction = torch.tanh(self.w * x + self.b)\n",
        "\n",
        "        return prediction\n",
        "\n",
        "\n",
        "def sq_loss(y_true, y_prediction):\n",
        "    \"\"\"L2 loss function\n",
        "\n",
        "    Args:\n",
        "        y_true (torch.Tensor): 1D tensor of target labels\n",
        "        y_prediction (torch.Tensor): 1D tensor of predictions\n",
        "\n",
        "    Returns:\n",
        "        torch.Tensor: L2-loss (squared error)\n",
        "    \"\"\"\n",
        "    # Implement the L2-loss (squred error) given true label and prediction\n",
        "\n",
        "    loss = 0.5*(y_true - y_prediction)**2\n",
        "\n",
        "    return loss\n",
        "\n",
        "\n",
        "feature = torch.tensor([1.0])  # input tensor\n",
        "target = torch.tensor([7.0])  # target tensor\n",
        "\n",
        "simple_graph = SimpleGraph(-0.5, 0.5)\n",
        "print(f\"initial weight = {simple_graph.w.item()}, \"\n",
        "      f\"\\ninitial bias = {simple_graph.b.item()}\")\n",
        "\n",
        "prediction = simple_graph.forward(feature)\n",
        "square_loss = sq_loss(target, prediction)\n",
        "\n",
        "print(f\"for x={feature.item()} and y={target.item()}, \"\n",
        "      f\"prediction={prediction.item()}, and L2 Loss = {square_loss.item()}\")\n",
        "\n",
        "make_dot(square_loss)"
      ],
      "execution_count": null,
      "outputs": [
        {
          "output_type": "stream",
          "name": "stdout",
          "text": [
            "initial weight = -0.5, \n",
            "initial bias = 0.5\n",
            "for x=1.0 and y=7.0, prediction=0.0, and L2 Loss = 24.5\n"
          ]
        },
        {
          "output_type": "execute_result",
          "data": {
            "text/plain": [
              "<graphviz.dot.Digraph at 0x7f92e6586b10>"
            ],
            "image/svg+xml": "<?xml version=\"1.0\" encoding=\"UTF-8\" standalone=\"no\"?>\n<!DOCTYPE svg PUBLIC \"-//W3C//DTD SVG 1.1//EN\"\n \"http://www.w3.org/Graphics/SVG/1.1/DTD/svg11.dtd\">\n<!-- Generated by graphviz version 2.40.1 (20161225.0304)\n -->\n<!-- Title: %3 Pages: 1 -->\n<svg width=\"222pt\" height=\"503pt\"\n viewBox=\"0.00 0.00 222.00 503.00\" xmlns=\"http://www.w3.org/2000/svg\" xmlns:xlink=\"http://www.w3.org/1999/xlink\">\n<g id=\"graph0\" class=\"graph\" transform=\"scale(1 1) rotate(0) translate(4 499)\">\n<title>%3</title>\n<polygon fill=\"#ffffff\" stroke=\"transparent\" points=\"-4,4 -4,-499 218,-499 218,4 -4,4\"/>\n<!-- 140268906384992 -->\n<g id=\"node1\" class=\"node\">\n<title>140268906384992</title>\n<polygon fill=\"#caff70\" stroke=\"#000000\" points=\"133.5,-31 79.5,-31 79.5,0 133.5,0 133.5,-31\"/>\n<text text-anchor=\"middle\" x=\"106.5\" y=\"-7\" font-family=\"monospace\" font-size=\"10.00\" fill=\"#000000\"> (1)</text>\n</g>\n<!-- 140268906647312 -->\n<g id=\"node2\" class=\"node\">\n<title>140268906647312</title>\n<polygon fill=\"#d3d3d3\" stroke=\"#000000\" points=\"151,-86 62,-86 62,-67 151,-67 151,-86\"/>\n<text text-anchor=\"middle\" x=\"106.5\" y=\"-74\" font-family=\"monospace\" font-size=\"10.00\" fill=\"#000000\">MulBackward0</text>\n</g>\n<!-- 140268906647312&#45;&gt;140268906384992 -->\n<g id=\"edge10\" class=\"edge\">\n<title>140268906647312&#45;&gt;140268906384992</title>\n<path fill=\"none\" stroke=\"#000000\" d=\"M106.5,-66.9688C106.5,-60.1289 106.5,-50.5621 106.5,-41.5298\"/>\n<polygon fill=\"#000000\" stroke=\"#000000\" points=\"110.0001,-41.3678 106.5,-31.3678 103.0001,-41.3678 110.0001,-41.3678\"/>\n</g>\n<!-- 140268959717328 -->\n<g id=\"node3\" class=\"node\">\n<title>140268959717328</title>\n<polygon fill=\"#d3d3d3\" stroke=\"#000000\" points=\"151,-141 62,-141 62,-122 151,-122 151,-141\"/>\n<text text-anchor=\"middle\" x=\"106.5\" y=\"-129\" font-family=\"monospace\" font-size=\"10.00\" fill=\"#000000\">PowBackward0</text>\n</g>\n<!-- 140268959717328&#45;&gt;140268906647312 -->\n<g id=\"edge1\" class=\"edge\">\n<title>140268959717328&#45;&gt;140268906647312</title>\n<path fill=\"none\" stroke=\"#000000\" d=\"M106.5,-121.9197C106.5,-114.9083 106.5,-105.1442 106.5,-96.4652\"/>\n<polygon fill=\"#000000\" stroke=\"#000000\" points=\"110.0001,-96.3408 106.5,-86.3408 103.0001,-96.3409 110.0001,-96.3408\"/>\n</g>\n<!-- 140268906507216 -->\n<g id=\"node4\" class=\"node\">\n<title>140268906507216</title>\n<polygon fill=\"#d3d3d3\" stroke=\"#000000\" points=\"151,-196 62,-196 62,-177 151,-177 151,-196\"/>\n<text text-anchor=\"middle\" x=\"106.5\" y=\"-184\" font-family=\"monospace\" font-size=\"10.00\" fill=\"#000000\">SubBackward0</text>\n</g>\n<!-- 140268906507216&#45;&gt;140268959717328 -->\n<g id=\"edge2\" class=\"edge\">\n<title>140268906507216&#45;&gt;140268959717328</title>\n<path fill=\"none\" stroke=\"#000000\" d=\"M106.5,-176.9197C106.5,-169.9083 106.5,-160.1442 106.5,-151.4652\"/>\n<polygon fill=\"#000000\" stroke=\"#000000\" points=\"110.0001,-151.3408 106.5,-141.3408 103.0001,-151.3409 110.0001,-151.3408\"/>\n</g>\n<!-- 140268906507280 -->\n<g id=\"node5\" class=\"node\">\n<title>140268906507280</title>\n<polygon fill=\"#d3d3d3\" stroke=\"#000000\" points=\"151,-251 62,-251 62,-232 151,-232 151,-251\"/>\n<text text-anchor=\"middle\" x=\"106.5\" y=\"-239\" font-family=\"monospace\" font-size=\"10.00\" fill=\"#000000\">TanhBackward</text>\n</g>\n<!-- 140268906507280&#45;&gt;140268906507216 -->\n<g id=\"edge3\" class=\"edge\">\n<title>140268906507280&#45;&gt;140268906507216</title>\n<path fill=\"none\" stroke=\"#000000\" d=\"M106.5,-231.9197C106.5,-224.9083 106.5,-215.1442 106.5,-206.4652\"/>\n<polygon fill=\"#000000\" stroke=\"#000000\" points=\"110.0001,-206.3408 106.5,-196.3408 103.0001,-206.3409 110.0001,-206.3408\"/>\n</g>\n<!-- 140268906507472 -->\n<g id=\"node6\" class=\"node\">\n<title>140268906507472</title>\n<polygon fill=\"#d3d3d3\" stroke=\"#000000\" points=\"151,-306 62,-306 62,-287 151,-287 151,-306\"/>\n<text text-anchor=\"middle\" x=\"106.5\" y=\"-294\" font-family=\"monospace\" font-size=\"10.00\" fill=\"#000000\">AddBackward0</text>\n</g>\n<!-- 140268906507472&#45;&gt;140268906507280 -->\n<g id=\"edge4\" class=\"edge\">\n<title>140268906507472&#45;&gt;140268906507280</title>\n<path fill=\"none\" stroke=\"#000000\" d=\"M106.5,-286.9197C106.5,-279.9083 106.5,-270.1442 106.5,-261.4652\"/>\n<polygon fill=\"#000000\" stroke=\"#000000\" points=\"110.0001,-261.3408 106.5,-251.3408 103.0001,-261.3409 110.0001,-261.3408\"/>\n</g>\n<!-- 140268906507600 -->\n<g id=\"node7\" class=\"node\">\n<title>140268906507600</title>\n<polygon fill=\"#d3d3d3\" stroke=\"#000000\" points=\"95,-361 6,-361 6,-342 95,-342 95,-361\"/>\n<text text-anchor=\"middle\" x=\"50.5\" y=\"-349\" font-family=\"monospace\" font-size=\"10.00\" fill=\"#000000\">MulBackward0</text>\n</g>\n<!-- 140268906507600&#45;&gt;140268906507472 -->\n<g id=\"edge5\" class=\"edge\">\n<title>140268906507600&#45;&gt;140268906507472</title>\n<path fill=\"none\" stroke=\"#000000\" d=\"M60.2545,-341.9197C68.1865,-334.1293 79.5788,-322.9405 89.0712,-313.6176\"/>\n<polygon fill=\"#000000\" stroke=\"#000000\" points=\"91.7982,-315.845 96.4802,-306.3408 86.8932,-310.8509 91.7982,-315.845\"/>\n</g>\n<!-- 140268906506960 -->\n<g id=\"node8\" class=\"node\">\n<title>140268906506960</title>\n<polygon fill=\"#d3d3d3\" stroke=\"#000000\" points=\"101,-422 0,-422 0,-403 101,-403 101,-422\"/>\n<text text-anchor=\"middle\" x=\"50.5\" y=\"-410\" font-family=\"monospace\" font-size=\"10.00\" fill=\"#000000\">AccumulateGrad</text>\n</g>\n<!-- 140268906506960&#45;&gt;140268906507600 -->\n<g id=\"edge6\" class=\"edge\">\n<title>140268906506960&#45;&gt;140268906507600</title>\n<path fill=\"none\" stroke=\"#000000\" d=\"M50.5,-402.9688C50.5,-394.5131 50.5,-381.8901 50.5,-371.2615\"/>\n<polygon fill=\"#000000\" stroke=\"#000000\" points=\"54.0001,-371.1656 50.5,-361.1656 47.0001,-371.1657 54.0001,-371.1656\"/>\n</g>\n<!-- 140268906810736 -->\n<g id=\"node9\" class=\"node\">\n<title>140268906810736</title>\n<polygon fill=\"#add8e6\" stroke=\"#000000\" points=\"77.5,-495 23.5,-495 23.5,-464 77.5,-464 77.5,-495\"/>\n<text text-anchor=\"middle\" x=\"50.5\" y=\"-471\" font-family=\"monospace\" font-size=\"10.00\" fill=\"#000000\"> (1)</text>\n</g>\n<!-- 140268906810736&#45;&gt;140268906506960 -->\n<g id=\"edge7\" class=\"edge\">\n<title>140268906810736&#45;&gt;140268906506960</title>\n<path fill=\"none\" stroke=\"#000000\" d=\"M50.5,-463.9604C50.5,-454.6356 50.5,-442.6748 50.5,-432.6317\"/>\n<polygon fill=\"#000000\" stroke=\"#000000\" points=\"54.0001,-432.35 50.5,-422.3501 47.0001,-432.3501 54.0001,-432.35\"/>\n</g>\n<!-- 140268906507728 -->\n<g id=\"node10\" class=\"node\">\n<title>140268906507728</title>\n<polygon fill=\"#d3d3d3\" stroke=\"#000000\" points=\"214,-361 113,-361 113,-342 214,-342 214,-361\"/>\n<text text-anchor=\"middle\" x=\"163.5\" y=\"-349\" font-family=\"monospace\" font-size=\"10.00\" fill=\"#000000\">AccumulateGrad</text>\n</g>\n<!-- 140268906507728&#45;&gt;140268906507472 -->\n<g id=\"edge8\" class=\"edge\">\n<title>140268906507728&#45;&gt;140268906507472</title>\n<path fill=\"none\" stroke=\"#000000\" d=\"M153.5714,-341.9197C145.4169,-334.0514 133.6697,-322.7164 123.9508,-313.3385\"/>\n<polygon fill=\"#000000\" stroke=\"#000000\" points=\"126.3252,-310.7659 116.6987,-306.3408 121.4646,-315.8032 126.3252,-310.7659\"/>\n</g>\n<!-- 140268906415520 -->\n<g id=\"node11\" class=\"node\">\n<title>140268906415520</title>\n<polygon fill=\"#add8e6\" stroke=\"#000000\" points=\"190.5,-428 136.5,-428 136.5,-397 190.5,-397 190.5,-428\"/>\n<text text-anchor=\"middle\" x=\"163.5\" y=\"-404\" font-family=\"monospace\" font-size=\"10.00\" fill=\"#000000\"> (1)</text>\n</g>\n<!-- 140268906415520&#45;&gt;140268906507728 -->\n<g id=\"edge9\" class=\"edge\">\n<title>140268906415520&#45;&gt;140268906507728</title>\n<path fill=\"none\" stroke=\"#000000\" d=\"M163.5,-396.791C163.5,-389.0249 163.5,-379.5706 163.5,-371.3129\"/>\n<polygon fill=\"#000000\" stroke=\"#000000\" points=\"167.0001,-371.0647 163.5,-361.0648 160.0001,-371.0648 167.0001,-371.0647\"/>\n</g>\n</g>\n</svg>\n"
          },
          "metadata": {},
          "execution_count": 46
        }
      ]
    },
    {
      "cell_type": "markdown",
      "metadata": {
        "id": "UFwUtI7g1kxw"
      },
      "source": [
        "\n",
        "Next we use PyTorch Tensors and autograd to implement our fitting sine wave with third order polynomial example; now we no longer need to manually implement the backward pass through the network."
      ]
    },
    {
      "cell_type": "code",
      "metadata": {
        "colab": {
          "base_uri": "https://localhost:8080/",
          "height": 404
        },
        "id": "XewQIJB6A4ak",
        "outputId": "ff2f1257-25db-461c-ba31-34b22dd77456"
      },
      "source": [
        "dtype = torch.float\n",
        "device = torch.device(\"cpu\")\n",
        "# device = torch.device(\"cuda:0\")  # Uncomment this to run on GPU\n",
        "\n",
        "# Create Tensors to hold input and outputs.\n",
        "# By default, requires_grad=False, which indicates that we do not need to\n",
        "# compute gradients with respect to these Tensors during the backward pass.\n",
        "x = torch.linspace(-math.pi, math.pi, 2000, device=device, dtype=dtype)\n",
        "y = torch.sin(x)\n",
        "\n",
        "# Create random Tensors for weights. For a third order polynomial, we need\n",
        "# 4 weights: y = a + b x + c x^2 + d x^3\n",
        "# Setting requires_grad=True indicates that we want to compute gradients with\n",
        "# respect to these Tensors during the backward pass.\n",
        "a = torch.randn((), device=device, dtype=dtype, requires_grad=True)\n",
        "b = torch.randn((), device=device, dtype=dtype, requires_grad=True)\n",
        "c = torch.randn((), device=device, dtype=dtype, requires_grad=True)\n",
        "d = torch.randn((), device=device, dtype=dtype, requires_grad=True)\n",
        "\n",
        "learning_rate = 1e-3\n",
        "\n",
        "start_time = datetime.now()\n",
        "for t in range(20000):\n",
        "    # Forward pass: compute predicted y using operations on Tensors.\n",
        "    y_pred = a + b * x + c * x ** 2 + d * x ** 3\n",
        "\n",
        "    # Compute and print loss using operations on Tensors.\n",
        "    # Now loss is a Tensor of shape (1,)\n",
        "    # loss.item() gets the scalar value held in the loss.\n",
        "    loss = (y_pred - y).pow(2).mean()\n",
        "\n",
        "    # Use autograd to compute the backward pass. This call will compute the\n",
        "    # gradient of loss with respect to all Tensors with requires_grad=True.\n",
        "    # After this call a.grad, b.grad. c.grad and d.grad will be Tensors holding\n",
        "    # the gradient of the loss with respect to a, b, c, d respectively.\n",
        "\n",
        "    grad_a, grad_b, grad_c, grad_d = torch.autograd.grad(loss, (a, b, c, d))\n",
        "\n",
        "    # Manually update weights using gradient descent. Wrap in torch.no_grad()\n",
        "    # because weights have requires_grad=True, but we don't need to track this\n",
        "    # in autograd. Then manually zero the gradients after updating weights\n",
        "    with torch.no_grad():\n",
        "        a -= learning_rate * grad_a\n",
        "        b -= learning_rate * grad_b\n",
        "        c -= learning_rate * grad_c\n",
        "        d -= learning_rate * grad_d\n",
        "\n",
        "    \n",
        "\n",
        "print(f\"\\nTrained in {datetime.now() - start_time}\\n\")\n",
        "print(f'\\nResult: y = {a.item()} + {b.item()} x + {c.item()} x^2 + {d.item()} x^3\\n')\n",
        "\n",
        "plt.plot(x, y, label=\"true\")\n",
        "plt.plot(x, a.detach() + b.detach() * x + c.detach() * (x**2) + d.detach() * (x**3), label=\"pred\")\n",
        "plt.legend()"
      ],
      "execution_count": null,
      "outputs": [
        {
          "output_type": "stream",
          "name": "stdout",
          "text": [
            "\n",
            "Trained in 0:00:05.119125\n",
            "\n",
            "\n",
            "Result: y = 3.636584011701416e-08 + 0.8567122220993042 x + -1.1276231504098178e-08 x^2 + -0.09332632273435593 x^3\n",
            "\n"
          ]
        },
        {
          "output_type": "execute_result",
          "data": {
            "text/plain": [
              "<matplotlib.legend.Legend at 0x7f92e6432f10>"
            ]
          },
          "metadata": {},
          "execution_count": 49
        },
        {
          "output_type": "display_data",
          "data": {
            "image/png": "[encoded data removed]",
            "text/plain": [
              "<Figure size 432x288 with 1 Axes>"
            ]
          },
          "metadata": {
            "needs_background": "light"
          }
        }
      ]
    },
    {
      "cell_type": "markdown",
      "metadata": {
        "id": "T02TNQl_BN4w"
      },
      "source": [
        "### PyTorch: Defining new autograd functions\n",
        "\n",
        "Under the hood, each primitive autograd operator is really two functions that operate on Tensors. The forward function computes output Tensors from input Tensors. The backward function receives the gradient of the output Tensors with respect to some scalar value, and computes the gradient of the input Tensors with respect to that same scalar value.\n",
        "\n",
        "In PyTorch we can easily define our own autograd operator by defining a subclass of torch.autograd.Function and implementing the forward and backward functions. We can then use our new autograd operator by constructing an instance and calling it like a function, passing Tensors containing input data.\n",
        "\n",
        "In this example we define our model as y=a+bP3(c+dx) instead of y=a+bx+cx2+dx3, where P3(x)=12(5x3−3x) is the Legendre polynomial of degree three. We write our own custom autograd function for computing forward and backward of P3, and use it to implement our model:"
      ]
    },
    {
      "cell_type": "code",
      "metadata": {
        "id": "zV8uiOBlBDjM"
      },
      "source": [
        "class LegendrePolynomial3(torch.autograd.Function):\n",
        "    \"\"\"\n",
        "    We can implement our own custom autograd Functions by subclassing\n",
        "    torch.autograd.Function and implementing the forward and backward passes\n",
        "    which operate on Tensors.\n",
        "    \"\"\"\n",
        "\n",
        "    @staticmethod\n",
        "    def forward(ctx, input):\n",
        "        \"\"\"\n",
        "        In the forward pass we receive a Tensor containing the input and return\n",
        "        a Tensor containing the output. ctx is a context object that can be used\n",
        "        to stash information for backward computation. You can cache arbitrary\n",
        "        objects for use in the backward pass using the ctx.save_for_backward method.\n",
        "        \"\"\"\n",
        "        ctx.save_for_backward(input)\n",
        "        return 0.5 * (5 * input ** 3 - 3 * input)\n",
        "\n",
        "    @staticmethod\n",
        "    def backward(ctx, grad_output):\n",
        "        \"\"\"\n",
        "        In the backward pass we receive a Tensor containing the gradient of the loss\n",
        "        with respect to the output, and we need to compute the gradient of the loss\n",
        "        with respect to the input.\n",
        "        \"\"\"\n",
        "        input, = ctx.saved_tensors\n",
        "        return grad_output * 1.5 * (5 * input ** 2 - 1)\n",
        "\n",
        "\n",
        "dtype = torch.float\n",
        "device = torch.device(\"cpu\")\n",
        "# device = torch.device(\"cuda:0\")  # Uncomment this to run on GPU\n",
        "\n",
        "# Create Tensors to hold input and outputs.\n",
        "# By default, requires_grad=False, which indicates that we do not need to\n",
        "# compute gradients with respect to these Tensors during the backward pass.\n",
        "x = torch.linspace(-math.pi, math.pi, 2000, device=device, dtype=dtype)\n",
        "y = torch.sin(x)\n",
        "\n",
        "# Create random Tensors for weights. For this example, we need\n",
        "# 4 weights: y = a + b * P3(c + d * x), these weights need to be initialized\n",
        "# not too far from the correct result to ensure convergence.\n",
        "# Setting requires_grad=True indicates that we want to compute gradients with\n",
        "# respect to these Tensors during the backward pass.\n",
        "a = torch.full((), 0.0, device=device, dtype=dtype, requires_grad=True)\n",
        "b = torch.full((), -1.0, device=device, dtype=dtype, requires_grad=True)\n",
        "c = torch.full((), 0.0, device=device, dtype=dtype, requires_grad=True)\n",
        "d = torch.full((), 0.3, device=device, dtype=dtype, requires_grad=True)\n",
        "\n",
        "learning_rate = 5e-6\n",
        "\n",
        "start_time = datetime.now()\n",
        "for t in range(2000):\n",
        "    # To apply our Function, we use Function.apply method. We alias this as 'P3'.\n",
        "    P3 = LegendrePolynomial3.apply\n",
        "\n",
        "    # Forward pass: compute predicted y using operations; we compute\n",
        "    # P3 using our custom autograd operation.\n",
        "    y_pred = a + b * P3(c + d * x)\n",
        "\n",
        "    # Compute and print loss\n",
        "    loss = (y_pred - y).pow(2).sum()\n",
        "    if t % 100 == 99:\n",
        "        print(t+1, loss.item())\n",
        "\n",
        "    # Use autograd to compute the backward pass.\n",
        "    loss.backward()\n",
        "\n",
        "    # Update weights using gradient descent\n",
        "    with torch.no_grad():\n",
        "        a -= learning_rate * a.grad\n",
        "        b -= learning_rate * b.grad\n",
        "        c -= learning_rate * c.grad\n",
        "        d -= learning_rate * d.grad\n",
        "\n",
        "        # Manually zero the gradients after updating weights\n",
        "        a.grad = None\n",
        "        b.grad = None\n",
        "        c.grad = None\n",
        "        d.grad = None\n",
        "\n",
        "print(f\"\\nTrained in {datetime.now() - start_time}\\n\")\n",
        "print(f'\\nResult: y = {a.item()} + {b.item()} * P3({c.item()} + {d.item()} x)\\n')\n",
        "\n",
        "plt.plot(x, y, label=\"true\")\n",
        "plt.plot(x, a.detach() + b.detach() * LegendrePolynomial3.apply(c.detach() + d.detach() * x), label=\"pred\")\n",
        "plt.legend()"
      ],
      "execution_count": null,
      "outputs": []
    },
    {
      "cell_type": "markdown",
      "metadata": {
        "id": "ZzyzkskpBUml"
      },
      "source": [
        "## `nn` Module"
      ]
    },
    {
      "cell_type": "markdown",
      "metadata": {
        "id": "mF64uf_dBWx7"
      },
      "source": [
        "### PyTorch: `nn`\n",
        "\n",
        "Computational graphs and autograd are a very powerful paradigm for defining complex operators and automatically taking derivatives; however for large neural networks raw autograd can be a bit too low-level.\n",
        "\n",
        "When building neural networks we frequently think of arranging the computation into layers, some of which have learnable parameters which will be optimized during learning.\n",
        "\n",
        "In TensorFlow, packages like Keras, TensorFlow-Slim, and TFLearn provide higher-level abstractions over raw computational graphs that are useful for building neural networks.\n",
        "\n",
        "In PyTorch, the nn package serves this same purpose. The nn package defines a set of Modules, which are roughly equivalent to neural network layers. A Module receives input Tensors and computes output Tensors, but may also hold internal state such as Tensors containing learnable parameters. The nn package also defines a set of useful loss functions that are commonly used when training neural networks.\n",
        "\n",
        "In this example we use the nn package to implement our polynomial model network:"
      ]
    },
    {
      "cell_type": "code",
      "metadata": {
        "colab": {
          "base_uri": "https://localhost:8080/",
          "height": 336
        },
        "id": "IpfdQuQ-BTAq",
        "outputId": "cfa9ed8f-2d6d-4221-e334-b0998bde31dd"
      },
      "source": [
        "# Create Tensors to hold input and outputs.\n",
        "x = torch.linspace(-math.pi, math.pi, 2000)\n",
        "y = torch.sin(x)\n",
        "\n",
        "# For this example, the output y is a linear function of (x, x^2, x^3), so\n",
        "# we can consider it as a linear layer neural network. Let's prepare the\n",
        "# tensor (x, x^2, x^3).\n",
        "p = torch.tensor([1, 2, 3])\n",
        "xx = x.unsqueeze(-1).pow(p)\n",
        "\n",
        "# In the above code, x.unsqueeze(-1) has shape (2000, 1), and p has shape\n",
        "# (3,), for this case, broadcasting semantics will apply to obtain a tensor\n",
        "# of shape (2000, 3) \n",
        "\n",
        "# Use the nn package to define our model as a sequence of layers. nn.Sequential\n",
        "# is a Module which contains other Modules, and applies them in sequence to\n",
        "# produce its output. The Linear Module computes output from input using a\n",
        "# linear function, and holds internal Tensors for its weight and bias.\n",
        "# The Flatten layer flatens the output of the linear layer to a 1D tensor,\n",
        "# to match the shape of `y`.\n",
        "\n",
        "class MyModel(torch.nn.Module):\n",
        "    def __init__(self):\n",
        "        super().__init__()\n",
        "\n",
        "        self.a = torch.nn.Parameter(torch.randn(()))\n",
        "        self.b = torch.nn.Parameter(torch.randn(()))\n",
        "        self.c = torch.nn.Parameter(torch.randn(()))\n",
        "        self.d = torch.nn.Parameter(torch.randn(()))\n",
        "\n",
        "    def forward(self, x):\n",
        "        return self.a + self.b * x + self.c * x ** 2 + self.d * x ** 3\n",
        "\n",
        "model = MyModel()\n",
        "\n",
        "# The nn package also contains definitions of popular loss functions; in this\n",
        "# case we will use Mean Squared Error (MSE) as our loss function.\n",
        "\n",
        "loss_fn = torch.nn.MSELoss()\n",
        "\n",
        "learning_rate = 1e-3\n",
        "\n",
        "start_time = datetime.now()\n",
        "for t in range(20000):\n",
        "\n",
        "    # Forward pass: compute predicted y by passing x to the model. Module objects\n",
        "    # override the __call__ operator so you can call them like functions. When\n",
        "    # doing so you pass a Tensor of input data to the Module and it produces\n",
        "    # a Tensor of output data.\n",
        "\n",
        "    y_pred = model(x)\n",
        "\n",
        "    # Compute and print loss. We pass Tensors containing the predicted and true\n",
        "    # values of y, and the loss function returns a Tensor containing the\n",
        "    # loss.\n",
        "    loss = loss_fn(y, y_pred)\n",
        "\n",
        "    # Zero the gradients before running the backward pass.\n",
        "    \n",
        "    model.zero_grad()\n",
        "\n",
        "    # Backward pass: compute gradient of the loss with respect to all the learnable\n",
        "    # parameters of the model. Internally, the parameters of each Module are stored\n",
        "    # in Tensors with requires_grad=True, so this call will compute gradients for\n",
        "    # all learnable parameters in the model.\n",
        "    \n",
        "    loss.backward()\n",
        "\n",
        "    # Update the weights using gradient descent. Each parameter is a Tensor, so\n",
        "    # we can access its gradients like we did before.\n",
        "    \n",
        "    with torch.no_grad():\n",
        "        for param in model.parameters():\n",
        "            param -= learning_rate * param.grad\n",
        "\n",
        "\n",
        "print(f\"\\nTrained in {datetime.now() - start_time}\\n\")\n",
        "\n",
        "\n",
        "# For linear layer, its parameters are stored as `weight` and `bias`.\n",
        "# print(f'\\nResult: y = {linear_layer.bias.item()} + {linear_layer.weight[:, 0].item()} x + {linear_layer.weight[:, 1].item()} x^2 + {linear_layer.weight[:, 2].item()} x^3\\n')\n",
        "\n",
        "plt.plot(x, y, label=\"true\")\n",
        "plt.plot(x, model(xx).detach(), label=\"pred\")\n",
        "plt.legend()"
      ],
      "execution_count": null,
      "outputs": [
        {
          "output_type": "stream",
          "name": "stdout",
          "text": [
            "\n",
            "Trained in 0:00:07.631718\n",
            "\n"
          ]
        },
        {
          "output_type": "execute_result",
          "data": {
            "text/plain": [
              "<matplotlib.legend.Legend at 0x7f92e6146290>"
            ]
          },
          "metadata": {},
          "execution_count": 64
        },
        {
          "output_type": "display_data",
          "data": {
            "image/png": "[encoded data removed]",
            "text/plain": [
              "<Figure size 432x288 with 1 Axes>"
            ]
          },
          "metadata": {
            "needs_background": "light"
          }
        }
      ]
    },
    {
      "cell_type": "markdown",
      "metadata": {
        "id": "xWaOgSRABjX1"
      },
      "source": [
        "### PyTorch: optim\n",
        "\n",
        "Up to this point we have updated the weights of our models by manually mutating the Tensors holding learnable parameters with torch.no_grad(). This is not a huge burden for simple optimization algorithms like stochastic gradient descent, but in practice we often train neural networks using more sophisticated optimizers like AdaGrad, RMSProp, Adam, etc.\n",
        "\n",
        "The optim package in PyTorch abstracts the idea of an optimization algorithm and provides implementations of commonly used optimization algorithms.\n",
        "\n",
        "In this example we will use the nn package to define our model as before, but we will optimize the model using the RMSprop algorithm provided by the optim package:"
      ]
    },
    {
      "cell_type": "code",
      "metadata": {
        "colab": {
          "base_uri": "https://localhost:8080/",
          "height": 336
        },
        "id": "yCmS7RLdBds8",
        "outputId": "299448aa-df31-4c9c-e85f-c60aa3c74abb"
      },
      "source": [
        "# Create Tensors to hold input and outputs.\n",
        "x = torch.linspace(-math.pi, math.pi, 2000)\n",
        "y = torch.sin(x)\n",
        "\n",
        "# Prepare the input tensor (x, x^2, x^3).\n",
        "p = torch.tensor([1, 2, 3])\n",
        "xx = x.unsqueeze(-1).pow(p)\n",
        "\n",
        "# Use the nn package to define our model and loss function.\n",
        "model = MyModel()\n",
        "loss_fn = torch.nn.MSELoss()\n",
        "\n",
        "# Use the optim package to define an Optimizer that will update the weights of\n",
        "# the model for us. Here we will use RMSprop; the optim package contains many other\n",
        "# optimization algorithms. The first argument to the RMSprop constructor tells the\n",
        "# optimizer which Tensors it should update.\n",
        "learning_rate = 1e-3\n",
        "optimizer =  torch.optim.Adam(model.parameters(), lr=learning_rate)\n",
        "\n",
        "start_time = datetime.now()\n",
        "for t in range(20000):\n",
        "    # Forward pass: compute predicted y by passing x to the model.\n",
        "    y_pred = model(x)\n",
        "\n",
        "    # Compute and print loss.\n",
        "    loss = loss_fn(y, y_pred)\n",
        "\n",
        "    # Before the backward pass, use the optimizer object to zero all of the\n",
        "    # gradients for the variables it will update (which are the learnable\n",
        "    # weights of the model). This is because by default, gradients are\n",
        "    # accumulated in buffers( i.e, not overwritten) whenever .backward()\n",
        "    # is called. Checkout docs of torch.autograd.backward for more details.\n",
        "\n",
        "    optimizer.zero_grad()\n",
        "\n",
        "    # Backward pass: compute gradient of the loss with respect to model\n",
        "    # parameters\n",
        "    \n",
        "    loss.backward()\n",
        "\n",
        "    # Calling the step function on an Optimizer makes an update to its\n",
        "    # parameters\n",
        "    \n",
        "    optimizer.step()\n",
        "\n",
        "print(f\"\\nTrained in {datetime.now() - start_time}\\n\")\n",
        "\n",
        "plt.plot(x, y, label=\"true\")\n",
        "plt.plot(x, model(xx).detach(), label=\"pred\")\n",
        "plt.legend()"
      ],
      "execution_count": null,
      "outputs": [
        {
          "output_type": "stream",
          "name": "stdout",
          "text": [
            "\n",
            "Trained in 0:00:11.577607\n",
            "\n"
          ]
        },
        {
          "output_type": "execute_result",
          "data": {
            "text/plain": [
              "<matplotlib.legend.Legend at 0x7f92e61b26d0>"
            ]
          },
          "metadata": {},
          "execution_count": 66
        },
        {
          "output_type": "display_data",
          "data": {
            "image/png": "[encoded data removed]",
            "text/plain": [
              "<Figure size 432x288 with 1 Axes>"
            ]
          },
          "metadata": {
            "needs_background": "light"
          }
        }
      ]
    },
    {
      "cell_type": "markdown",
      "metadata": {
        "id": "bRV5WxS6BrCp"
      },
      "source": [
        "### PyTorch: Custom nn Modules\n",
        "\n",
        "Sometimes you will want to specify models that are more complex than a sequence of existing Modules; for these cases you can define your own Modules by subclassing nn.Module and defining a forward which receives input Tensors and produces output Tensors using other modules or other autograd operations on Tensors.\n",
        "\n",
        "In this example we implement our third order polynomial as a custom Module subclass:"
      ]
    },
    {
      "cell_type": "code",
      "metadata": {
        "colab": {
          "base_uri": "https://localhost:8080/",
          "height": 718
        },
        "id": "ftLb0DXoBiiV",
        "outputId": "e1c4dc2f-20b4-468a-9c1d-41d0bfe38c4e"
      },
      "source": [
        "class Polynomial3(torch.nn.Module):\n",
        "    def __init__(self):\n",
        "        \"\"\"\n",
        "        In the constructor we instantiate four parameters and assign them as\n",
        "        member parameters.\n",
        "        \"\"\"\n",
        "        super().__init__()\n",
        "        self.a = torch.nn.Parameter(torch.randn(()))\n",
        "        self.b = torch.nn.Parameter(torch.randn(()))\n",
        "        self.c = torch.nn.Parameter(torch.randn(()))\n",
        "        self.d = torch.nn.Parameter(torch.randn(()))\n",
        "\n",
        "    def forward(self, x):\n",
        "        \"\"\"\n",
        "        In the forward function we accept a Tensor of input data and we must return\n",
        "        a Tensor of output data. We can use Modules defined in the constructor as\n",
        "        well as arbitrary operators on Tensors.\n",
        "        \"\"\"\n",
        "        return self.a + self.b * x + self.c * x ** 2 + self.d * x ** 3\n",
        "\n",
        "    def string(self):\n",
        "        \"\"\"\n",
        "        Just like any class in Python, you can also define custom method on PyTorch modules\n",
        "        \"\"\"\n",
        "        return f'y = {self.a.item()} + {self.b.item()} x + {self.c.item()} x^2 + {self.d.item()} x^3'\n",
        "\n",
        "\n",
        "# Create Tensors to hold input and outputs.\n",
        "x = torch.linspace(-math.pi, math.pi, 2000)\n",
        "y = torch.sin(x)\n",
        "\n",
        "# Construct our model by instantiating the class defined above\n",
        "model = Polynomial3()\n",
        "\n",
        "# Construct our loss function and an Optimizer. The call to model.parameters()\n",
        "# in the SGD constructor will contain the learnable parameters of the nn.Linear\n",
        "# module which is members of the model.\n",
        "criterion = torch.nn.MSELoss(reduction='sum')\n",
        "optimizer = torch.optim.SGD(model.parameters(), lr=1e-6)\n",
        "\n",
        "start_time = datetime.now()\n",
        "for t in range(2000):\n",
        "    # Forward pass: Compute predicted y by passing x to the model\n",
        "    y_pred = model(x)\n",
        "\n",
        "    # Compute and print loss\n",
        "    loss = criterion(y_pred, y)\n",
        "    if t % 100 == 99:\n",
        "        print(t, loss.item())\n",
        "\n",
        "    # Zero gradients, perform a backward pass, and update the weights.\n",
        "    optimizer.zero_grad()\n",
        "    loss.backward()\n",
        "    optimizer.step()\n",
        "\n",
        "print(f\"\\nTrained in {datetime.now() - start_time}\\n\")\n",
        "\n",
        "print(f'\\nResult: {model.string()}\\n')\n",
        "\n",
        "plt.plot(x, y, label=\"true\")\n",
        "plt.plot(x, model(x).detach(), label=\"pred\")\n",
        "plt.legend()"
      ],
      "execution_count": null,
      "outputs": [
        {
          "output_type": "stream",
          "text": [
            "99 1286.542724609375\n",
            "199 907.7340087890625\n",
            "299 641.4546508789062\n",
            "399 454.2020263671875\n",
            "499 322.4720153808594\n",
            "599 229.7691192626953\n",
            "699 164.50856018066406\n",
            "799 118.55227661132812\n",
            "899 86.18038940429688\n",
            "999 63.37092590332031\n",
            "1099 47.29500961303711\n",
            "1199 35.961952209472656\n",
            "1299 27.970590591430664\n",
            "1399 22.334339141845703\n",
            "1499 18.35830307006836\n",
            "1599 15.552903175354004\n",
            "1699 13.57308578491211\n",
            "1799 12.175671577453613\n",
            "1899 11.18917179107666\n",
            "1999 10.492650032043457\n",
            "\n",
            "Trained in 0:00:00.803607\n",
            "\n",
            "\n",
            "Result: y = -0.04275578260421753 + 0.8503020405769348 x + 0.007376082707196474 x^2 + -0.09241452068090439 x^3\n",
            "\n"
          ],
          "name": "stdout"
        },
        {
          "output_type": "execute_result",
          "data": {
            "text/plain": [
              "<matplotlib.legend.Legend at 0x7f18db1ecd10>"
            ]
          },
          "metadata": {
            "tags": []
          },
          "execution_count": 32
        },
        {
          "output_type": "display_data",
          "data": {
            "image/png": "[encoded data removed]",
            "text/plain": [
              "<Figure size 432x288 with 1 Axes>"
            ]
          },
          "metadata": {
            "tags": [],
            "needs_background": "light"
          }
        }
      ]
    },
    {
      "cell_type": "markdown",
      "metadata": {
        "id": "ihe8F-9iBvbW"
      },
      "source": [
        "### PyTorch: Control Flow + Weight Sharing\n",
        "As an example of dynamic graphs and weight sharing, we implement a very strange model: a third-fifth order polynomial that on each forward pass chooses a random number between 3 and 5 and uses that many orders, reusing the same weights multiple times to compute the fourth and fifth order.\n",
        "\n",
        "For this model we can use normal Python flow control to implement the loop, and we can implement weight sharing by simply reusing the same parameter multiple times when defining the forward pass.\n",
        "\n",
        "We can easily implement this model as a Module subclass:"
      ]
    },
    {
      "cell_type": "code",
      "metadata": {
        "colab": {
          "base_uri": "https://localhost:8080/",
          "height": 654
        },
        "id": "bi9nMxRQBuaU",
        "outputId": "8f835445-030e-419c-fe2d-c391df956811"
      },
      "source": [
        "class DynamicNet(torch.nn.Module):\n",
        "    def __init__(self):\n",
        "        \"\"\"\n",
        "        In the constructor we instantiate five parameters and assign them as members.\n",
        "        \"\"\"\n",
        "        super().__init__()\n",
        "        self.a = torch.nn.Parameter(torch.randn(()))\n",
        "        self.b = torch.nn.Parameter(torch.randn(()))\n",
        "        self.c = torch.nn.Parameter(torch.randn(()))\n",
        "        self.d = torch.nn.Parameter(torch.randn(()))\n",
        "        self.e = torch.nn.Parameter(torch.randn(()))\n",
        "\n",
        "    def forward(self, x):\n",
        "        \"\"\"\n",
        "        For the forward pass of the model, we randomly choose either 4, 5\n",
        "        and reuse the e parameter to compute the contribution of these orders.\n",
        "\n",
        "        Since each forward pass builds a dynamic computation graph, we can use normal\n",
        "        Python control-flow operators like loops or conditional statements when\n",
        "        defining the forward pass of the model.\n",
        "\n",
        "        Here we also see that it is perfectly safe to reuse the same parameter many\n",
        "        times when defining a computational graph.\n",
        "        \"\"\"\n",
        "        y = self.a + self.b * x + self.c * x ** 2 + self.d * x ** 3\n",
        "        for exp in range(4, random.randint(4, 6)):\n",
        "            y = y + self.e * x ** exp\n",
        "        return y\n",
        "\n",
        "    def string(self):\n",
        "        \"\"\"\n",
        "        Just like any class in Python, you can also define custom method on PyTorch modules\n",
        "        \"\"\"\n",
        "        return f'y = {self.a.item()} + {self.b.item()} x + {self.c.item()} x^2 + {self.d.item()} x^3 + {self.e.item()} x^4 ? + {self.e.item()} x^5 ?'\n",
        "\n",
        "\n",
        "# Create Tensors to hold input and outputs.\n",
        "x = torch.linspace(-math.pi, math.pi, 2000)\n",
        "y = torch.sin(x)\n",
        "\n",
        "# Construct our model by instantiating the class defined above\n",
        "model = DynamicNet()\n",
        "\n",
        "# Construct our loss function and an Optimizer. Training this strange model with\n",
        "# vanilla stochastic gradient descent is tough, so we use momentum\n",
        "criterion = torch.nn.MSELoss(reduction='sum')\n",
        "optimizer = torch.optim.SGD(model.parameters(), lr=1e-8, momentum=0.9)\n",
        "\n",
        "start_time = datetime.now()\n",
        "for t in range(30000):\n",
        "    # Forward pass: Compute predicted y by passing x to the model\n",
        "    y_pred = model(x)\n",
        "\n",
        "    # Compute and print loss\n",
        "    loss = criterion(y_pred, y)\n",
        "    if t % 2000 == 1999:\n",
        "        print(t, loss.item())\n",
        "\n",
        "    # Zero gradients, perform a backward pass, and update the weights.\n",
        "    optimizer.zero_grad()\n",
        "    loss.backward()\n",
        "    optimizer.step()\n",
        "\n",
        "print(f\"\\nTrained in {datetime.now() - start_time}\\n\")\n",
        "\n",
        "print(f'\\nResult: {model.string()}\\n')\n",
        "\n",
        "plt.plot(x, y, label=\"true\")\n",
        "plt.plot(x, model(x).detach(), label=\"pred\")\n",
        "plt.legend()"
      ],
      "execution_count": null,
      "outputs": [
        {
          "output_type": "stream",
          "text": [
            "1999 16.491897583007812\n",
            "3999 12.564131736755371\n",
            "5999 9.841315269470215\n",
            "7999 9.076091766357422\n",
            "9999 9.295665740966797\n",
            "11999 8.664648056030273\n",
            "13999 8.624119758605957\n",
            "15999 8.57633113861084\n",
            "17999 8.542036056518555\n",
            "19999 8.567848205566406\n",
            "21999 8.863239288330078\n",
            "23999 8.853719711303711\n",
            "25999 8.864386558532715\n",
            "27999 8.551941871643066\n",
            "29999 8.862436294555664\n",
            "\n",
            "Trained in 0:00:15.567853\n",
            "\n",
            "\n",
            "Result: y = 0.0011082780547440052 + 0.8579141497612 x + -0.0007485657697543502 x^2 + -0.09382084757089615 x^3 + 0.00019750789215322584 x^4 ? + 0.00019750789215322584 x^5 ?\n",
            "\n"
          ],
          "name": "stdout"
        },
        {
          "output_type": "execute_result",
          "data": {
            "text/plain": [
              "<matplotlib.legend.Legend at 0x7f18dafa9550>"
            ]
          },
          "metadata": {
            "tags": []
          },
          "execution_count": 15
        },
        {
          "output_type": "display_data",
          "data": {
            "image/png": "[encoded data removed]",
            "text/plain": [
              "<Figure size 432x288 with 1 Axes>"
            ]
          },
          "metadata": {
            "tags": [],
            "needs_background": "light"
          }
        }
      ]
    }
  ]
}