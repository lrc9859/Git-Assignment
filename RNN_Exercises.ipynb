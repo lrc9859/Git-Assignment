{
  "nbformat": 4,
  "nbformat_minor": 0,
  "metadata": {
    "colab": {
      "name": "RNN Exercises",
      "provenance": [],
      "toc_visible": true,
      "include_colab_link": true
    },
    "kernelspec": {
      "name": "python3",
      "display_name": "Python 3"
    },
    "language_info": {
      "name": "python"
    }
  },
  "cells": [
    {
      "cell_type": "markdown",
      "metadata": {
        "id": "view-in-github",
        "colab_type": "text"
      },
      "source": [
        "<a href=\"https://colab.research.google.com/github/lrc9859/Git-Assignment/blob/master/RNN_Exercises.ipynb\" target=\"_parent\"><img src=\"https://colab.research.google.com/assets/colab-badge.svg\" alt=\"Open In Colab\"/></a>"
      ]
    },
    {
      "cell_type": "markdown",
      "metadata": {
        "id": "ZKpJic0HhXBk"
      },
      "source": [
        "This notebook takes some content and inspiration from \n",
        "- [Dive into Deep Learning Book](http://d2l.ai/chapter_recurrent-neural-networks/rnn-scratch.html)\n",
        "- [NYU's Deep Learning Course](https://atcold.github.io/pytorch-Deep-Learning/en/week06/06-3/)\n",
        "- [Neuromatch Deep Learning Tutorials](https://deeplearning.neuromatch.io/tutorials/W2D3_ModernRecurrentNeuralNetworks/student/W2D3_Tutorial2.html#section-1-2-train-and-test-the-network)"
      ]
    },
    {
      "cell_type": "markdown",
      "metadata": {
        "id": "STZgP2iChuOj"
      },
      "source": [
        "# Setup"
      ]
    },
    {
      "cell_type": "code",
      "metadata": {
        "id": "PYaQdOV-BDgv"
      },
      "source": [
        "import math\n",
        "import time\n",
        "import random\n",
        "import collections\n",
        "import six\n",
        "\n",
        "import numpy as np\n",
        "import matplotlib.pyplot as plt\n",
        "\n",
        "import torch\n",
        "import torch.nn as nn\n",
        "from torch.nn import functional as F\n",
        "\n",
        "from torchtext.legacy import data, datasets\n",
        "\n",
        "SEED = 42\n",
        "DEVICE = torch.device(\"cuda\" if torch.cuda.is_available() else \"cpu\")"
      ],
      "execution_count": null,
      "outputs": []
    },
    {
      "cell_type": "code",
      "metadata": {
        "id": "txAKpMDvesyw"
      },
      "source": [
        "def pad_sequences(sequences, maxlen=None, dtype='int32',\n",
        "                  padding='pre', truncating='pre', value=0.):\n",
        "    if not hasattr(sequences, '__len__'):\n",
        "        raise ValueError('`sequences` must be iterable.')\n",
        "    lengths = []\n",
        "    for x in sequences:\n",
        "        if not hasattr(x, '__len__'):\n",
        "            raise ValueError('`sequences` must be a list of iterables. '\n",
        "                             'Found non-iterable: ' + str(x))\n",
        "        lengths.append(len(x))\n",
        "\n",
        "    num_samples = len(sequences)\n",
        "    if maxlen is None:\n",
        "        maxlen = np.max(lengths)\n",
        "\n",
        "    # take the sample shape from the first non empty sequence\n",
        "    # checking for consistency in the main loop below.\n",
        "    sample_shape = tuple()\n",
        "    for s in sequences:\n",
        "        if len(s) > 0:\n",
        "            sample_shape = np.asarray(s).shape[1:]\n",
        "            break\n",
        "\n",
        "    is_dtype_str = np.issubdtype(dtype, np.str_) or np.issubdtype(dtype, np.unicode_)\n",
        "    if isinstance(value, six.string_types) and dtype != object and not is_dtype_str:\n",
        "        raise ValueError(\"`dtype` {} is not compatible with `value`'s type: {}\\n\"\n",
        "                         \"You should set `dtype=object` for variable length strings.\"\n",
        "                         .format(dtype, type(value)))\n",
        "\n",
        "    x = np.full((num_samples, maxlen) + sample_shape, value, dtype=dtype)\n",
        "    for idx, s in enumerate(sequences):\n",
        "        if not len(s):\n",
        "            continue  # empty list/array was found\n",
        "        if truncating == 'pre':\n",
        "            trunc = s[-maxlen:]\n",
        "        elif truncating == 'post':\n",
        "            trunc = s[:maxlen]\n",
        "        else:\n",
        "            raise ValueError('Truncating type \"%s\" '\n",
        "                             'not understood' % truncating)\n",
        "\n",
        "        # check `trunc` has expected shape\n",
        "        trunc = np.asarray(trunc, dtype=dtype)\n",
        "        if trunc.shape[1:] != sample_shape:\n",
        "            raise ValueError('Shape of sample %s of sequence at position %s '\n",
        "                             'is different from expected shape %s' %\n",
        "                             (trunc.shape[1:], idx, sample_shape))\n",
        "\n",
        "        if padding == 'post':\n",
        "            x[idx, :len(trunc)] = trunc\n",
        "        elif padding == 'pre':\n",
        "            x[idx, -len(trunc):] = trunc\n",
        "        else:\n",
        "            raise ValueError('Padding type \"%s\" not understood' % padding)\n",
        "    return x\n",
        "\n",
        "def to_categorical(y, num_classes=None, dtype='float32'):\n",
        "    y = np.array(y, dtype='int')\n",
        "    input_shape = y.shape\n",
        "    if input_shape and input_shape[-1] == 1 and len(input_shape) > 1:\n",
        "        input_shape = tuple(input_shape[:-1])\n",
        "    y = y.ravel()\n",
        "    if not num_classes:\n",
        "        num_classes = np.max(y) + 1\n",
        "    n = y.shape[0]\n",
        "    categorical = np.zeros((n, num_classes), dtype=dtype)\n",
        "    categorical[np.arange(n), y] = 1\n",
        "    output_shape = input_shape + (num_classes,)\n",
        "    categorical = np.reshape(categorical, output_shape)\n",
        "    return categorical\n",
        "\n",
        "\n",
        "class QRSU():\n",
        "    \"\"\"\n",
        "    From Hochreiter&Schmidhuber(1997):\n",
        "\n",
        "        The goal is to classify sequences. Elements and targets are represented locally\n",
        "        (input vectors with only one non-zero bit). The sequence starts with an E, ends\n",
        "        with a B (the \"trigger symbol\") and otherwise consists of randomly chosen symbols\n",
        "        from the set {a, b, c, d} except for two elements at positions t1 and t2 that are\n",
        "        either X or Y . The sequence length is randomly chosen between 100 and 110, t1 is\n",
        "        randomly chosen between 10 and 20, and t2 is randomly chosen between 50 and 60.\n",
        "        There are 4 sequence classes Q, R, S, U which depend on the temporal order of X and Y.\n",
        "        The rules are:\n",
        "            X, X -> Q,\n",
        "            X, Y -> R,\n",
        "            Y , X -> S,\n",
        "            Y , Y -> U.\n",
        "\n",
        "    \"\"\"\n",
        "\n",
        "    def __init__(self, length_range=(100, 111), t1_range=(10, 21), t2_range=(50, 61),\n",
        "                 batch_size=32, seed=None):\n",
        "\n",
        "        self.classes = ['Q', 'R', 'S', 'U']\n",
        "        self.n_classes = len(self.classes)\n",
        "\n",
        "        self.relevant_symbols = ['X', 'Y']\n",
        "        self.distraction_symbols = ['a', 'b', 'c', 'd']\n",
        "        self.start_symbol = 'B'\n",
        "        self.end_symbol = 'E'\n",
        "\n",
        "        self.length_range = length_range\n",
        "        self.t1_range = t1_range\n",
        "        self.t2_range = t2_range\n",
        "        self.batch_size = batch_size\n",
        "\n",
        "        if seed is not None:\n",
        "            np.random.seed(seed)\n",
        "\n",
        "        all_symbols = self.relevant_symbols + self.distraction_symbols + \\\n",
        "                      [self.start_symbol] + [self.end_symbol]\n",
        "        self.n_symbols = len(all_symbols)\n",
        "        self.s_to_idx = {s: n for n, s in enumerate(all_symbols)}\n",
        "        self.idx_to_s = {n: s for n, s in enumerate(all_symbols)}\n",
        "\n",
        "        self.c_to_idx = {c: n for n, c in enumerate(self.classes)}\n",
        "        self.idx_to_c = {n: c for n, c in enumerate(self.classes)}\n",
        "\n",
        "    def generate_pair(self):\n",
        "        length = np.random.randint(self.length_range[0], self.length_range[1])\n",
        "        t1 = np.random.randint(self.t1_range[0], self.t1_range[1])\n",
        "        t2 = np.random.randint(self.t2_range[0], self.t2_range[1])\n",
        "\n",
        "        x = np.random.choice(self.distraction_symbols, length)\n",
        "        x[0] = self.start_symbol\n",
        "        x[-1] = self.end_symbol\n",
        "\n",
        "        y = np.random.choice(self.classes)\n",
        "        if y == 'Q':\n",
        "            x[t1], x[t2] = self.relevant_symbols[0], self.relevant_symbols[0]\n",
        "        elif y == 'R':\n",
        "            x[t1], x[t2] = self.relevant_symbols[0], self.relevant_symbols[1]\n",
        "        elif y == 'S':\n",
        "            x[t1], x[t2] = self.relevant_symbols[1], self.relevant_symbols[0]\n",
        "        else:\n",
        "            x[t1], x[t2] = self.relevant_symbols[1], self.relevant_symbols[1]\n",
        "\n",
        "        return ''.join(x), y\n",
        "\n",
        "    # encoding/decoding single instance version\n",
        "\n",
        "    def encode_x(self, x):\n",
        "        idx_x = [self.s_to_idx[s] for s in x]\n",
        "        return to_categorical(idx_x, num_classes=self.n_symbols)\n",
        "\n",
        "    def encode_y(self, y):\n",
        "        idx_y = self.c_to_idx[y]\n",
        "        return to_categorical(idx_y, num_classes=self.n_classes)\n",
        "\n",
        "    def decode_x(self, x):\n",
        "        x = x[np.sum(x, axis=1) > 0]    # remove padding\n",
        "        return ''.join([self.idx_to_s[pos] for pos in np.argmax(x, axis=1)])\n",
        "\n",
        "    def decode_y(self, y):\n",
        "        return self.idx_to_c[np.argmax(y)]\n",
        "\n",
        "    # encoding/decoding batch versions\n",
        "\n",
        "    def encode_x_batch(self, x_batch):\n",
        "        return pad_sequences([self.encode_x(x) for x in x_batch],\n",
        "                             maxlen=self.length_range[1])\n",
        "\n",
        "    def encode_y_batch(self, y_batch):\n",
        "        return np.array([self.encode_y(y) for y in y_batch])\n",
        "\n",
        "    def decode_x_batch(self, x_batch):\n",
        "        return [self.decode_x(x) for x in x_batch]\n",
        "\n",
        "    def decode_y_batch(self, y_batch):\n",
        "        return [self.idx_to_c[pos] for pos in np.argmax(y_batch, axis=1)]\n",
        "\n",
        "    def __len__(self):\n",
        "        \"\"\" Let's assume 1000 sequences as the size of data. \"\"\"\n",
        "        return int(1000. / self.batch_size)\n",
        "\n",
        "    def __getitem__(self, index):\n",
        "        batch_x, batch_y = [], []\n",
        "        for _ in range(self.batch_size):\n",
        "            x, y = self.generate_pair()\n",
        "            batch_x.append(x)\n",
        "            batch_y.append(y)\n",
        "        return self.encode_x_batch(batch_x), self.encode_y_batch(batch_y)\n",
        "\n",
        "    class DifficultyLevel:\n",
        "        \"\"\" On HARD, settings are identical to the original settings from the '97 paper.\"\"\"\n",
        "        EASY, NORMAL, MODERATE, HARD, NIGHTMARE = range(5)\n",
        "\n",
        "    @staticmethod\n",
        "    def get_predefined_generator(difficulty_level, batch_size=32, seed=8382):\n",
        "        EASY = QRSU.DifficultyLevel.EASY\n",
        "        NORMAL = QRSU.DifficultyLevel.NORMAL\n",
        "        MODERATE = QRSU.DifficultyLevel.MODERATE\n",
        "        HARD = QRSU.DifficultyLevel.HARD\n",
        "\n",
        "        if difficulty_level == EASY:\n",
        "            length_range = (7, 9)\n",
        "            t1_range = (1, 3)\n",
        "            t2_range = (4, 6)\n",
        "        elif difficulty_level == NORMAL:\n",
        "            length_range = (30, 41)\n",
        "            t1_range = (2, 6)\n",
        "            t2_range = (20, 28)\n",
        "        elif difficulty_level == MODERATE:\n",
        "            length_range = (60, 81)\n",
        "            t1_range = (10, 21)\n",
        "            t2_range = (45, 55)\n",
        "        elif difficulty_level == HARD:\n",
        "            length_range = (100, 111)\n",
        "            t1_range = (10, 21)\n",
        "            t2_range = (50, 61)\n",
        "        else:\n",
        "            length_range = (300, 501)\n",
        "            t1_range = (10, 81)\n",
        "            t2_range = (250, 291)\n",
        "        return QRSU(length_range, t1_range, t2_range,\n",
        "                                          batch_size, seed)"
      ],
      "execution_count": null,
      "outputs": []
    },
    {
      "cell_type": "code",
      "metadata": {
        "id": "XO9IrEmTFE8a"
      },
      "source": [
        "def plot_train_val(x, train, val, train_label,\n",
        "                   val_label, title, y_label,\n",
        "                   color):\n",
        "\n",
        "  plt.plot(x, train, label=train_label, color=color)\n",
        "  plt.plot(x, val, label=val_label, color=color, linestyle='--')\n",
        "  plt.legend(loc='lower right')\n",
        "  plt.xlabel('epoch')\n",
        "  plt.ylabel(y_label)\n",
        "  plt.title(title)\n",
        "\n",
        "\n",
        "def count_parameters(model):\n",
        "  parameters = sum(p.numel() for p in model.parameters() if p.requires_grad)\n",
        "  return parameters\n",
        "\n",
        "\n",
        "def init_weights(m):\n",
        "  if type(m) in (nn.Linear, nn.Conv1d):\n",
        "    nn.init.xavier_uniform_(m.weight)\n",
        "\n",
        "\n",
        "#  Dataset Loader\n",
        "def load_dataset(sentence_length=50, batch_size=32, seed=522):\n",
        "\n",
        "  TEXT = data.Field(sequential=True,\n",
        "                    tokenize=nltk.word_tokenize,\n",
        "                    lower=True,\n",
        "                    include_lengths=True,\n",
        "                    batch_first=True,\n",
        "                    fix_length=sentence_length)\n",
        "  LABEL = data.LabelField(dtype=torch.float)\n",
        "\n",
        "  train_data, test_data = datasets.IMDB.splits(TEXT, LABEL)\n",
        "\n",
        "  # If no specific vector embeddings are specified,\n",
        "  # Torchtext initializes random vector embeddings\n",
        "  # which would get updated during training through backpropagation.\n",
        "  TEXT.build_vocab(train_data)\n",
        "  LABEL.build_vocab(train_data)\n",
        "\n",
        "  train_data, valid_data = train_data.split(split_ratio=0.7,\n",
        "                                            random_state=random.seed(seed))\n",
        "  train_iter, valid_iter, test_iter = data.BucketIterator.splits((train_data, valid_data, test_data),\n",
        "                                                                  batch_size=batch_size, sort_key=lambda x: len(x.text),\n",
        "                                                                  repeat=False, shuffle=True)\n",
        "  vocab_size = len(TEXT.vocab)\n",
        "\n",
        "  print(f\"Data loading is completed. Sentence length: {sentence_length}, \"\n",
        "        f\"Batch size: {batch_size}, and seed: {seed}\")\n",
        "\n",
        "  return TEXT, vocab_size, train_iter, valid_iter, test_iter\n",
        "\n",
        "\n",
        "def text_from_dict(arr, dictionary):\n",
        "  text = []\n",
        "  for element in arr:\n",
        "    text.append(dictionary[element])\n",
        "  return text\n",
        "\n",
        "\n",
        "def view_data(TEXT, train_iter):\n",
        "  for idx, batch in enumerate(train_iter):\n",
        "    text = batch.text[0]\n",
        "    target = batch.label\n",
        "\n",
        "    for itr in range(25, 30):\n",
        "      print('Review: ', ' '.join(text_from_dict(text[itr], TEXT.vocab.itos)))\n",
        "      print('Label: ', int(target[itr].item()), '\\n')\n",
        "\n",
        "    print('[0: Negative Review, 1: Positive Review]')\n",
        "    if idx==0:\n",
        "      break\n"
      ],
      "execution_count": null,
      "outputs": []
    },
    {
      "cell_type": "markdown",
      "metadata": {
        "id": "7oQpknmehwZy"
      },
      "source": [
        "# Intro to RNNs"
      ]
    },
    {
      "cell_type": "markdown",
      "metadata": {
        "id": "BE0ESIE2oXc2"
      },
      "source": [
        "![image.png](data:image/png;base64,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)"
      ]
    },
    {
      "cell_type": "markdown",
      "metadata": {
        "id": "7_Ana0seAkcQ"
      },
      "source": [
        "# An Example Task\n",
        "\n",
        "Original experiment from Hochreiter & Schmidhuber (1997).\n",
        "\n",
        "The goal is to classify sequences. Elements and targets are represented locally (input vectors with only one non-zero bit). The sequence starts with an B, ends with a E (the “trigger symbol”), and otherwise consists of randomly chosen symbols from the set {a, b, c, d} except for two elements at positions t1 and t2 that are either X or Y. For the DifficultyLevel.HARD case, the sequence length is randomly chosen between 100 and 110, t1 is randomly chosen between 10 and 20, and t2 is randomly chosen between 50 and 60. There are 4 sequence classes Q, R, S, and U, which depend on the temporal order of X and Y.\n",
        "\n",
        "The rules are:\n",
        "\n",
        "X, X -> Q,\n",
        "\n",
        "X, Y -> R,\n",
        "\n",
        "Y, X -> S,\n",
        "\n",
        "Y, Y -> U.\n"
      ]
    },
    {
      "cell_type": "code",
      "metadata": {
        "colab": {
          "base_uri": "https://localhost:8080/"
        },
        "id": "1OQCsnp3hyDe",
        "outputId": "97212362-908d-40dd-8eb8-ed4532e23548"
      },
      "source": [
        "# Create a data generator\n",
        "example_generator = QRSU.get_predefined_generator(\n",
        "    difficulty_level=QRSU.DifficultyLevel.EASY,\n",
        "    batch_size=32,\n",
        ")\n",
        "\n",
        "example_batch = example_generator[1]\n",
        "print(f'The return type is a {type(example_batch)} with length {len(example_batch)}.')\n",
        "print(f'The first item in the tuple is the batch of sequences with shape {example_batch[0].shape}.')\n",
        "print(f'The first element in the batch of sequences is:\\n {example_batch[0][0, :, :]}')\n",
        "print(f'The second item in the tuple is the corresponding batch of class labels with shape {example_batch[1].shape}.')\n",
        "print(f'The first element in the batch of class labels is:\\n {example_batch[1][0, :]}')"
      ],
      "execution_count": null,
      "outputs": [
        {
          "output_type": "stream",
          "name": "stdout",
          "text": [
            "The return type is a <class 'tuple'> with length 2.\n",
            "The first item in the tuple is the batch of sequences with shape (32, 9, 8).\n",
            "The first element in the batch of sequences is:\n",
            " [[0 0 0 0 0 0 0 0]\n",
            " [0 0 0 0 0 0 1 0]\n",
            " [0 0 0 1 0 0 0 0]\n",
            " [1 0 0 0 0 0 0 0]\n",
            " [0 0 0 0 1 0 0 0]\n",
            " [1 0 0 0 0 0 0 0]\n",
            " [0 0 0 0 1 0 0 0]\n",
            " [0 0 0 1 0 0 0 0]\n",
            " [0 0 0 0 0 0 0 1]]\n",
            "The second item in the tuple is the corresponding batch of class labels with shape (32, 4).\n",
            "The first element in the batch of class labels is:\n",
            " [1. 0. 0. 0.]\n"
          ]
        }
      ]
    },
    {
      "cell_type": "code",
      "metadata": {
        "colab": {
          "base_uri": "https://localhost:8080/"
        },
        "id": "FZjdMlgfncXW",
        "outputId": "abe71653-9303-4b04-d0f1-ce931995011d"
      },
      "source": [
        "# Decoding the first sequence\n",
        "sequence_decoded = example_generator.decode_x(example_batch[0][0, :, :])\n",
        "print(f'The sequence is: {sequence_decoded}')\n",
        "\n",
        "# Decoding the class label of the first sequence\n",
        "class_label_decoded = example_generator.decode_y(example_batch[1][0])\n",
        "print(f'The class label is: {class_label_decoded}')"
      ],
      "execution_count": null,
      "outputs": [
        {
          "output_type": "stream",
          "name": "stdout",
          "text": [
            "The sequence is: BbXcXcbE\n",
            "The class label is: Q\n"
          ]
        }
      ]
    },
    {
      "cell_type": "markdown",
      "metadata": {
        "id": "VT9MHmUCBw-K"
      },
      "source": [
        "## Vanilla RNN Model Definition"
      ]
    },
    {
      "cell_type": "code",
      "metadata": {
        "id": "zr0TImclA2bB"
      },
      "source": [
        "class ScratchRNN(nn.Module):\n",
        "    def __init__(self, input_size, hidden_size, output_size):\n",
        "        super().__init__()\n",
        "\n",
        "        self.c2h = nn.Linear(input_size+hidden_size, hidden_size)\n",
        "        self.c2o = nn.Linear(input_size+hidden_size, output_size)\n",
        "\n",
        " \n",
        "    def forward(self, x, hidden):\n",
        "        combined = torch.cat(x, hidden)\n",
        "        hidden = self.c2h(combined)\n",
        "        output = self.c2o(combined)\n",
        "        return output, hidden\n",
        "\n"
      ],
      "execution_count": null,
      "outputs": []
    },
    {
      "cell_type": "markdown",
      "metadata": {
        "id": "xS0WbZK1Byhh"
      },
      "source": [
        "## Training Loop Definition"
      ]
    },
    {
      "cell_type": "code",
      "metadata": {
        "id": "RV1fH20lA2Oq"
      },
      "source": [
        "def train(model, train_data_gen, criterion, optimizer, device):\n",
        "    # Set the model to training mode. This will turn on layers that would\n",
        "    # otherwise behave differently during evaluation, such as dropout.\n",
        "    model.train()\n",
        "\n",
        "    # Store the number of sequences that were classified correctly\n",
        "    num_correct = 0\n",
        "\n",
        "    # Iterate over every batch of sequences. Note that the length of a data generator\n",
        "    # is defined as the number of batches required to produce a total of roughly 1000\n",
        "    # sequences given a batch size.\n",
        "    for batch_idx in range(len(train_data_gen)):\n",
        "\n",
        "        # Request a batch of sequences and class labels, convert them into tensors\n",
        "        # of the correct type, and then send them to the appropriate device.\n",
        "        data, target = train_data_gen[batch_idx]\n",
        "        data, target = torch.from_numpy(data).float().to(device), torch.from_numpy(target).long().to(device)\n",
        "\n",
        "        # TODO: Fill in training code \n",
        "\n",
        "    return num_correct, loss.item()"
      ],
      "execution_count": null,
      "outputs": []
    },
    {
      "cell_type": "markdown",
      "metadata": {
        "id": "6sNZMWDkB1a1"
      },
      "source": [
        "## Testing Loop Definition"
      ]
    },
    {
      "cell_type": "code",
      "metadata": {
        "id": "NF31_G3UB2Ql"
      },
      "source": [
        "def test(model, test_data_gen, criterion, device):\n",
        "    # Set the model to evaluation mode. This will turn off layers that would\n",
        "    # otherwise behave differently during training, such as dropout.\n",
        "    model.eval()\n",
        "\n",
        "    # Store the number of sequences that were classified correctly\n",
        "    num_correct = 0\n",
        "\n",
        "    # A context manager is used to disable gradient calculations during inference\n",
        "    # to reduce memory usage, as we typically don't need the gradients at this point.\n",
        "    with torch.no_grad():\n",
        "        for batch_idx in range(len(test_data_gen)):\n",
        "            data, target = test_data_gen[batch_idx]\n",
        "            data, target = torch.from_numpy(data).float().to(device), torch.from_numpy(target).long().to(device)\n",
        "\n",
        "            # TODO: Fill in testing code\n",
        "\n",
        "    return num_correct, loss.item()"
      ],
      "execution_count": null,
      "outputs": []
    },
    {
      "cell_type": "markdown",
      "metadata": {
        "id": "aBhrrgOcB9xm"
      },
      "source": [
        "## RNN Evaluation"
      ]
    },
    {
      "cell_type": "code",
      "metadata": {
        "id": "pe8CWDWrCWNY"
      },
      "source": [
        "def train_and_test(model, train_data_gen, test_data_gen, criterion, optimizer, max_epochs, verbose=True):\n",
        "    # Automatically determine the device that PyTorch should use for computation\n",
        "    device = torch.device('cuda:0' if torch.cuda.is_available() else 'cpu')\n",
        "\n",
        "    # Move model to the device which will be used for train and test\n",
        "    model.to(device)\n",
        "\n",
        "    # Track the value of the loss function and model accuracy across epochs\n",
        "    history_train = {'loss': [], 'acc': []}\n",
        "    history_test = {'loss': [], 'acc': []}\n",
        "\n",
        "    for epoch in range(max_epochs):\n",
        "        # Run the training loop and calculate the accuracy.\n",
        "        # Remember that the length of a data generator is the number of batches,\n",
        "        # so we multiply it by the batch size to recover the total number of sequences.\n",
        "        num_correct, loss = train(model, train_data_gen, criterion, optimizer, device)\n",
        "        accuracy = float(num_correct) / (len(train_data_gen) * train_data_gen.batch_size) * 100\n",
        "        history_train['loss'].append(loss)\n",
        "        history_train['acc'].append(accuracy)\n",
        "\n",
        "        # Do the same for the testing loop\n",
        "        num_correct, loss = test(model, test_data_gen, criterion, device)\n",
        "        accuracy = float(num_correct) / (len(test_data_gen) * test_data_gen.batch_size) * 100\n",
        "        history_test['loss'].append(loss)\n",
        "        history_test['acc'].append(accuracy)\n",
        "\n",
        "        if verbose or epoch + 1 == max_epochs:\n",
        "            print(f'[Epoch {epoch + 1}/{max_epochs}]'\n",
        "                  f\" loss: {history_train['loss'][-1]:.4f}, acc: {history_train['acc'][-1]:2.2f}%\"\n",
        "                  f\" - test_loss: {history_test['loss'][-1]:.4f}, test_acc: {history_test['acc'][-1]:2.2f}%\")\n",
        "\n",
        "    # Generate diagnostic plots for the loss and accuracy\n",
        "    fig, axes = plt.subplots(ncols=2, figsize=(9, 4.5))\n",
        "    for ax, metric in zip(axes, ['loss', 'acc']):\n",
        "        ax.plot(history_train[metric])\n",
        "        ax.plot(history_test[metric])\n",
        "        ax.set_xlabel('epoch', fontsize=12)\n",
        "        ax.set_ylabel(metric, fontsize=12)\n",
        "        ax.legend(['Train', 'Test'], loc='best')\n",
        "    plt.show()\n",
        "\n",
        "    return model\n",
        "\n",
        "def evaluate_model(model, difficulty, seed=9001, verbose=False):\n",
        "    # Define a dictionary that maps class indices to labels\n",
        "    class_idx_to_label = {0: 'Q', 1: 'R', 2: 'S', 3: 'U'}\n",
        "\n",
        "    # Create a new data generator\n",
        "    data_generator = QRSU.get_predefined_generator(difficulty, seed=seed)\n",
        "\n",
        "    # Track the number of times a class appears\n",
        "    count_classes = collections.Counter()\n",
        "\n",
        "    # Keep correctly classified and misclassified sequences, and their\n",
        "    # true and predicted class labels, for diagnostic information.\n",
        "    correct = []\n",
        "    incorrect = []\n",
        "\n",
        "    device = torch.device('cuda:0' if torch.cuda.is_available() else 'cpu')\n",
        "\n",
        "    model.eval()\n",
        "\n",
        "    with torch.no_grad():\n",
        "        for batch_idx in range(len(data_generator)):\n",
        "            data, target = test_data_gen[batch_idx]\n",
        "            data, target = torch.from_numpy(data).float().to(device), torch.from_numpy(target).long().to(device)\n",
        "\n",
        "            data_decoded = data_generator.decode_x_batch(data.cpu().numpy())\n",
        "            target_decoded = data_generator.decode_y_batch(target.cpu().numpy())\n",
        "\n",
        "            output = model(data)\n",
        "            sequence_end = torch.tensor([len(sequence) for sequence in data_decoded]) - 1\n",
        "            output = output[torch.arange(data.shape[0]).long(), sequence_end, :]\n",
        "\n",
        "            target = target.argmax(dim=1)\n",
        "            y_pred = output.argmax(dim=1)\n",
        "            y_pred_decoded = [class_idx_to_label[y.item()] for y in y_pred]\n",
        "\n",
        "            count_classes.update(target_decoded)\n",
        "            for i, (truth, prediction) in enumerate(zip(target_decoded, y_pred_decoded)):\n",
        "                if truth == prediction:\n",
        "                    correct.append((data_decoded[i], truth, prediction))\n",
        "                else:\n",
        "                    incorrect.append((data_decoded[i], truth, prediction))\n",
        "\n",
        "    num_sequences = sum(count_classes.values())\n",
        "    accuracy = float(len(correct)) / num_sequences * 100\n",
        "    print(f'The accuracy of the model is measured to be {accuracy:.2f}%.\\n')\n",
        "\n",
        "    # Report the accuracy by class\n",
        "    for label in sorted(count_classes):\n",
        "        num_correct = sum(1 for _, truth, _ in correct if truth == label)\n",
        "        print(f'{label}: {num_correct} / {count_classes[label]} correct')\n",
        "\n",
        "    # Report some random sequences for examination\n",
        "    print('\\nHere are some example sequences:')\n",
        "    for i in range(10):\n",
        "        sequence, truth, prediction = correct[random.randrange(0, 10)]\n",
        "        print(f'{sequence} -> {truth} was labelled {prediction}')\n",
        "\n",
        "    # Report misclassified sequences for investigation\n",
        "    if incorrect and verbose:\n",
        "        print('\\nThe following sequences were misclassified:')\n",
        "        for sequence, truth, prediction in incorrect:\n",
        "            print(f'{sequence} -> {truth} was labelled {prediction}')\n",
        "    else:\n",
        "        print('\\nThere were no misclassified sequences.')"
      ],
      "execution_count": null,
      "outputs": []
    },
    {
      "cell_type": "code",
      "metadata": {
        "id": "ZTNJFe1SPIkT"
      },
      "source": [
        "# Setup the training and test data generators\n",
        "difficulty     = QRSU.DifficultyLevel.EASY\n",
        "batch_size     = 32\n",
        "train_data_gen = QRSU.get_predefined_generator(difficulty, batch_size)\n",
        "test_data_gen  = QRSU.get_predefined_generator(difficulty, batch_size)\n",
        "\n",
        "# Setup the RNN and training settings\n",
        "input_size  = train_data_gen.n_symbols\n",
        "hidden_size = 4\n",
        "output_size = train_data_gen.n_classes\n",
        "model       = SimpleRNN(input_size, hidden_size, output_size)\n",
        "criterion   = torch.nn.CrossEntropyLoss()\n",
        "optimizer   = torch.optim.RMSprop(model.parameters(), lr=0.001)\n",
        "max_epochs  = 10\n",
        "\n",
        "# Train the model\n",
        "model = train_and_test(model, train_data_gen, test_data_gen, criterion, optimizer, max_epochs)"
      ],
      "execution_count": null,
      "outputs": []
    },
    {
      "cell_type": "code",
      "metadata": {
        "id": "ef_2dLApPuHk"
      },
      "source": [
        "evaluate_model(model, difficulty)"
      ],
      "execution_count": null,
      "outputs": []
    },
    {
      "cell_type": "markdown",
      "metadata": {
        "id": "vGeAMaRdKH0i"
      },
      "source": [
        "## Vanilla GRU Definition"
      ]
    },
    {
      "cell_type": "markdown",
      "metadata": {
        "id": "47wx_AWLOC22"
      },
      "source": [
        "![image.png](data:image/png;base64,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)"
      ]
    },
    {
      "cell_type": "code",
      "metadata": {
        "id": "f5Chqo8WMzzN"
      },
      "source": [
        "class SimpleGRU(nn.Module):\n",
        "        def __init__(self, input_size, hidden_size, output_size):\n",
        "        super().__init__()\n",
        "\n",
        "        # TODO: Define weights\n",
        "\n",
        " \n",
        "    def forward(self, x):\n",
        "        # TODO: Define forward pass"
      ],
      "execution_count": null,
      "outputs": []
    },
    {
      "cell_type": "markdown",
      "metadata": {
        "id": "a_-wFppzKOcp"
      },
      "source": [
        "## GRU Evaluation"
      ]
    },
    {
      "cell_type": "code",
      "metadata": {
        "id": "r8-rFzeVPObB"
      },
      "source": [
        "# Setup the training and test data generators\n",
        "difficulty     = QRSU.DifficultyLevel.EASY\n",
        "batch_size     = 32\n",
        "train_data_gen = QRSU.get_predefined_generator(difficulty, batch_size)\n",
        "test_data_gen  = QRSU.get_predefined_generator(difficulty, batch_size)\n",
        "\n",
        "# Setup the RNN and training settings\n",
        "input_size  = train_data_gen.n_symbols\n",
        "hidden_size = 4\n",
        "output_size = train_data_gen.n_classes\n",
        "model       = SimpleGRU(input_size, hidden_size, output_size)\n",
        "criterion   = torch.nn.CrossEntropyLoss()\n",
        "optimizer   = torch.optim.RMSprop(model.parameters(), lr=0.001)\n",
        "max_epochs  = 10\n",
        "\n",
        "# Train the model\n",
        "model = train_and_test(model, train_data_gen, test_data_gen, criterion, optimizer, max_epochs)"
      ],
      "execution_count": null,
      "outputs": []
    },
    {
      "cell_type": "code",
      "metadata": {
        "id": "SyYn6LU3PvcA"
      },
      "source": [
        "evaluate_model(model, difficulty)"
      ],
      "execution_count": null,
      "outputs": []
    },
    {
      "cell_type": "markdown",
      "metadata": {
        "id": "qG6nSGfOCRYQ"
      },
      "source": [
        "## Peeking at the computation graph"
      ]
    },
    {
      "cell_type": "code",
      "metadata": {
        "id": "9lyU1WJzCahW"
      },
      "source": [
        ""
      ],
      "execution_count": null,
      "outputs": []
    },
    {
      "cell_type": "markdown",
      "metadata": {
        "id": "MbGf3uhhCbNh"
      },
      "source": [
        "# More realistic data"
      ]
    },
    {
      "cell_type": "code",
      "metadata": {
        "colab": {
          "base_uri": "https://localhost:8080/",
          "height": 658
        },
        "id": "CQkRYY0aFZVW",
        "outputId": "c433dd56-f27d-485e-9e2f-5707dc9fefd5"
      },
      "source": [
        "TEXT, vocab_size, train_iter, valid_iter, test_iter = load_dataset(seed=SEED)\n",
        "view_data(TEXT, train_iter)"
      ],
      "execution_count": null,
      "outputs": [
        {
          "output_type": "stream",
          "name": "stdout",
          "text": [
            "downloading aclImdb_v1.tar.gz\n"
          ]
        },
        {
          "output_type": "stream",
          "name": "stderr",
          "text": [
            "aclImdb_v1.tar.gz: 100%|██████████| 84.1M/84.1M [00:03<00:00, 26.9MB/s]\n"
          ]
        },
        {
          "output_type": "error",
          "ename": "LookupError",
          "evalue": "ignored",
          "traceback": [
            "\u001b[0;31m---------------------------------------------------------------------------\u001b[0m",
            "\u001b[0;31mLookupError\u001b[0m                               Traceback (most recent call last)",
            "\u001b[0;32m<ipython-input-4-8ccf9834bea8>\u001b[0m in \u001b[0;36m<module>\u001b[0;34m()\u001b[0m\n\u001b[0;32m----> 1\u001b[0;31m \u001b[0mTEXT\u001b[0m\u001b[0;34m,\u001b[0m \u001b[0mvocab_size\u001b[0m\u001b[0;34m,\u001b[0m \u001b[0mtrain_iter\u001b[0m\u001b[0;34m,\u001b[0m \u001b[0mvalid_iter\u001b[0m\u001b[0;34m,\u001b[0m \u001b[0mtest_iter\u001b[0m \u001b[0;34m=\u001b[0m \u001b[0mload_dataset\u001b[0m\u001b[0;34m(\u001b[0m\u001b[0mseed\u001b[0m\u001b[0;34m=\u001b[0m\u001b[0mSEED\u001b[0m\u001b[0;34m)\u001b[0m\u001b[0;34m\u001b[0m\u001b[0;34m\u001b[0m\u001b[0m\n\u001b[0m\u001b[1;32m      2\u001b[0m \u001b[0mview_data\u001b[0m\u001b[0;34m(\u001b[0m\u001b[0mTEXT\u001b[0m\u001b[0;34m,\u001b[0m \u001b[0mtrain_iter\u001b[0m\u001b[0;34m)\u001b[0m\u001b[0;34m\u001b[0m\u001b[0;34m\u001b[0m\u001b[0m\n",
            "\u001b[0;32m<ipython-input-3-df4d8a82fc25>\u001b[0m in \u001b[0;36mload_dataset\u001b[0;34m(sentence_length, batch_size, seed)\u001b[0m\n\u001b[1;32m     32\u001b[0m   \u001b[0mLABEL\u001b[0m \u001b[0;34m=\u001b[0m \u001b[0mdata\u001b[0m\u001b[0;34m.\u001b[0m\u001b[0mLabelField\u001b[0m\u001b[0;34m(\u001b[0m\u001b[0mdtype\u001b[0m\u001b[0;34m=\u001b[0m\u001b[0mtorch\u001b[0m\u001b[0;34m.\u001b[0m\u001b[0mfloat\u001b[0m\u001b[0;34m)\u001b[0m\u001b[0;34m\u001b[0m\u001b[0;34m\u001b[0m\u001b[0m\n\u001b[1;32m     33\u001b[0m \u001b[0;34m\u001b[0m\u001b[0m\n\u001b[0;32m---> 34\u001b[0;31m   \u001b[0mtrain_data\u001b[0m\u001b[0;34m,\u001b[0m \u001b[0mtest_data\u001b[0m \u001b[0;34m=\u001b[0m \u001b[0mdatasets\u001b[0m\u001b[0;34m.\u001b[0m\u001b[0mIMDB\u001b[0m\u001b[0;34m.\u001b[0m\u001b[0msplits\u001b[0m\u001b[0;34m(\u001b[0m\u001b[0mTEXT\u001b[0m\u001b[0;34m,\u001b[0m \u001b[0mLABEL\u001b[0m\u001b[0;34m)\u001b[0m\u001b[0;34m\u001b[0m\u001b[0;34m\u001b[0m\u001b[0m\n\u001b[0m\u001b[1;32m     35\u001b[0m \u001b[0;34m\u001b[0m\u001b[0m\n\u001b[1;32m     36\u001b[0m   \u001b[0;31m# If no specific vector embeddings are specified,\u001b[0m\u001b[0;34m\u001b[0m\u001b[0;34m\u001b[0m\u001b[0;34m\u001b[0m\u001b[0m\n",
            "\u001b[0;32m/usr/local/lib/python3.7/dist-packages/torchtext/legacy/datasets/imdb.py\u001b[0m in \u001b[0;36msplits\u001b[0;34m(cls, text_field, label_field, root, train, test, **kwargs)\u001b[0m\n\u001b[1;32m     53\u001b[0m         return super(IMDB, cls).splits(\n\u001b[1;32m     54\u001b[0m             \u001b[0mroot\u001b[0m\u001b[0;34m=\u001b[0m\u001b[0mroot\u001b[0m\u001b[0;34m,\u001b[0m \u001b[0mtext_field\u001b[0m\u001b[0;34m=\u001b[0m\u001b[0mtext_field\u001b[0m\u001b[0;34m,\u001b[0m \u001b[0mlabel_field\u001b[0m\u001b[0;34m=\u001b[0m\u001b[0mlabel_field\u001b[0m\u001b[0;34m,\u001b[0m\u001b[0;34m\u001b[0m\u001b[0;34m\u001b[0m\u001b[0m\n\u001b[0;32m---> 55\u001b[0;31m             train=train, validation=None, test=test, **kwargs)\n\u001b[0m\u001b[1;32m     56\u001b[0m \u001b[0;34m\u001b[0m\u001b[0m\n\u001b[1;32m     57\u001b[0m     \u001b[0;34m@\u001b[0m\u001b[0mclassmethod\u001b[0m\u001b[0;34m\u001b[0m\u001b[0;34m\u001b[0m\u001b[0m\n",
            "\u001b[0;32m/usr/local/lib/python3.7/dist-packages/torchtext/legacy/data/dataset.py\u001b[0m in \u001b[0;36msplits\u001b[0;34m(cls, path, root, train, validation, test, **kwargs)\u001b[0m\n\u001b[1;32m     76\u001b[0m             \u001b[0mpath\u001b[0m \u001b[0;34m=\u001b[0m \u001b[0mcls\u001b[0m\u001b[0;34m.\u001b[0m\u001b[0mdownload\u001b[0m\u001b[0;34m(\u001b[0m\u001b[0mroot\u001b[0m\u001b[0;34m)\u001b[0m\u001b[0;34m\u001b[0m\u001b[0;34m\u001b[0m\u001b[0m\n\u001b[1;32m     77\u001b[0m         train_data = None if train is None else cls(\n\u001b[0;32m---> 78\u001b[0;31m             os.path.join(path, train), **kwargs)\n\u001b[0m\u001b[1;32m     79\u001b[0m         val_data = None if validation is None else cls(\n\u001b[1;32m     80\u001b[0m             os.path.join(path, validation), **kwargs)\n",
            "\u001b[0;32m/usr/local/lib/python3.7/dist-packages/torchtext/legacy/datasets/imdb.py\u001b[0m in \u001b[0;36m__init__\u001b[0;34m(self, path, text_field, label_field, **kwargs)\u001b[0m\n\u001b[1;32m     33\u001b[0m                 \u001b[0;32mwith\u001b[0m \u001b[0mio\u001b[0m\u001b[0;34m.\u001b[0m\u001b[0mopen\u001b[0m\u001b[0;34m(\u001b[0m\u001b[0mfname\u001b[0m\u001b[0;34m,\u001b[0m \u001b[0;34m'r'\u001b[0m\u001b[0;34m,\u001b[0m \u001b[0mencoding\u001b[0m\u001b[0;34m=\u001b[0m\u001b[0;34m\"utf-8\"\u001b[0m\u001b[0;34m)\u001b[0m \u001b[0;32mas\u001b[0m \u001b[0mf\u001b[0m\u001b[0;34m:\u001b[0m\u001b[0;34m\u001b[0m\u001b[0;34m\u001b[0m\u001b[0m\n\u001b[1;32m     34\u001b[0m                     \u001b[0mtext\u001b[0m \u001b[0;34m=\u001b[0m \u001b[0mf\u001b[0m\u001b[0;34m.\u001b[0m\u001b[0mreadline\u001b[0m\u001b[0;34m(\u001b[0m\u001b[0;34m)\u001b[0m\u001b[0;34m\u001b[0m\u001b[0;34m\u001b[0m\u001b[0m\n\u001b[0;32m---> 35\u001b[0;31m                 \u001b[0mexamples\u001b[0m\u001b[0;34m.\u001b[0m\u001b[0mappend\u001b[0m\u001b[0;34m(\u001b[0m\u001b[0mdata\u001b[0m\u001b[0;34m.\u001b[0m\u001b[0mExample\u001b[0m\u001b[0;34m.\u001b[0m\u001b[0mfromlist\u001b[0m\u001b[0;34m(\u001b[0m\u001b[0;34m[\u001b[0m\u001b[0mtext\u001b[0m\u001b[0;34m,\u001b[0m \u001b[0mlabel\u001b[0m\u001b[0;34m]\u001b[0m\u001b[0;34m,\u001b[0m \u001b[0mfields\u001b[0m\u001b[0;34m)\u001b[0m\u001b[0;34m)\u001b[0m\u001b[0;34m\u001b[0m\u001b[0;34m\u001b[0m\u001b[0m\n\u001b[0m\u001b[1;32m     36\u001b[0m \u001b[0;34m\u001b[0m\u001b[0m\n\u001b[1;32m     37\u001b[0m         \u001b[0msuper\u001b[0m\u001b[0;34m(\u001b[0m\u001b[0mIMDB\u001b[0m\u001b[0;34m,\u001b[0m \u001b[0mself\u001b[0m\u001b[0;34m)\u001b[0m\u001b[0;34m.\u001b[0m\u001b[0m__init__\u001b[0m\u001b[0;34m(\u001b[0m\u001b[0mexamples\u001b[0m\u001b[0;34m,\u001b[0m \u001b[0mfields\u001b[0m\u001b[0;34m,\u001b[0m \u001b[0;34m**\u001b[0m\u001b[0mkwargs\u001b[0m\u001b[0;34m)\u001b[0m\u001b[0;34m\u001b[0m\u001b[0;34m\u001b[0m\u001b[0m\n",
            "\u001b[0;32m/usr/local/lib/python3.7/dist-packages/torchtext/legacy/data/example.py\u001b[0m in \u001b[0;36mfromlist\u001b[0;34m(cls, data, fields)\u001b[0m\n\u001b[1;32m     82\u001b[0m                         \u001b[0msetattr\u001b[0m\u001b[0;34m(\u001b[0m\u001b[0mex\u001b[0m\u001b[0;34m,\u001b[0m \u001b[0mn\u001b[0m\u001b[0;34m,\u001b[0m \u001b[0mf\u001b[0m\u001b[0;34m.\u001b[0m\u001b[0mpreprocess\u001b[0m\u001b[0;34m(\u001b[0m\u001b[0mval\u001b[0m\u001b[0;34m)\u001b[0m\u001b[0;34m)\u001b[0m\u001b[0;34m\u001b[0m\u001b[0;34m\u001b[0m\u001b[0m\n\u001b[1;32m     83\u001b[0m                 \u001b[0;32melse\u001b[0m\u001b[0;34m:\u001b[0m\u001b[0;34m\u001b[0m\u001b[0;34m\u001b[0m\u001b[0m\n\u001b[0;32m---> 84\u001b[0;31m                     \u001b[0msetattr\u001b[0m\u001b[0;34m(\u001b[0m\u001b[0mex\u001b[0m\u001b[0;34m,\u001b[0m \u001b[0mname\u001b[0m\u001b[0;34m,\u001b[0m \u001b[0mfield\u001b[0m\u001b[0;34m.\u001b[0m\u001b[0mpreprocess\u001b[0m\u001b[0;34m(\u001b[0m\u001b[0mval\u001b[0m\u001b[0;34m)\u001b[0m\u001b[0;34m)\u001b[0m\u001b[0;34m\u001b[0m\u001b[0;34m\u001b[0m\u001b[0m\n\u001b[0m\u001b[1;32m     85\u001b[0m         \u001b[0;32mreturn\u001b[0m \u001b[0mex\u001b[0m\u001b[0;34m\u001b[0m\u001b[0;34m\u001b[0m\u001b[0m\n\u001b[1;32m     86\u001b[0m \u001b[0;34m\u001b[0m\u001b[0m\n",
            "\u001b[0;32m/usr/local/lib/python3.7/dist-packages/torchtext/legacy/data/field.py\u001b[0m in \u001b[0;36mpreprocess\u001b[0;34m(self, x)\u001b[0m\n\u001b[1;32m    207\u001b[0m         `preprocessing` Pipeline.\"\"\"\n\u001b[1;32m    208\u001b[0m         \u001b[0;32mif\u001b[0m \u001b[0mself\u001b[0m\u001b[0;34m.\u001b[0m\u001b[0msequential\u001b[0m \u001b[0;32mand\u001b[0m \u001b[0misinstance\u001b[0m\u001b[0;34m(\u001b[0m\u001b[0mx\u001b[0m\u001b[0;34m,\u001b[0m \u001b[0mstr\u001b[0m\u001b[0;34m)\u001b[0m\u001b[0;34m:\u001b[0m\u001b[0;34m\u001b[0m\u001b[0;34m\u001b[0m\u001b[0m\n\u001b[0;32m--> 209\u001b[0;31m             \u001b[0mx\u001b[0m \u001b[0;34m=\u001b[0m \u001b[0mself\u001b[0m\u001b[0;34m.\u001b[0m\u001b[0mtokenize\u001b[0m\u001b[0;34m(\u001b[0m\u001b[0mx\u001b[0m\u001b[0;34m.\u001b[0m\u001b[0mrstrip\u001b[0m\u001b[0;34m(\u001b[0m\u001b[0;34m'\\n'\u001b[0m\u001b[0;34m)\u001b[0m\u001b[0;34m)\u001b[0m\u001b[0;34m\u001b[0m\u001b[0;34m\u001b[0m\u001b[0m\n\u001b[0m\u001b[1;32m    210\u001b[0m         \u001b[0;32mif\u001b[0m \u001b[0mself\u001b[0m\u001b[0;34m.\u001b[0m\u001b[0mlower\u001b[0m\u001b[0;34m:\u001b[0m\u001b[0;34m\u001b[0m\u001b[0;34m\u001b[0m\u001b[0m\n\u001b[1;32m    211\u001b[0m             \u001b[0mx\u001b[0m \u001b[0;34m=\u001b[0m \u001b[0mPipeline\u001b[0m\u001b[0;34m(\u001b[0m\u001b[0mstr\u001b[0m\u001b[0;34m.\u001b[0m\u001b[0mlower\u001b[0m\u001b[0;34m)\u001b[0m\u001b[0;34m(\u001b[0m\u001b[0mx\u001b[0m\u001b[0;34m)\u001b[0m\u001b[0;34m\u001b[0m\u001b[0;34m\u001b[0m\u001b[0m\n",
            "\u001b[0;32m/usr/local/lib/python3.7/dist-packages/nltk/tokenize/__init__.py\u001b[0m in \u001b[0;36mword_tokenize\u001b[0;34m(text, language, preserve_line)\u001b[0m\n\u001b[1;32m    126\u001b[0m     \u001b[0;34m:\u001b[0m\u001b[0mtype\u001b[0m \u001b[0mpreserver_line\u001b[0m\u001b[0;34m:\u001b[0m \u001b[0mbool\u001b[0m\u001b[0;34m\u001b[0m\u001b[0;34m\u001b[0m\u001b[0m\n\u001b[1;32m    127\u001b[0m     \"\"\"\n\u001b[0;32m--> 128\u001b[0;31m     \u001b[0msentences\u001b[0m \u001b[0;34m=\u001b[0m \u001b[0;34m[\u001b[0m\u001b[0mtext\u001b[0m\u001b[0;34m]\u001b[0m \u001b[0;32mif\u001b[0m \u001b[0mpreserve_line\u001b[0m \u001b[0;32melse\u001b[0m \u001b[0msent_tokenize\u001b[0m\u001b[0;34m(\u001b[0m\u001b[0mtext\u001b[0m\u001b[0;34m,\u001b[0m \u001b[0mlanguage\u001b[0m\u001b[0;34m)\u001b[0m\u001b[0;34m\u001b[0m\u001b[0;34m\u001b[0m\u001b[0m\n\u001b[0m\u001b[1;32m    129\u001b[0m     return [token for sent in sentences\n\u001b[1;32m    130\u001b[0m             for token in _treebank_word_tokenizer.tokenize(sent)]\n",
            "\u001b[0;32m/usr/local/lib/python3.7/dist-packages/nltk/tokenize/__init__.py\u001b[0m in \u001b[0;36msent_tokenize\u001b[0;34m(text, language)\u001b[0m\n\u001b[1;32m     92\u001b[0m     \u001b[0;34m:\u001b[0m\u001b[0mparam\u001b[0m \u001b[0mlanguage\u001b[0m\u001b[0;34m:\u001b[0m \u001b[0mthe\u001b[0m \u001b[0mmodel\u001b[0m \u001b[0mname\u001b[0m \u001b[0;32min\u001b[0m \u001b[0mthe\u001b[0m \u001b[0mPunkt\u001b[0m \u001b[0mcorpus\u001b[0m\u001b[0;34m\u001b[0m\u001b[0;34m\u001b[0m\u001b[0m\n\u001b[1;32m     93\u001b[0m     \"\"\"\n\u001b[0;32m---> 94\u001b[0;31m     \u001b[0mtokenizer\u001b[0m \u001b[0;34m=\u001b[0m \u001b[0mload\u001b[0m\u001b[0;34m(\u001b[0m\u001b[0;34m'tokenizers/punkt/{0}.pickle'\u001b[0m\u001b[0;34m.\u001b[0m\u001b[0mformat\u001b[0m\u001b[0;34m(\u001b[0m\u001b[0mlanguage\u001b[0m\u001b[0;34m)\u001b[0m\u001b[0;34m)\u001b[0m\u001b[0;34m\u001b[0m\u001b[0;34m\u001b[0m\u001b[0m\n\u001b[0m\u001b[1;32m     95\u001b[0m     \u001b[0;32mreturn\u001b[0m \u001b[0mtokenizer\u001b[0m\u001b[0;34m.\u001b[0m\u001b[0mtokenize\u001b[0m\u001b[0;34m(\u001b[0m\u001b[0mtext\u001b[0m\u001b[0;34m)\u001b[0m\u001b[0;34m\u001b[0m\u001b[0;34m\u001b[0m\u001b[0m\n\u001b[1;32m     96\u001b[0m \u001b[0;34m\u001b[0m\u001b[0m\n",
            "\u001b[0;32m/usr/local/lib/python3.7/dist-packages/nltk/data.py\u001b[0m in \u001b[0;36mload\u001b[0;34m(resource_url, format, cache, verbose, logic_parser, fstruct_reader, encoding)\u001b[0m\n\u001b[1;32m    832\u001b[0m \u001b[0;34m\u001b[0m\u001b[0m\n\u001b[1;32m    833\u001b[0m     \u001b[0;31m# Load the resource.\u001b[0m\u001b[0;34m\u001b[0m\u001b[0;34m\u001b[0m\u001b[0;34m\u001b[0m\u001b[0m\n\u001b[0;32m--> 834\u001b[0;31m     \u001b[0mopened_resource\u001b[0m \u001b[0;34m=\u001b[0m \u001b[0m_open\u001b[0m\u001b[0;34m(\u001b[0m\u001b[0mresource_url\u001b[0m\u001b[0;34m)\u001b[0m\u001b[0;34m\u001b[0m\u001b[0;34m\u001b[0m\u001b[0m\n\u001b[0m\u001b[1;32m    835\u001b[0m \u001b[0;34m\u001b[0m\u001b[0m\n\u001b[1;32m    836\u001b[0m     \u001b[0;32mif\u001b[0m \u001b[0mformat\u001b[0m \u001b[0;34m==\u001b[0m \u001b[0;34m'raw'\u001b[0m\u001b[0;34m:\u001b[0m\u001b[0;34m\u001b[0m\u001b[0;34m\u001b[0m\u001b[0m\n",
            "\u001b[0;32m/usr/local/lib/python3.7/dist-packages/nltk/data.py\u001b[0m in \u001b[0;36m_open\u001b[0;34m(resource_url)\u001b[0m\n\u001b[1;32m    950\u001b[0m \u001b[0;34m\u001b[0m\u001b[0m\n\u001b[1;32m    951\u001b[0m     \u001b[0;32mif\u001b[0m \u001b[0mprotocol\u001b[0m \u001b[0;32mis\u001b[0m \u001b[0;32mNone\u001b[0m \u001b[0;32mor\u001b[0m \u001b[0mprotocol\u001b[0m\u001b[0;34m.\u001b[0m\u001b[0mlower\u001b[0m\u001b[0;34m(\u001b[0m\u001b[0;34m)\u001b[0m \u001b[0;34m==\u001b[0m \u001b[0;34m'nltk'\u001b[0m\u001b[0;34m:\u001b[0m\u001b[0;34m\u001b[0m\u001b[0;34m\u001b[0m\u001b[0m\n\u001b[0;32m--> 952\u001b[0;31m         \u001b[0;32mreturn\u001b[0m \u001b[0mfind\u001b[0m\u001b[0;34m(\u001b[0m\u001b[0mpath_\u001b[0m\u001b[0;34m,\u001b[0m \u001b[0mpath\u001b[0m \u001b[0;34m+\u001b[0m \u001b[0;34m[\u001b[0m\u001b[0;34m''\u001b[0m\u001b[0;34m]\u001b[0m\u001b[0;34m)\u001b[0m\u001b[0;34m.\u001b[0m\u001b[0mopen\u001b[0m\u001b[0;34m(\u001b[0m\u001b[0;34m)\u001b[0m\u001b[0;34m\u001b[0m\u001b[0;34m\u001b[0m\u001b[0m\n\u001b[0m\u001b[1;32m    953\u001b[0m     \u001b[0;32melif\u001b[0m \u001b[0mprotocol\u001b[0m\u001b[0;34m.\u001b[0m\u001b[0mlower\u001b[0m\u001b[0;34m(\u001b[0m\u001b[0;34m)\u001b[0m \u001b[0;34m==\u001b[0m \u001b[0;34m'file'\u001b[0m\u001b[0;34m:\u001b[0m\u001b[0;34m\u001b[0m\u001b[0;34m\u001b[0m\u001b[0m\n\u001b[1;32m    954\u001b[0m         \u001b[0;31m# urllib might not use mode='rb', so handle this one ourselves:\u001b[0m\u001b[0;34m\u001b[0m\u001b[0;34m\u001b[0m\u001b[0;34m\u001b[0m\u001b[0m\n",
            "\u001b[0;32m/usr/local/lib/python3.7/dist-packages/nltk/data.py\u001b[0m in \u001b[0;36mfind\u001b[0;34m(resource_name, paths)\u001b[0m\n\u001b[1;32m    671\u001b[0m     \u001b[0msep\u001b[0m \u001b[0;34m=\u001b[0m \u001b[0;34m'*'\u001b[0m \u001b[0;34m*\u001b[0m \u001b[0;36m70\u001b[0m\u001b[0;34m\u001b[0m\u001b[0;34m\u001b[0m\u001b[0m\n\u001b[1;32m    672\u001b[0m     \u001b[0mresource_not_found\u001b[0m \u001b[0;34m=\u001b[0m \u001b[0;34m'\\n%s\\n%s\\n%s\\n'\u001b[0m \u001b[0;34m%\u001b[0m \u001b[0;34m(\u001b[0m\u001b[0msep\u001b[0m\u001b[0;34m,\u001b[0m \u001b[0mmsg\u001b[0m\u001b[0;34m,\u001b[0m \u001b[0msep\u001b[0m\u001b[0;34m)\u001b[0m\u001b[0;34m\u001b[0m\u001b[0;34m\u001b[0m\u001b[0m\n\u001b[0;32m--> 673\u001b[0;31m     \u001b[0;32mraise\u001b[0m \u001b[0mLookupError\u001b[0m\u001b[0;34m(\u001b[0m\u001b[0mresource_not_found\u001b[0m\u001b[0;34m)\u001b[0m\u001b[0;34m\u001b[0m\u001b[0;34m\u001b[0m\u001b[0m\n\u001b[0m\u001b[1;32m    674\u001b[0m \u001b[0;34m\u001b[0m\u001b[0m\n\u001b[1;32m    675\u001b[0m \u001b[0;34m\u001b[0m\u001b[0m\n",
            "\u001b[0;31mLookupError\u001b[0m: \n**********************************************************************\n  Resource \u001b[93mpunkt\u001b[0m not found.\n  Please use the NLTK Downloader to obtain the resource:\n\n  \u001b[31m>>> import nltk\n  >>> nltk.download('punkt')\n  \u001b[0m\n  Searched in:\n    - '/root/nltk_data'\n    - '/usr/share/nltk_data'\n    - '/usr/local/share/nltk_data'\n    - '/usr/lib/nltk_data'\n    - '/usr/local/lib/nltk_data'\n    - '/usr/nltk_data'\n    - '/usr/lib/nltk_data'\n    - ''\n**********************************************************************\n"
          ]
        }
      ]
    },
    {
      "cell_type": "markdown",
      "metadata": {
        "id": "r9t1j3VxGQVj"
      },
      "source": [
        "## Model Definition\n",
        "\n",
        "- Use nn.Embedding. You are given the vocab_size which is the size of the dictionary of embeddings, and the embed_size which is the size of each embedding vector.\n",
        "\n",
        "- Use PyTorch's [RNN](https://pytorch.org/docs/stable/generated/torch.nn.RNN.html) class for convinience\n",
        "\n",
        "- Add 2 RNN layers. This would mean stacking two RNNs together to form a stacked RNN, with the second RNN taking in outputs of the first RNN and computing the final results. \n",
        "\n",
        "- Determine the size of inputs and outputs to the fully-connected layer.\n"
      ]
    },
    {
      "cell_type": "code",
      "metadata": {
        "id": "rOfFIa4rGLY0"
      },
      "source": [
        "class VanillaRNN(nn.Module):\n",
        "  def __init__(self, layers, output_size, hidden_size, vocab_size, embed_size,\n",
        "               device):\n",
        "    super(VanillaRNN, self).__init__()\n",
        "    self.n_layers= layers\n",
        "    self.hidden_size = hidden_size\n",
        "    self.device = device\n",
        "    ####################################################################\n",
        "    # Fill in missing code below (...),\n",
        "    # then remove or comment the line below to test your function\n",
        "    raise NotImplementedError(\"Define the Vanilla RNN components\")\n",
        "    ####################################################################\n",
        "    # Define the embedding\n",
        "    self.embeddings = ...\n",
        "    # Define the RNN layer\n",
        "    self.rnn = ...\n",
        "    # Define the fully connected layer\n",
        "    self.fc = ...\n",
        "\n",
        "  def forward(self, inputs):\n",
        "    input = self.embeddings(inputs)\n",
        "    input = input.permute(1, 0, 2)\n",
        "    h_0 = torch.zeros(2, input.size()[1], self.hidden_size).to(self.device)\n",
        "    output, h_n = self.rnn(input, h_0)\n",
        "    h_n = h_n.permute(1, 0, 2)\n",
        "    h_n = h_n.contiguous().reshape(h_n.size()[0], h_n.size()[1]*h_n.size()[2])\n",
        "    logits = self.fc(h_n)\n",
        "\n",
        "    return logits\n",
        "\n",
        "## Uncomment to test VanillaRNN class\n",
        "# sampleRNN = VanillaRNN(2, 10, 50, 1000, 300, DEVICE)\n",
        "# print(sampleRNN)"
      ],
      "execution_count": null,
      "outputs": []
    },
    {
      "cell_type": "markdown",
      "metadata": {
        "id": "BxOKt1EnIz3g"
      },
      "source": [
        "## Training Loop Definition"
      ]
    },
    {
      "cell_type": "code",
      "metadata": {
        "id": "II5QL3CKHt1N"
      },
      "source": [
        "def train(model, device, train_iter, valid_iter, epochs, learning_rate):\n",
        "  criterion = nn.CrossEntropyLoss()\n",
        "  optimizer = torch.optim.Adam(model.parameters(), lr=learning_rate)\n",
        "\n",
        "  train_loss, validation_loss = [], []\n",
        "  train_acc, validation_acc = [], []\n",
        "\n",
        "  for epoch in range(epochs):\n",
        "    #train\n",
        "    model.train()\n",
        "    running_loss = 0.\n",
        "    correct, total = 0, 0\n",
        "    steps = 0\n",
        "\n",
        "    for idx, batch in enumerate(train_iter):\n",
        "      text = batch.text[0]\n",
        "      # TODO: fill in training code\n",
        "    \n",
        "\n",
        "    train_loss.append(running_loss/len(train_iter))\n",
        "    train_acc.append(correct/total)\n",
        "\n",
        "    print(f'Epoch: {epoch + 1}, '\n",
        "          f'Training Loss: {running_loss/len(train_iter):.4f}, '\n",
        "          f'Training Accuracy: {100*correct/total: .2f}%')\n",
        "\n",
        "    # evaluate on validation data\n",
        "    model.eval()\n",
        "    running_loss = 0.\n",
        "    correct, total = 0, 0\n",
        "\n",
        "    with torch.no_grad():\n",
        "      for idx, batch in enumerate(valid_iter):\n",
        "        # TODO: Fill in validation code\n",
        "\n",
        "    validation_loss.append(running_loss/len(valid_iter))\n",
        "    validation_acc.append(correct/total)\n",
        "\n",
        "    print (f'Validation Loss: {running_loss/len(valid_iter):.4f}, '\n",
        "           f'Validation Accuracy: {100*correct/total: .2f}%')\n",
        "\n",
        "  return train_loss, train_acc, validation_loss, validation_acc"
      ],
      "execution_count": null,
      "outputs": []
    },
    {
      "cell_type": "markdown",
      "metadata": {
        "id": "631znES4JFLy"
      },
      "source": [
        "## Testing Loop Definition"
      ]
    },
    {
      "cell_type": "code",
      "metadata": {
        "id": "hEa08QWQIykN"
      },
      "source": [
        "# Testing function\n",
        "def test(model, data, device):\n",
        "  model.eval()\n",
        "  correct = 0\n",
        "  total = 0\n",
        "  with torch.no_grad():\n",
        "    for idx, batch in enumerate(data):\n",
        "      text = batch.text[0]\n",
        "      target = batch.label\n",
        "      target = torch.autograd.Variable(target).long()\n",
        "      text, target = text.to(device), target.to(device)\n",
        "\n",
        "      outputs = model(text)\n",
        "      _, predicted = torch.max(outputs, 1)\n",
        "      total += target.size(0)\n",
        "      correct += (predicted == target).sum().item()\n",
        "\n",
        "    acc = 100 * correct / total\n",
        "    return acc"
      ],
      "execution_count": null,
      "outputs": []
    },
    {
      "cell_type": "markdown",
      "metadata": {
        "id": "ezitk2cWJMCT"
      },
      "source": [
        "## Evaluation"
      ]
    },
    {
      "cell_type": "code",
      "metadata": {
        "id": "Dh0TsCPZJM7r"
      },
      "source": [
        "# Model hyperparamters\n",
        "learning_rate = 0.0002\n",
        "layers = 2\n",
        "output_size = 2\n",
        "hidden_size = 50  # 100\n",
        "embedding_length = 100\n",
        "epochs = 10\n",
        "\n",
        "\n",
        "# Initialize model, training and testing\n",
        "set_seed(SEED)\n",
        "vanilla_rnn_model = VanillaRNN(layers, output_size, hidden_size, vocab_size,\n",
        "                               embedding_length, DEVICE)\n",
        "vanilla_rnn_model.to(DEVICE)\n",
        "vanilla_rnn_start_time = time.time()\n",
        "vanilla_train_loss, vanilla_train_acc, vanilla_validation_loss, vanilla_validation_acc = train(vanilla_rnn_model,\n",
        "                                                                                               DEVICE,\n",
        "                                                                                               train_iter,\n",
        "                                                                                               valid_iter,\n",
        "                                                                                               epochs,\n",
        "                                                                                               learning_rate)\n",
        "print(\"--- Time taken to train = %s seconds ---\" % (time.time() - vanilla_rnn_start_time))\n",
        "test_accuracy = test(vanilla_rnn_model, DEVICE, test_iter)\n",
        "print(f'Test Accuracy: {test_accuracy} with len=50\\n')\n",
        "\n",
        "# Number of model parameters\n",
        "print(f'Number of parameters = {count_parameters(vanilla_rnn_model)}')\n",
        "\n",
        "\n",
        "# Plot accuracy curves\n",
        "plt.figure()\n",
        "plt.subplot(211)\n",
        "plot_train_val(np.arange(0, epochs), vanilla_train_acc, vanilla_validation_acc,\n",
        "               'train accuracy', 'val accuracy',\n",
        "               'Vanilla RNN on IMDB text classification', 'accuracy',\n",
        "               color='C0')\n",
        "plt.legend(loc='upper left')\n",
        "plt.subplot(212)\n",
        "plot_train_val(np.arange(0, epochs), vanilla_train_loss,\n",
        "               vanilla_validation_loss,\n",
        "               'train loss', 'val loss',\n",
        "               'Vanilla RNN on IMDB text classification',\n",
        "               'loss [a.u.]',\n",
        "               color='C0')\n",
        "plt.legend(loc='upper left')\n",
        "plt.show()"
      ],
      "execution_count": null,
      "outputs": []
    },
    {
      "cell_type": "markdown",
      "metadata": {
        "id": "LUQ10aPqJVG2"
      },
      "source": [
        "## Comparing with longer input length"
      ]
    },
    {
      "cell_type": "code",
      "metadata": {
        "id": "e7guX_d6JdOt"
      },
      "source": [
        "TEXT_long, vocab_size_long, train_iter_long, valid_iter_long, test_iter_long = load_dataset(sentence_length=200)"
      ],
      "execution_count": null,
      "outputs": []
    },
    {
      "cell_type": "code",
      "metadata": {
        "id": "xcxD8nX7JXUj"
      },
      "source": [
        "# Model hyperparamters\n",
        "learning_rate = 0.0002\n",
        "layers = 2\n",
        "output_size = 2\n",
        "hidden_size = 50  # 100\n",
        "embedding_length = 100\n",
        "epochs = 10\n",
        "\n",
        "# Initialize model, training, testing\n",
        "set_seed(SEED)\n",
        "vanilla_rnn_model_long = VanillaRNN(layers, output_size, hidden_size,\n",
        "                                    vocab_size_long, embedding_length, DEVICE)\n",
        "vanilla_rnn_model_long.to(DEVICE)\n",
        "vanilla_rnn_start_time_long = time.time()\n",
        "vanilla_train_loss_long, vanilla_train_acc_long, vanilla_validation_loss_long, vanilla_validation_acc_long = train(vanilla_rnn_model_long,\n",
        "                                                                                                                   DEVICE,\n",
        "                                                                                                                   train_iter_long,\n",
        "                                                                                                                   valid_iter_long,\n",
        "                                                                                                                   epochs,\n",
        "                                                                                                                   learning_rate)\n",
        "print(\"--- Time taken to train = %s seconds ---\" % (time.time() - vanilla_rnn_start_time_long))\n",
        "test_accuracy = test(vanilla_rnn_model_long, DEVICE, test_iter_long)\n",
        "print(f'Test Accuracy: {test_accuracy} with len=200\\n')\n",
        "\n",
        "# Number of parameters\n",
        "print(f'\\nNumber of parameters = {count_parameters(vanilla_rnn_model_long)}')"
      ],
      "execution_count": null,
      "outputs": []
    },
    {
      "cell_type": "code",
      "metadata": {
        "id": "GjNmPbqRJap5"
      },
      "source": [
        "# Compare accuracies of model trained on different sentence lengths\n",
        "plot_train_val(np.arange(0, epochs), vanilla_train_acc,\n",
        "               vanilla_validation_acc,\n",
        "               'train accuracy, len=50', 'val accuracy, len=50',\n",
        "               '', 'accuracy',\n",
        "               color='C0')\n",
        "plot_train_val(np.arange(0, epochs), vanilla_train_acc_long,\n",
        "               vanilla_validation_acc_long,\n",
        "               'train accuracy, len=200', 'val accuracy, len=200',\n",
        "               'Training and Validation Accuracy for Sentence Lengths 50 and 200',\n",
        "               'accuracy',\n",
        "               color='C1')\n",
        "plt.legend(loc='upper left')\n",
        "plt.show()"
      ],
      "execution_count": null,
      "outputs": []
    },
    {
      "cell_type": "code",
      "metadata": {
        "id": "mWms1h9nMwwM"
      },
      "source": [
        ""
      ],
      "execution_count": null,
      "outputs": []
    }
  ]
}